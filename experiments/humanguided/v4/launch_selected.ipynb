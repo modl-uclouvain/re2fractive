{
 "cells": [
  {
   "cell_type": "code",
   "execution_count": 1,
   "metadata": {},
   "outputs": [
    {
     "name": "stderr",
     "output_type": "stream",
     "text": [
      "/home/vtrinquet/anaconda3/envs/atom2env_dev_v2/lib/python3.10/site-packages/tqdm/auto.py:21: TqdmWarning: IProgress not found. Please update jupyter and ipywidgets. See https://ipywidgets.readthedocs.io/en/stable/user_install.html\n",
      "  from .autonotebook import tqdm as notebook_tqdm\n"
     ]
    }
   ],
   "source": [
    "# python env: atom2_env_dev_v2\n",
    "\n",
    "import json                                                                                                                             \n",
    "import monty.json\n",
    "import numpy as np\n",
    "import pandas as pd\n",
    "import traceback as tb\n",
    "import sys\n",
    " \n",
    "from pymatgen.core.structure import Structure\n",
    " \n",
    "from atomate2.vasp.jobs.core import DielectricMaker\n",
    "from atomate2.vasp.powerups import (\n",
    "    update_user_incar_settings,\n",
    "    update_user_potcar_functional,\n",
    "    update_user_kpoints_settings\n",
    ")\n",
    " \n",
    "from fireworks import LaunchPad\n",
    "from importlib import reload\n",
    " \n",
    "from jobflow import Flow\n",
    "from jobflow import run_locally\n",
    "from jobflow.managers.fireworks import flow_to_workflow\n",
    " \n",
    "from pathlib import Path\n",
    "import pickle\n",
    "from tqdm import tqdm"
   ]
  },
  {
   "cell_type": "markdown",
   "metadata": {},
   "source": [
    "# LaunchPad"
   ]
  },
  {
   "cell_type": "code",
   "execution_count": 3,
   "metadata": {},
   "outputs": [
    {
     "name": "stderr",
     "output_type": "stream",
     "text": [
      "0it [00:00, ?it/s]"
     ]
    },
    {
     "name": "stdout",
     "output_type": "stream",
     "text": [
      "2024-01-23 15:08:08,273 INFO Added a workflow. id_map: {-8: 8548}\n",
      "2024-01-23 15:08:08,306 INFO Added a workflow. id_map: {-9: 8549}\n"
     ]
    },
    {
     "name": "stderr",
     "output_type": "stream",
     "text": [
      "/home/vtrinquet/Softwares_Packages/Github/atomate2/src/atomate2/vasp/sets/base.py:360: BadInputSetWarning: Overriding the POTCAR functional is generally not recommended as it can significantly affect the results of calculations and compatibility with other calculations done with the same input set. Note that some POTCAR symbols specified in the configuration file may not be available in the selected functional.\n",
      "  warnings.warn(\n",
      "2it [00:00, 16.19it/s]"
     ]
    },
    {
     "name": "stdout",
     "output_type": "stream",
     "text": [
      "2024-01-23 15:08:08,361 INFO Added a workflow. id_map: {-10: 8550}\n",
      "2024-01-23 15:08:08,428 INFO Added a workflow. id_map: {-11: 8551}\n"
     ]
    },
    {
     "name": "stderr",
     "output_type": "stream",
     "text": [
      "4it [00:00, 16.29it/s]"
     ]
    },
    {
     "name": "stdout",
     "output_type": "stream",
     "text": [
      "2024-01-23 15:08:08,514 INFO Added a workflow. id_map: {-12: 8552}\n",
      "2024-01-23 15:08:08,578 INFO Added a workflow. id_map: {-13: 8553}\n"
     ]
    },
    {
     "name": "stderr",
     "output_type": "stream",
     "text": [
      "6it [00:00, 14.80it/s]"
     ]
    },
    {
     "name": "stdout",
     "output_type": "stream",
     "text": [
      "2024-01-23 15:08:08,653 INFO Added a workflow. id_map: {-14: 8554}\n",
      "2024-01-23 15:08:08,713 INFO Added a workflow. id_map: {-15: 8555}\n"
     ]
    },
    {
     "name": "stderr",
     "output_type": "stream",
     "text": [
      "8it [00:00, 14.81it/s]"
     ]
    },
    {
     "name": "stdout",
     "output_type": "stream",
     "text": [
      "2024-01-23 15:08:08,773 INFO Added a workflow. id_map: {-16: 8556}\n",
      "2024-01-23 15:08:08,835 INFO Added a workflow. id_map: {-17: 8557}\n"
     ]
    },
    {
     "name": "stderr",
     "output_type": "stream",
     "text": [
      "10it [00:00, 15.32it/s]"
     ]
    },
    {
     "name": "stdout",
     "output_type": "stream",
     "text": [
      "2024-01-23 15:08:08,897 INFO Added a workflow. id_map: {-18: 8558}\n",
      "2024-01-23 15:08:08,963 INFO Added a workflow. id_map: {-19: 8559}\n"
     ]
    },
    {
     "name": "stderr",
     "output_type": "stream",
     "text": [
      "12it [00:00, 15.45it/s]"
     ]
    },
    {
     "name": "stdout",
     "output_type": "stream",
     "text": [
      "2024-01-23 15:08:09,023 INFO Added a workflow. id_map: {-20: 8560}\n",
      "2024-01-23 15:08:09,083 INFO Added a workflow. id_map: {-21: 8561}\n"
     ]
    },
    {
     "name": "stderr",
     "output_type": "stream",
     "text": [
      "14it [00:00, 15.79it/s]"
     ]
    },
    {
     "name": "stdout",
     "output_type": "stream",
     "text": [
      "2024-01-23 15:08:09,301 INFO Added a workflow. id_map: {-22: 8562}\n",
      "2024-01-23 15:08:09,384 INFO Added a workflow. id_map: {-23: 8563}\n"
     ]
    },
    {
     "name": "stderr",
     "output_type": "stream",
     "text": [
      "16it [00:01, 10.99it/s]"
     ]
    },
    {
     "name": "stdout",
     "output_type": "stream",
     "text": [
      "2024-01-23 15:08:09,452 INFO Added a workflow. id_map: {-24: 8564}\n",
      "2024-01-23 15:08:09,490 INFO Added a workflow. id_map: {-25: 8565}\n"
     ]
    },
    {
     "name": "stderr",
     "output_type": "stream",
     "text": [
      "18it [00:01, 12.64it/s]"
     ]
    },
    {
     "name": "stdout",
     "output_type": "stream",
     "text": [
      "2024-01-23 15:08:09,561 INFO Added a workflow. id_map: {-26: 8566}\n",
      "2024-01-23 15:08:09,590 INFO Added a workflow. id_map: {-27: 8567}\n",
      "2024-01-23 15:08:09,623 INFO Added a workflow. id_map: {-28: 8568}\n"
     ]
    },
    {
     "name": "stderr",
     "output_type": "stream",
     "text": [
      "21it [00:01, 15.35it/s]"
     ]
    },
    {
     "name": "stdout",
     "output_type": "stream",
     "text": [
      "2024-01-23 15:08:09,683 INFO Added a workflow. id_map: {-29: 8569}\n",
      "2024-01-23 15:08:09,719 INFO Added a workflow. id_map: {-30: 8570}\n",
      "2024-01-23 15:08:09,777 INFO Added a workflow. id_map: {-31: 8571}\n"
     ]
    },
    {
     "name": "stderr",
     "output_type": "stream",
     "text": [
      "24it [00:01, 16.64it/s]"
     ]
    },
    {
     "name": "stdout",
     "output_type": "stream",
     "text": [
      "2024-01-23 15:08:09,841 INFO Added a workflow. id_map: {-32: 8572}\n",
      "2024-01-23 15:08:09,872 INFO Added a workflow. id_map: {-33: 8573}\n",
      "2024-01-23 15:08:09,913 INFO Added a workflow. id_map: {-34: 8574}\n"
     ]
    },
    {
     "name": "stderr",
     "output_type": "stream",
     "text": [
      "27it [00:01, 18.14it/s]"
     ]
    },
    {
     "name": "stdout",
     "output_type": "stream",
     "text": [
      "2024-01-23 15:08:09,958 INFO Added a workflow. id_map: {-35: 8575}\n",
      "2024-01-23 15:08:10,024 INFO Added a workflow. id_map: {-36: 8576}\n"
     ]
    },
    {
     "name": "stderr",
     "output_type": "stream",
     "text": [
      "29it [00:01, 18.13it/s]"
     ]
    },
    {
     "name": "stdout",
     "output_type": "stream",
     "text": [
      "2024-01-23 15:08:10,070 INFO Added a workflow. id_map: {-37: 8577}\n",
      "2024-01-23 15:08:10,124 INFO Added a workflow. id_map: {-38: 8578}\n",
      "2024-01-23 15:08:10,154 INFO Added a workflow. id_map: {-39: 8579}\n"
     ]
    },
    {
     "name": "stderr",
     "output_type": "stream",
     "text": [
      "32it [00:01, 19.57it/s]"
     ]
    },
    {
     "name": "stdout",
     "output_type": "stream",
     "text": [
      "2024-01-23 15:08:10,189 INFO Added a workflow. id_map: {-40: 8580}\n",
      "2024-01-23 15:08:10,221 INFO Added a workflow. id_map: {-41: 8581}\n",
      "2024-01-23 15:08:10,253 INFO Added a workflow. id_map: {-42: 8582}\n",
      "2024-01-23 15:08:10,296 INFO Added a workflow. id_map: {-43: 8583}\n"
     ]
    },
    {
     "name": "stderr",
     "output_type": "stream",
     "text": [
      "36it [00:02, 22.26it/s]"
     ]
    },
    {
     "name": "stdout",
     "output_type": "stream",
     "text": [
      "2024-01-23 15:08:10,332 INFO Added a workflow. id_map: {-44: 8584}\n",
      "2024-01-23 15:08:10,382 INFO Added a workflow. id_map: {-45: 8585}\n",
      "2024-01-23 15:08:10,424 INFO Added a workflow. id_map: {-46: 8586}\n"
     ]
    },
    {
     "name": "stderr",
     "output_type": "stream",
     "text": [
      "39it [00:02, 22.64it/s]"
     ]
    },
    {
     "name": "stdout",
     "output_type": "stream",
     "text": [
      "2024-01-23 15:08:10,472 INFO Added a workflow. id_map: {-47: 8587}\n",
      "2024-01-23 15:08:10,503 INFO Added a workflow. id_map: {-48: 8588}\n",
      "2024-01-23 15:08:10,541 INFO Added a workflow. id_map: {-49: 8589}\n"
     ]
    },
    {
     "name": "stderr",
     "output_type": "stream",
     "text": [
      "42it [00:02, 23.44it/s]"
     ]
    },
    {
     "name": "stdout",
     "output_type": "stream",
     "text": [
      "2024-01-23 15:08:10,586 INFO Added a workflow. id_map: {-50: 8590}\n",
      "2024-01-23 15:08:10,627 INFO Added a workflow. id_map: {-51: 8591}\n",
      "2024-01-23 15:08:10,664 INFO Added a workflow. id_map: {-52: 8592}\n"
     ]
    },
    {
     "name": "stderr",
     "output_type": "stream",
     "text": [
      "45it [00:02, 23.65it/s]"
     ]
    },
    {
     "name": "stdout",
     "output_type": "stream",
     "text": [
      "2024-01-23 15:08:10,703 INFO Added a workflow. id_map: {-53: 8593}\n",
      "2024-01-23 15:08:10,735 INFO Added a workflow. id_map: {-54: 8594}\n",
      "2024-01-23 15:08:10,784 INFO Added a workflow. id_map: {-55: 8595}\n"
     ]
    },
    {
     "name": "stderr",
     "output_type": "stream",
     "text": [
      "48it [00:02, 24.07it/s]"
     ]
    },
    {
     "name": "stdout",
     "output_type": "stream",
     "text": [
      "2024-01-23 15:08:10,834 INFO Added a workflow. id_map: {-56: 8596}\n",
      "2024-01-23 15:08:10,895 INFO Added a workflow. id_map: {-57: 8597}\n",
      "2024-01-23 15:08:10,936 INFO Added a workflow. id_map: {-58: 8598}\n"
     ]
    },
    {
     "name": "stderr",
     "output_type": "stream",
     "text": [
      "51it [00:02, 22.63it/s]"
     ]
    },
    {
     "name": "stdout",
     "output_type": "stream",
     "text": [
      "2024-01-23 15:08:10,972 INFO Added a workflow. id_map: {-59: 8599}\n",
      "2024-01-23 15:08:11,027 INFO Added a workflow. id_map: {-60: 8600}\n",
      "2024-01-23 15:08:11,062 INFO Added a workflow. id_map: {-61: 8601}\n"
     ]
    },
    {
     "name": "stderr",
     "output_type": "stream",
     "text": [
      "54it [00:02, 22.96it/s]"
     ]
    },
    {
     "name": "stdout",
     "output_type": "stream",
     "text": [
      "2024-01-23 15:08:11,111 INFO Added a workflow. id_map: {-62: 8602}\n",
      "2024-01-23 15:08:11,193 INFO Added a workflow. id_map: {-63: 8603}\n",
      "2024-01-23 15:08:11,227 INFO Added a workflow. id_map: {-64: 8604}\n"
     ]
    },
    {
     "name": "stderr",
     "output_type": "stream",
     "text": [
      "57it [00:03, 21.28it/s]"
     ]
    },
    {
     "name": "stdout",
     "output_type": "stream",
     "text": [
      "2024-01-23 15:08:11,313 INFO Added a workflow. id_map: {-65: 8605}\n",
      "2024-01-23 15:08:11,360 INFO Added a workflow. id_map: {-66: 8606}\n",
      "2024-01-23 15:08:11,414 INFO Added a workflow. id_map: {-67: 8607}\n"
     ]
    },
    {
     "name": "stderr",
     "output_type": "stream",
     "text": [
      "60it [00:03, 19.36it/s]"
     ]
    },
    {
     "name": "stdout",
     "output_type": "stream",
     "text": [
      "2024-01-23 15:08:11,462 INFO Added a workflow. id_map: {-68: 8608}\n",
      "2024-01-23 15:08:11,513 INFO Added a workflow. id_map: {-69: 8609}\n",
      "2024-01-23 15:08:11,584 INFO Added a workflow. id_map: {-70: 8610}\n"
     ]
    },
    {
     "name": "stderr",
     "output_type": "stream",
     "text": [
      "63it [00:03, 18.81it/s]"
     ]
    },
    {
     "name": "stdout",
     "output_type": "stream",
     "text": [
      "2024-01-23 15:08:11,633 INFO Added a workflow. id_map: {-71: 8611}\n",
      "2024-01-23 15:08:11,692 INFO Added a workflow. id_map: {-72: 8612}\n"
     ]
    },
    {
     "name": "stderr",
     "output_type": "stream",
     "text": [
      "65it [00:03, 18.76it/s]"
     ]
    },
    {
     "name": "stdout",
     "output_type": "stream",
     "text": [
      "2024-01-23 15:08:11,730 INFO Added a workflow. id_map: {-73: 8613}\n",
      "2024-01-23 15:08:11,765 INFO Added a workflow. id_map: {-74: 8614}\n",
      "2024-01-23 15:08:11,817 INFO Added a workflow. id_map: {-75: 8615}\n"
     ]
    },
    {
     "name": "stderr",
     "output_type": "stream",
     "text": [
      "68it [00:03, 20.18it/s]"
     ]
    },
    {
     "name": "stdout",
     "output_type": "stream",
     "text": [
      "2024-01-23 15:08:11,878 INFO Added a workflow. id_map: {-76: 8616}\n",
      "2024-01-23 15:08:11,913 INFO Added a workflow. id_map: {-77: 8617}\n",
      "2024-01-23 15:08:11,964 INFO Added a workflow. id_map: {-78: 8618}\n"
     ]
    },
    {
     "name": "stderr",
     "output_type": "stream",
     "text": [
      "71it [00:03, 20.23it/s]"
     ]
    },
    {
     "name": "stdout",
     "output_type": "stream",
     "text": [
      "2024-01-23 15:08:12,005 INFO Added a workflow. id_map: {-79: 8619}\n",
      "2024-01-23 15:08:12,054 INFO Added a workflow. id_map: {-80: 8620}\n",
      "2024-01-23 15:08:12,108 INFO Added a workflow. id_map: {-81: 8621}\n"
     ]
    },
    {
     "name": "stderr",
     "output_type": "stream",
     "text": [
      "74it [00:03, 20.45it/s]"
     ]
    },
    {
     "name": "stdout",
     "output_type": "stream",
     "text": [
      "2024-01-23 15:08:12,144 INFO Added a workflow. id_map: {-82: 8622}\n",
      "2024-01-23 15:08:12,222 INFO Added a workflow. id_map: {-83: 8623}\n",
      "2024-01-23 15:08:12,262 INFO Added a workflow. id_map: {-84: 8624}\n"
     ]
    },
    {
     "name": "stderr",
     "output_type": "stream",
     "text": [
      "77it [00:04, 20.12it/s]"
     ]
    },
    {
     "name": "stdout",
     "output_type": "stream",
     "text": [
      "2024-01-23 15:08:12,314 INFO Added a workflow. id_map: {-85: 8625}\n",
      "2024-01-23 15:08:12,366 INFO Added a workflow. id_map: {-86: 8626}\n",
      "2024-01-23 15:08:12,446 INFO Added a workflow. id_map: {-87: 8627}\n"
     ]
    },
    {
     "name": "stderr",
     "output_type": "stream",
     "text": [
      "80it [00:04, 18.78it/s]"
     ]
    },
    {
     "name": "stdout",
     "output_type": "stream",
     "text": [
      "2024-01-23 15:08:12,510 INFO Added a workflow. id_map: {-88: 8628}\n",
      "2024-01-23 15:08:12,556 INFO Added a workflow. id_map: {-89: 8629}\n"
     ]
    },
    {
     "name": "stderr",
     "output_type": "stream",
     "text": [
      "82it [00:04, 18.65it/s]"
     ]
    },
    {
     "name": "stdout",
     "output_type": "stream",
     "text": [
      "2024-01-23 15:08:12,601 INFO Added a workflow. id_map: {-90: 8630}\n",
      "2024-01-23 15:08:12,694 INFO Added a workflow. id_map: {-91: 8631}\n"
     ]
    },
    {
     "name": "stderr",
     "output_type": "stream",
     "text": [
      "84it [00:04, 17.41it/s]"
     ]
    },
    {
     "name": "stdout",
     "output_type": "stream",
     "text": [
      "2024-01-23 15:08:12,739 INFO Added a workflow. id_map: {-92: 8632}\n",
      "2024-01-23 15:08:12,772 INFO Added a workflow. id_map: {-93: 8633}\n",
      "2024-01-23 15:08:12,833 INFO Added a workflow. id_map: {-94: 8634}\n"
     ]
    },
    {
     "name": "stderr",
     "output_type": "stream",
     "text": [
      "87it [00:04, 18.66it/s]"
     ]
    },
    {
     "name": "stdout",
     "output_type": "stream",
     "text": [
      "2024-01-23 15:08:12,885 INFO Added a workflow. id_map: {-95: 8635}\n",
      "2024-01-23 15:08:12,924 INFO Added a workflow. id_map: {-96: 8636}\n",
      "2024-01-23 15:08:12,977 INFO Added a workflow. id_map: {-97: 8637}\n"
     ]
    },
    {
     "name": "stderr",
     "output_type": "stream",
     "text": [
      "90it [00:04, 19.35it/s]"
     ]
    },
    {
     "name": "stdout",
     "output_type": "stream",
     "text": [
      "2024-01-23 15:08:13,019 INFO Added a workflow. id_map: {-98: 8638}\n",
      "2024-01-23 15:08:13,062 INFO Added a workflow. id_map: {-99: 8639}\n",
      "2024-01-23 15:08:13,106 INFO Added a workflow. id_map: {-100: 8640}\n"
     ]
    },
    {
     "name": "stderr",
     "output_type": "stream",
     "text": [
      "93it [00:04, 20.42it/s]"
     ]
    },
    {
     "name": "stdout",
     "output_type": "stream",
     "text": [
      "2024-01-23 15:08:13,153 INFO Added a workflow. id_map: {-101: 8641}\n",
      "2024-01-23 15:08:13,188 INFO Added a workflow. id_map: {-102: 8642}\n",
      "2024-01-23 15:08:13,246 INFO Added a workflow. id_map: {-103: 8643}\n"
     ]
    },
    {
     "name": "stderr",
     "output_type": "stream",
     "text": [
      "96it [00:05, 20.74it/s]"
     ]
    },
    {
     "name": "stdout",
     "output_type": "stream",
     "text": [
      "2024-01-23 15:08:13,300 INFO Added a workflow. id_map: {-104: 8644}\n",
      "2024-01-23 15:08:13,376 INFO Added a workflow. id_map: {-105: 8645}\n",
      "2024-01-23 15:08:13,432 INFO Added a workflow. id_map: {-106: 8646}\n"
     ]
    },
    {
     "name": "stderr",
     "output_type": "stream",
     "text": [
      "99it [00:05, 19.02it/s]"
     ]
    },
    {
     "name": "stdout",
     "output_type": "stream",
     "text": [
      "2024-01-23 15:08:13,480 INFO Added a workflow. id_map: {-107: 8647}\n",
      "2024-01-23 15:08:13,531 INFO Added a workflow. id_map: {-108: 8648}\n",
      "2024-01-23 15:08:13,594 INFO Added a workflow. id_map: {-109: 8649}\n"
     ]
    },
    {
     "name": "stderr",
     "output_type": "stream",
     "text": [
      "102it [00:05, 18.91it/s]"
     ]
    },
    {
     "name": "stdout",
     "output_type": "stream",
     "text": [
      "2024-01-23 15:08:13,656 INFO Added a workflow. id_map: {-110: 8650}\n",
      "2024-01-23 15:08:13,697 INFO Added a workflow. id_map: {-111: 8651}\n"
     ]
    },
    {
     "name": "stderr",
     "output_type": "stream",
     "text": [
      "104it [00:05, 18.99it/s]"
     ]
    },
    {
     "name": "stdout",
     "output_type": "stream",
     "text": [
      "2024-01-23 15:08:13,731 INFO Added a workflow. id_map: {-112: 8652}\n",
      "2024-01-23 15:08:13,765 INFO Added a workflow. id_map: {-113: 8653}\n",
      "2024-01-23 15:08:13,848 INFO Added a workflow. id_map: {-114: 8654}\n"
     ]
    },
    {
     "name": "stderr",
     "output_type": "stream",
     "text": [
      "107it [00:05, 19.25it/s]"
     ]
    },
    {
     "name": "stdout",
     "output_type": "stream",
     "text": [
      "2024-01-23 15:08:13,905 INFO Added a workflow. id_map: {-115: 8655}\n",
      "2024-01-23 15:08:13,951 INFO Added a workflow. id_map: {-116: 8656}\n"
     ]
    },
    {
     "name": "stderr",
     "output_type": "stream",
     "text": [
      "109it [00:05, 19.32it/s]"
     ]
    },
    {
     "name": "stdout",
     "output_type": "stream",
     "text": [
      "2024-01-23 15:08:13,996 INFO Added a workflow. id_map: {-117: 8657}\n",
      "2024-01-23 15:08:14,040 INFO Added a workflow. id_map: {-118: 8658}\n",
      "2024-01-23 15:08:14,098 INFO Added a workflow. id_map: {-119: 8659}\n"
     ]
    },
    {
     "name": "stderr",
     "output_type": "stream",
     "text": [
      "112it [00:05, 19.65it/s]"
     ]
    },
    {
     "name": "stdout",
     "output_type": "stream",
     "text": [
      "2024-01-23 15:08:14,151 INFO Added a workflow. id_map: {-120: 8660}\n",
      "2024-01-23 15:08:14,228 INFO Added a workflow. id_map: {-121: 8661}\n"
     ]
    },
    {
     "name": "stderr",
     "output_type": "stream",
     "text": [
      "114it [00:06, 18.46it/s]"
     ]
    },
    {
     "name": "stdout",
     "output_type": "stream",
     "text": [
      "2024-01-23 15:08:14,266 INFO Added a workflow. id_map: {-122: 8662}\n",
      "2024-01-23 15:08:14,306 INFO Added a workflow. id_map: {-123: 8663}\n",
      "2024-01-23 15:08:14,362 INFO Added a workflow. id_map: {-124: 8664}\n"
     ]
    },
    {
     "name": "stderr",
     "output_type": "stream",
     "text": [
      "117it [00:06, 19.60it/s]"
     ]
    },
    {
     "name": "stdout",
     "output_type": "stream",
     "text": [
      "2024-01-23 15:08:14,460 INFO Added a workflow. id_map: {-125: 8665}\n",
      "2024-01-23 15:08:14,493 INFO Added a workflow. id_map: {-126: 8666}\n"
     ]
    },
    {
     "name": "stderr",
     "output_type": "stream",
     "text": [
      "119it [00:06, 18.35it/s]"
     ]
    },
    {
     "name": "stdout",
     "output_type": "stream",
     "text": [
      "2024-01-23 15:08:14,553 INFO Added a workflow. id_map: {-127: 8667}\n",
      "2024-01-23 15:08:14,591 INFO Added a workflow. id_map: {-128: 8668}\n",
      "2024-01-23 15:08:14,629 INFO Added a workflow. id_map: {-129: 8669}\n"
     ]
    },
    {
     "name": "stderr",
     "output_type": "stream",
     "text": [
      "122it [00:06, 19.48it/s]"
     ]
    },
    {
     "name": "stdout",
     "output_type": "stream",
     "text": [
      "2024-01-23 15:08:14,701 INFO Added a workflow. id_map: {-130: 8670}\n",
      "2024-01-23 15:08:14,739 INFO Added a workflow. id_map: {-131: 8671}\n"
     ]
    },
    {
     "name": "stderr",
     "output_type": "stream",
     "text": [
      "124it [00:06, 19.13it/s]"
     ]
    },
    {
     "name": "stdout",
     "output_type": "stream",
     "text": [
      "2024-01-23 15:08:14,780 INFO Added a workflow. id_map: {-132: 8672}\n",
      "2024-01-23 15:08:14,839 INFO Added a workflow. id_map: {-133: 8673}\n",
      "2024-01-23 15:08:14,879 INFO Added a workflow. id_map: {-134: 8674}\n"
     ]
    },
    {
     "name": "stderr",
     "output_type": "stream",
     "text": [
      "127it [00:06, 19.85it/s]"
     ]
    },
    {
     "name": "stdout",
     "output_type": "stream",
     "text": [
      "2024-01-23 15:08:14,924 INFO Added a workflow. id_map: {-135: 8675}\n",
      "2024-01-23 15:08:14,969 INFO Added a workflow. id_map: {-136: 8676}\n",
      "2024-01-23 15:08:15,005 INFO Added a workflow. id_map: {-137: 8677}\n"
     ]
    },
    {
     "name": "stderr",
     "output_type": "stream",
     "text": [
      "130it [00:06, 21.03it/s]"
     ]
    },
    {
     "name": "stdout",
     "output_type": "stream",
     "text": [
      "2024-01-23 15:08:15,041 INFO Added a workflow. id_map: {-138: 8678}\n",
      "2024-01-23 15:08:15,093 INFO Added a workflow. id_map: {-139: 8679}\n",
      "2024-01-23 15:08:15,136 INFO Added a workflow. id_map: {-140: 8680}\n"
     ]
    },
    {
     "name": "stderr",
     "output_type": "stream",
     "text": [
      "133it [00:06, 21.61it/s]"
     ]
    },
    {
     "name": "stdout",
     "output_type": "stream",
     "text": [
      "2024-01-23 15:08:15,179 INFO Added a workflow. id_map: {-141: 8681}\n",
      "2024-01-23 15:08:15,217 INFO Added a workflow. id_map: {-142: 8682}\n",
      "2024-01-23 15:08:15,256 INFO Added a workflow. id_map: {-143: 8683}\n"
     ]
    },
    {
     "name": "stderr",
     "output_type": "stream",
     "text": [
      "136it [00:07, 22.57it/s]"
     ]
    },
    {
     "name": "stdout",
     "output_type": "stream",
     "text": [
      "2024-01-23 15:08:15,297 INFO Added a workflow. id_map: {-144: 8684}\n",
      "2024-01-23 15:08:15,330 INFO Added a workflow. id_map: {-145: 8685}\n",
      "2024-01-23 15:08:15,379 INFO Added a workflow. id_map: {-146: 8686}\n"
     ]
    },
    {
     "name": "stderr",
     "output_type": "stream",
     "text": [
      "139it [00:07, 23.05it/s]"
     ]
    },
    {
     "name": "stdout",
     "output_type": "stream",
     "text": [
      "2024-01-23 15:08:15,426 INFO Added a workflow. id_map: {-147: 8687}\n",
      "2024-01-23 15:08:15,494 INFO Added a workflow. id_map: {-148: 8688}\n",
      "2024-01-23 15:08:15,552 INFO Added a workflow. id_map: {-149: 8689}\n"
     ]
    },
    {
     "name": "stderr",
     "output_type": "stream",
     "text": [
      "142it [00:07, 20.99it/s]"
     ]
    },
    {
     "name": "stdout",
     "output_type": "stream",
     "text": [
      "2024-01-23 15:08:15,588 INFO Added a workflow. id_map: {-150: 8690}\n",
      "2024-01-23 15:08:15,635 INFO Added a workflow. id_map: {-151: 8691}\n",
      "2024-01-23 15:08:15,673 INFO Added a workflow. id_map: {-152: 8692}\n"
     ]
    },
    {
     "name": "stderr",
     "output_type": "stream",
     "text": [
      "145it [00:07, 22.01it/s]"
     ]
    },
    {
     "name": "stdout",
     "output_type": "stream",
     "text": [
      "2024-01-23 15:08:15,737 INFO Added a workflow. id_map: {-153: 8693}\n",
      "2024-01-23 15:08:15,776 INFO Added a workflow. id_map: {-154: 8694}\n",
      "2024-01-23 15:08:15,816 INFO Added a workflow. id_map: {-155: 8695}\n"
     ]
    },
    {
     "name": "stderr",
     "output_type": "stream",
     "text": [
      "148it [00:07, 21.66it/s]"
     ]
    },
    {
     "name": "stdout",
     "output_type": "stream",
     "text": [
      "2024-01-23 15:08:15,852 INFO Added a workflow. id_map: {-156: 8696}\n",
      "2024-01-23 15:08:15,885 INFO Added a workflow. id_map: {-157: 8697}\n",
      "2024-01-23 15:08:15,920 INFO Added a workflow. id_map: {-158: 8698}\n"
     ]
    },
    {
     "name": "stderr",
     "output_type": "stream",
     "text": [
      "151it [00:07, 23.42it/s]"
     ]
    },
    {
     "name": "stdout",
     "output_type": "stream",
     "text": [
      "2024-01-23 15:08:15,982 INFO Added a workflow. id_map: {-159: 8699}\n",
      "2024-01-23 15:08:16,026 INFO Added a workflow. id_map: {-160: 8700}\n",
      "2024-01-23 15:08:16,081 INFO Added a workflow. id_map: {-161: 8701}\n"
     ]
    },
    {
     "name": "stderr",
     "output_type": "stream",
     "text": [
      "154it [00:07, 21.73it/s]"
     ]
    },
    {
     "name": "stdout",
     "output_type": "stream",
     "text": [
      "2024-01-23 15:08:16,121 INFO Added a workflow. id_map: {-162: 8702}\n",
      "2024-01-23 15:08:16,159 INFO Added a workflow. id_map: {-163: 8703}\n",
      "2024-01-23 15:08:16,226 INFO Added a workflow. id_map: {-164: 8704}\n"
     ]
    },
    {
     "name": "stderr",
     "output_type": "stream",
     "text": [
      "157it [00:08, 21.44it/s]"
     ]
    },
    {
     "name": "stdout",
     "output_type": "stream",
     "text": [
      "2024-01-23 15:08:16,274 INFO Added a workflow. id_map: {-165: 8705}\n",
      "2024-01-23 15:08:16,307 INFO Added a workflow. id_map: {-166: 8706}\n",
      "2024-01-23 15:08:16,353 INFO Added a workflow. id_map: {-167: 8707}\n"
     ]
    },
    {
     "name": "stderr",
     "output_type": "stream",
     "text": [
      "160it [00:08, 22.04it/s]"
     ]
    },
    {
     "name": "stdout",
     "output_type": "stream",
     "text": [
      "2024-01-23 15:08:16,390 INFO Added a workflow. id_map: {-168: 8708}\n",
      "2024-01-23 15:08:16,437 INFO Added a workflow. id_map: {-169: 8709}\n",
      "2024-01-23 15:08:16,486 INFO Added a workflow. id_map: {-170: 8710}\n"
     ]
    },
    {
     "name": "stderr",
     "output_type": "stream",
     "text": [
      "163it [00:08, 22.19it/s]"
     ]
    },
    {
     "name": "stdout",
     "output_type": "stream",
     "text": [
      "2024-01-23 15:08:16,537 INFO Added a workflow. id_map: {-171: 8711}\n",
      "2024-01-23 15:08:16,573 INFO Added a workflow. id_map: {-172: 8712}\n",
      "2024-01-23 15:08:16,613 INFO Added a workflow. id_map: {-173: 8713}\n"
     ]
    },
    {
     "name": "stderr",
     "output_type": "stream",
     "text": [
      "166it [00:08, 22.54it/s]"
     ]
    },
    {
     "name": "stdout",
     "output_type": "stream",
     "text": [
      "2024-01-23 15:08:16,661 INFO Added a workflow. id_map: {-174: 8714}\n",
      "2024-01-23 15:08:16,707 INFO Added a workflow. id_map: {-175: 8715}\n",
      "2024-01-23 15:08:16,752 INFO Added a workflow. id_map: {-176: 8716}\n"
     ]
    },
    {
     "name": "stderr",
     "output_type": "stream",
     "text": [
      "169it [00:08, 22.30it/s]"
     ]
    },
    {
     "name": "stdout",
     "output_type": "stream",
     "text": [
      "2024-01-23 15:08:16,807 INFO Added a workflow. id_map: {-177: 8717}\n",
      "2024-01-23 15:08:16,866 INFO Added a workflow. id_map: {-178: 8718}\n",
      "2024-01-23 15:08:16,899 INFO Added a workflow. id_map: {-179: 8719}\n"
     ]
    },
    {
     "name": "stderr",
     "output_type": "stream",
     "text": [
      "172it [00:08, 21.68it/s]"
     ]
    },
    {
     "name": "stdout",
     "output_type": "stream",
     "text": [
      "2024-01-23 15:08:16,958 INFO Added a workflow. id_map: {-180: 8720}\n",
      "2024-01-23 15:08:17,005 INFO Added a workflow. id_map: {-181: 8721}\n",
      "2024-01-23 15:08:17,039 INFO Added a workflow. id_map: {-182: 8722}\n"
     ]
    },
    {
     "name": "stderr",
     "output_type": "stream",
     "text": [
      "175it [00:08, 21.64it/s]"
     ]
    },
    {
     "name": "stdout",
     "output_type": "stream",
     "text": [
      "2024-01-23 15:08:17,093 INFO Added a workflow. id_map: {-183: 8723}\n",
      "2024-01-23 15:08:17,143 INFO Added a workflow. id_map: {-184: 8724}\n",
      "2024-01-23 15:08:17,184 INFO Added a workflow. id_map: {-185: 8725}\n"
     ]
    },
    {
     "name": "stderr",
     "output_type": "stream",
     "text": [
      "178it [00:09, 21.35it/s]"
     ]
    },
    {
     "name": "stdout",
     "output_type": "stream",
     "text": [
      "2024-01-23 15:08:17,219 INFO Added a workflow. id_map: {-186: 8726}\n",
      "2024-01-23 15:08:17,286 INFO Added a workflow. id_map: {-187: 8727}\n",
      "2024-01-23 15:08:17,323 INFO Added a workflow. id_map: {-188: 8728}\n"
     ]
    },
    {
     "name": "stderr",
     "output_type": "stream",
     "text": [
      "181it [00:09, 21.39it/s]"
     ]
    },
    {
     "name": "stdout",
     "output_type": "stream",
     "text": [
      "2024-01-23 15:08:17,380 INFO Added a workflow. id_map: {-189: 8729}\n",
      "2024-01-23 15:08:17,437 INFO Added a workflow. id_map: {-190: 8730}\n",
      "2024-01-23 15:08:17,496 INFO Added a workflow. id_map: {-191: 8731}\n"
     ]
    },
    {
     "name": "stderr",
     "output_type": "stream",
     "text": [
      "184it [00:09, 19.98it/s]"
     ]
    },
    {
     "name": "stdout",
     "output_type": "stream",
     "text": [
      "2024-01-23 15:08:17,561 INFO Added a workflow. id_map: {-192: 8732}\n",
      "2024-01-23 15:08:17,598 INFO Added a workflow. id_map: {-193: 8733}\n",
      "2024-01-23 15:08:17,666 INFO Added a workflow. id_map: {-194: 8734}\n"
     ]
    },
    {
     "name": "stderr",
     "output_type": "stream",
     "text": [
      "187it [00:09, 19.21it/s]"
     ]
    },
    {
     "name": "stdout",
     "output_type": "stream",
     "text": [
      "2024-01-23 15:08:17,725 INFO Added a workflow. id_map: {-195: 8735}\n",
      "2024-01-23 15:08:17,763 INFO Added a workflow. id_map: {-196: 8736}\n",
      "2024-01-23 15:08:17,807 INFO Added a workflow. id_map: {-197: 8737}\n"
     ]
    },
    {
     "name": "stderr",
     "output_type": "stream",
     "text": [
      "190it [00:09, 19.80it/s]"
     ]
    },
    {
     "name": "stdout",
     "output_type": "stream",
     "text": [
      "2024-01-23 15:08:17,868 INFO Added a workflow. id_map: {-198: 8738}\n",
      "2024-01-23 15:08:17,905 INFO Added a workflow. id_map: {-199: 8739}\n",
      "2024-01-23 15:08:17,947 INFO Added a workflow. id_map: {-200: 8740}\n"
     ]
    },
    {
     "name": "stderr",
     "output_type": "stream",
     "text": [
      "193it [00:09, 20.26it/s]"
     ]
    },
    {
     "name": "stdout",
     "output_type": "stream",
     "text": [
      "2024-01-23 15:08:18,012 INFO Added a workflow. id_map: {-201: 8741}\n",
      "2024-01-23 15:08:18,055 INFO Added a workflow. id_map: {-202: 8742}\n",
      "2024-01-23 15:08:18,104 INFO Added a workflow. id_map: {-203: 8743}\n"
     ]
    },
    {
     "name": "stderr",
     "output_type": "stream",
     "text": [
      "196it [00:09, 19.93it/s]"
     ]
    },
    {
     "name": "stdout",
     "output_type": "stream",
     "text": [
      "2024-01-23 15:08:18,150 INFO Added a workflow. id_map: {-204: 8744}\n",
      "2024-01-23 15:08:18,180 INFO Added a workflow. id_map: {-205: 8745}\n",
      "2024-01-23 15:08:18,240 INFO Added a workflow. id_map: {-206: 8746}\n"
     ]
    },
    {
     "name": "stderr",
     "output_type": "stream",
     "text": [
      "199it [00:10, 20.49it/s]"
     ]
    },
    {
     "name": "stdout",
     "output_type": "stream",
     "text": [
      "2024-01-23 15:08:18,293 INFO Added a workflow. id_map: {-207: 8747}\n"
     ]
    },
    {
     "name": "stderr",
     "output_type": "stream",
     "text": [
      "200it [00:10, 19.78it/s]\n"
     ]
    }
   ],
   "source": [
    "v_iter = \"v3\"\n",
    "\n",
    "#   Paths to the candidates datasets\n",
    "candidate_df_path    = Path(f\"df_selected_{v_iter}.json\")\n",
    " \n",
    "#   Loading the candidates datasets\n",
    "if not candidate_df_path.exists():\n",
    "    raise Exception(f\"The file containing the structures of the candidates was not found at {candidate_df_path}.\")\n",
    "else:\n",
    "    df_selected = pd.read_json(candidate_df_path)\n",
    "\n",
    "#   Iterating over the candidates to add them in the Launchpad \n",
    "for mpid, d in tqdm(zip(df_selected.index.values, df_selected['structure'])):\n",
    "\n",
    "    # Initializes the MP structure\n",
    "    struc = Structure.from_dict(d)\n",
    "    structure = struc.get_primitive_structure()\n",
    " \n",
    "    # Create a Dfpt dielectric WF to compute the dielectric tensor\n",
    "    dielec_flow = DielectricMaker().make(structure=structure)\n",
    " \n",
    "    # Power ups\n",
    "        # Increase the kpoints density to 1500 per reciprocal atom for balance accuracy/complexity\n",
    "    dielec_flow = update_user_kpoints_settings( dielec_flow, {\"grid_density\": 1500})\n",
    " \n",
    "    # Let's add a metadata to recover it easily from the MongoDb afterwards with {\"spec._tasks.job.metadata.Label\": \"HSE_Etot(x)\"}\n",
    "    dielec_flow.update_metadata({\"Batch\": f\"re2fractive_hg_{v_iter}\", \"mp-id\": f\"{mpid}\"})\n",
    " \n",
    " \n",
    " \n",
    "        # Specify:  the parallelization to optimize performance\n",
    "        #           the electronic convergence criterion            (1E-5 eV otherwise by default),\n",
    "        #           do not enforce a type of psp --> read in POTCAR (PBEsol otherwise by default)\n",
    "        #           projection done in real space to improve efficiency (True otherwise)\n",
    "    dielec_flow = update_user_incar_settings(   dielec_flow, {  \"KPAR\": 8,\n",
    "                                                                \"EDIFF\": 1E-6,\n",
    "                                                                \"GGA\": None,\n",
    "                                                                \"LREAL\": 'False',\n",
    "                                                                \"ALGO\": 'All',\n",
    "                                                                \"ISMEAR\": 0,\n",
    "                                                                \"SIGMA\": 0.03,\n",
    "                                                                \"LAECHG\": 'False',\n",
    "                                                                \"LELF\": 'False',\n",
    "                                                                \"LVTOT\": 'False',\n",
    "                                                                \"LWAVE\": 'False',\n",
    "                                                                \"PREC\": 'Accurate',\n",
    "                                                                \"IBRION\": -1,\n",
    "                                                                \"NSW\": 0\n",
    "                                                                })\n",
    " \n",
    "        # Choose the type of PSP, here PBE_54\n",
    "    dielec_flow = update_user_potcar_functional(dielec_flow, \"PBE_64\")\n",
    " \n",
    "    # convert the flow to a fireworks WorkFlow object\n",
    "    wf = flow_to_workflow(dielec_flow)\n",
    "\n",
    "    # submit the workflow to the FireWorks launchpad (requires a valid connection)\n",
    "    lpad = LaunchPad.auto_load()\n",
    "    lpad.add_wf(wf)\n",
    " \n",
    "#   Final step: launch the calculations on a cluster using qlaunch "
   ]
  },
  {
   "cell_type": "code",
   "execution_count": 2,
   "metadata": {},
   "outputs": [
    {
     "name": "stderr",
     "output_type": "stream",
     "text": [
      "0it [00:00, ?it/s]"
     ]
    },
    {
     "name": "stdout",
     "output_type": "stream",
     "text": [
      "2024-01-23 14:48:47,090 INFO Added a workflow. id_map: {-1: 8541}\n",
      "2024-01-23 14:48:47,132 INFO Added a workflow. id_map: {-2: 8542}\n",
      "2024-01-23 14:48:47,167 INFO Added a workflow. id_map: {-3: 8543}\n"
     ]
    },
    {
     "name": "stderr",
     "output_type": "stream",
     "text": [
      "/home/vtrinquet/Softwares_Packages/Github/atomate2/src/atomate2/vasp/sets/base.py:360: BadInputSetWarning: Overriding the POTCAR functional is generally not recommended as it can significantly affect the results of calculations and compatibility with other calculations done with the same input set. Note that some POTCAR symbols specified in the configuration file may not be available in the selected functional.\n",
      "  warnings.warn(\n",
      "3it [00:00, 25.46it/s]"
     ]
    },
    {
     "name": "stdout",
     "output_type": "stream",
     "text": [
      "2024-01-23 14:48:47,203 INFO Added a workflow. id_map: {-4: 8544}\n",
      "2024-01-23 14:48:47,236 INFO Added a workflow. id_map: {-5: 8545}\n",
      "2024-01-23 14:48:47,269 INFO Added a workflow. id_map: {-6: 8546}\n"
     ]
    },
    {
     "name": "stderr",
     "output_type": "stream",
     "text": [
      "6it [00:00, 27.61it/s]"
     ]
    },
    {
     "name": "stdout",
     "output_type": "stream",
     "text": [
      "2024-01-23 14:48:47,303 INFO Added a workflow. id_map: {-7: 8547}\n"
     ]
    },
    {
     "name": "stderr",
     "output_type": "stream",
     "text": [
      "7it [00:00, 27.54it/s]\n"
     ]
    }
   ],
   "source": [
    "#   Paths to the candidates datasets\n",
    "candidate_df_path    = Path(\"df_redo_yb.json\")\n",
    " \n",
    "#   Loading the candidates datasets\n",
    "if not candidate_df_path.exists():\n",
    "    raise Exception(f\"The file containing the structures of the candidates was not found at {candidate_df_path}.\")\n",
    "else:\n",
    "    df_selected = pd.read_json(candidate_df_path)\n",
    "\n",
    "#   Iterating over the candidates to add them in the Launchpad \n",
    "for mpid, d in tqdm(zip(df_selected.index.values, df_selected['structure'])):\n",
    "\n",
    "    # Initializes the MP structure\n",
    "    struc = Structure.from_dict(d)\n",
    "    structure = struc.get_primitive_structure()\n",
    " \n",
    "    # Create a Dfpt dielectric WF to compute the dielectric tensor\n",
    "    dielec_flow = DielectricMaker().make(structure=structure)\n",
    " \n",
    "    # Power ups\n",
    "        # Increase the kpoints density to 1500 per reciprocal atom for balance accuracy/complexity\n",
    "    dielec_flow = update_user_kpoints_settings( dielec_flow, {\"grid_density\": 1500})\n",
    " \n",
    "    # Let's add a metadata to recover it easily from the MongoDb afterwards with {\"spec._tasks.job.metadata.Label\": \"HSE_Etot(x)\"}\n",
    "    dielec_flow.update_metadata({\"Batch\": \"re2fractive_hg_v3_redo_yb\", \"mp-id\": f\"{mpid}\"})\n",
    " \n",
    " \n",
    " \n",
    "        # Specify:  the parallelization to optimize performance\n",
    "        #           the electronic convergence criterion            (1E-5 eV otherwise by default),\n",
    "        #           do not enforce a type of psp --> read in POTCAR (PBEsol otherwise by default)\n",
    "        #           projection done in real space to improve efficiency (True otherwise)\n",
    "    dielec_flow = update_user_incar_settings(   dielec_flow, {  \"KPAR\": 8,\n",
    "                                                                \"EDIFF\": 1E-6,\n",
    "                                                                \"GGA\": None,\n",
    "                                                                \"LREAL\": 'False',\n",
    "                                                                \"ALGO\": 'All',\n",
    "                                                                \"ISMEAR\": 0,\n",
    "                                                                \"SIGMA\": 0.03,\n",
    "                                                                \"LAECHG\": 'False',\n",
    "                                                                \"LELF\": 'False',\n",
    "                                                                \"LVTOT\": 'False',\n",
    "                                                                \"LWAVE\": 'False',\n",
    "                                                                \"PREC\": 'Accurate',\n",
    "                                                                \"IBRION\": -1,\n",
    "                                                                \"NSW\": 0\n",
    "                                                                })\n",
    " \n",
    "        # Choose the type of PSP, here PBE_54\n",
    "    dielec_flow = update_user_potcar_functional(dielec_flow, \"PBE_64\")\n",
    " \n",
    "    # convert the flow to a fireworks WorkFlow object\n",
    "    wf = flow_to_workflow(dielec_flow)\n",
    "\n",
    "    # submit the workflow to the FireWorks launchpad (requires a valid connection)\n",
    "    lpad = LaunchPad.auto_load()\n",
    "    lpad.add_wf(wf)\n",
    " \n",
    "#   Final step: launch the calculations on a cluster using qlaunch "
   ]
  },
  {
   "cell_type": "code",
   "execution_count": null,
   "metadata": {},
   "outputs": [],
   "source": []
  }
 ],
 "metadata": {
  "kernelspec": {
   "display_name": "atom2env_dev_v2",
   "language": "python",
   "name": "python3"
  },
  "language_info": {
   "codemirror_mode": {
    "name": "ipython",
    "version": 3
   },
   "file_extension": ".py",
   "mimetype": "text/x-python",
   "name": "python",
   "nbconvert_exporter": "python",
   "pygments_lexer": "ipython3",
   "version": "3.10.13"
  }
 },
 "nbformat": 4,
 "nbformat_minor": 2
}
