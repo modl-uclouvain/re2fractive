{
 "cells": [
  {
   "cell_type": "code",
   "execution_count": 2,
   "metadata": {},
   "outputs": [
    {
     "name": "stderr",
     "output_type": "stream",
     "text": [
      "2024-02-05 16:36:11.970922: I tensorflow/core/util/port.cc:113] oneDNN custom operations are on. You may see slightly different numerical results due to floating-point round-off errors from different computation orders. To turn them off, set the environment variable `TF_ENABLE_ONEDNN_OPTS=0`.\n",
      "2024-02-05 16:36:11.991714: I external/local_tsl/tsl/cuda/cudart_stub.cc:31] Could not find cuda drivers on your machine, GPU will not be used.\n",
      "2024-02-05 16:36:12.101733: E external/local_xla/xla/stream_executor/cuda/cuda_dnn.cc:9261] Unable to register cuDNN factory: Attempting to register factory for plugin cuDNN when one has already been registered\n",
      "2024-02-05 16:36:12.101878: E external/local_xla/xla/stream_executor/cuda/cuda_fft.cc:607] Unable to register cuFFT factory: Attempting to register factory for plugin cuFFT when one has already been registered\n",
      "2024-02-05 16:36:12.120977: E external/local_xla/xla/stream_executor/cuda/cuda_blas.cc:1515] Unable to register cuBLAS factory: Attempting to register factory for plugin cuBLAS when one has already been registered\n",
      "2024-02-05 16:36:12.160746: I external/local_tsl/tsl/cuda/cudart_stub.cc:31] Could not find cuda drivers on your machine, GPU will not be used.\n",
      "2024-02-05 16:36:12.161589: I tensorflow/core/platform/cpu_feature_guard.cc:182] This TensorFlow binary is optimized to use available CPU instructions in performance-critical operations.\n",
      "To enable the following instructions: AVX2 AVX_VNNI FMA, in other operations, rebuild TensorFlow with the appropriate compiler flags.\n",
      "2024-02-05 16:36:12.812382: W tensorflow/compiler/tf2tensorrt/utils/py_utils.cc:38] TF-TRT Warning: Could not find TensorRT\n"
     ]
    }
   ],
   "source": [
    "# python env: modnenv_v2\n",
    "\n",
    "import os\n",
    "import string\n",
    "import random\n",
    "import numpy as np\n",
    "from sklearn.model_selection import KFold\n",
    "from pathlib import Path, PosixPath\n",
    "import matplotlib.pyplot as plt\n",
    "import json \n",
    "import pandas as pd\n",
    "from copy import deepcopy\n",
    "from modnet.models import EnsembleMODNetModel\n",
    "from modnet.preprocessing import MODData\n",
    "from modnet.hyper_opt import FitGenetic\n",
    "from monty.serialization import dumpfn, loadfn, MontyDecoder\n",
    "from optimade.adapters import Structure as optim_Structure\n",
    "from pymatgen.ext.matproj import MPRester\n",
    "from pymatgen.core.structure import Structure\n",
    "from pymongo import MongoClient\n",
    "import plotly.express as px\n",
    "import plotly.graph_objects as go\n",
    "from sklearn.metrics import mean_absolute_error, mean_squared_error \n",
    "from scipy.stats import spearmanr\n",
    "from IPython.display import Image\n",
    "from tqdm import tqdm\n",
    "from os import listdir\n",
    "from os.path import isfile, join\n",
    "import pickle\n",
    "os.environ[\"CUDA_VISIBLE_DEVICES\"] = \"-1\""
   ]
  },
  {
   "cell_type": "code",
   "execution_count": 3,
   "metadata": {},
   "outputs": [],
   "source": [
    "client = MongoClient('emma.pcpm.ucl.ac.be', 27017, username='structDB', password='structDB2018', authSource='structure_databases', authMechanism='SCRAM-SHA-1')\n",
    "db = client.structure_databases\n",
    "\n",
    "\n",
    "collection = db.full_unique\n",
    "\n",
    "collections_chemenv = {\"csd\": db.csd_chemenv,\n",
    "                       \"cod\": db.cod_chemenv,\n",
    "                       \"icsd\": db.icsd_chemenv,\n",
    "                       \"pauling\": db.pauling_chemenv}\n",
    "\n",
    "collections_unique = {\"csd\": db.csd_unique,\n",
    "                       \"cod\": db.cod_unique,\n",
    "                       \"icsd\": db.icsd_unique,\n",
    "                       \"pauling\": db.pauling_unique}\n",
    "\n",
    "collections_raw = {\"csd\": db.csd_unique,\n",
    "                   \"cod\": db.cod_unique,\n",
    "                   \"icsd\": db.icsd_unique,\n",
    "                   \"pauling\": db.pauling_unique}\n"
   ]
  },
  {
   "cell_type": "code",
   "execution_count": 3,
   "metadata": {},
   "outputs": [],
   "source": [
    "# # Example\n",
    "# r = collection.find_one({\"mp_ids\": \"mp-149\"})\n",
    "\n",
    "# print(r[\"formula_pretty\"], r[\"formula_anonymous\"])\n",
    "# print(r[\"source\"], r[\"source_id\"])\n",
    "\n",
    "\n",
    "# chemenv = collections_chemenv[r[\"source\"]].find_one({\"unique_id\": r[\"source_id\"]})\n",
    "# print(chemenv)\n",
    "\n",
    "\n",
    "# data = collections_unique[r[\"source\"]].find_one({\"unique_id\": r[\"source_id\"]})\n",
    "\n",
    "# structure = Structure.from_dict(data[\"structure\"])\n",
    "# print(structure)\n",
    "\n",
    "\n",
    "# # for r in collection.find({\"elements\":{\"$in\": [\"Si\", \"O\"]}, \"nelements\": 2}):\n",
    "# #     print(r[\"formula_pretty\"])\n",
    "\n",
    "# # print(collection.count({\"is_ordered\": True}))"
   ]
  },
  {
   "cell_type": "code",
   "execution_count": null,
   "metadata": {},
   "outputs": [
    {
     "name": "stderr",
     "output_type": "stream",
     "text": [
      "100000it [07:02, 236.64it/s] \n"
     ]
    }
   ],
   "source": [
    "for mark in np.arange(0, 1166730, 25000):\n",
    "    structures_mshp = []\n",
    "    path_lst_mshp_struc = Path(f'{mark:07}_lst_mshp_struc.pkl')\n",
    "\n",
    "    if path_lst_mshp_struc.exists():\n",
    "        # with open(path_lst_mshp_struc, 'rb') as f:\n",
    "        #     structures_mshp = pickle.load(f)\n",
    "        pass\n",
    "    else:\n",
    "        for i, r in tqdm(enumerate(collection.find())):\n",
    "            if i>=mark and i<mark+25000:\n",
    "                data = collections_unique[r[\"source\"]].find_one({\"unique_id\": r[\"source_id\"]})\n",
    "    \n",
    "                structures_mshp.append(Structure.from_dict(data[\"structure\"]))\n",
    "            elif i>=mark+25000:\n",
    "                break\n",
    "            else:\n",
    "                pass\n",
    "        with open(path_lst_mshp_struc, 'wb') as f:\n",
    "            pickle.dump(structures_mshp, f)"
   ]
  },
  {
   "cell_type": "code",
   "execution_count": 4,
   "metadata": {},
   "outputs": [
    {
     "name": "stdout",
     "output_type": "stream",
     "text": [
      "0\n",
      "25000\n",
      "50000\n",
      "75000\n",
      "100000\n",
      "125000\n",
      "150000\n",
      "175000\n",
      "200000\n",
      "225000\n",
      "250000\n",
      "275000\n",
      "300000\n",
      "325000\n",
      "350000\n",
      "375000\n",
      "400000\n",
      "425000\n",
      "450000\n",
      "475000\n",
      "500000\n",
      "525000\n",
      "550000\n",
      "575000\n",
      "600000\n",
      "625000\n",
      "650000\n",
      "675000\n",
      "700000\n",
      "725000\n",
      "750000\n",
      "775000\n",
      "800000\n",
      "825000\n",
      "850000\n",
      "875000\n",
      "900000\n",
      "925000\n",
      "950000\n",
      "975000\n",
      "1000000\n",
      "1025000\n",
      "1050000\n",
      "1075000\n",
      "1100000\n",
      "1125000\n",
      "1150000\n"
     ]
    }
   ],
   "source": [
    "for i in np.arange(0,1166730,25000):\n",
    "    print(i)"
   ]
  }
 ],
 "metadata": {
  "kernelspec": {
   "display_name": "Python 3 (ipykernel)",
   "language": "python",
   "name": "python3"
  },
  "language_info": {
   "codemirror_mode": {
    "name": "ipython",
    "version": 3
   },
   "file_extension": ".py",
   "mimetype": "text/x-python",
   "name": "python",
   "nbconvert_exporter": "python",
   "pygments_lexer": "ipython3",
   "version": "3.9.18"
  }
 },
 "nbformat": 4,
 "nbformat_minor": 4
}
