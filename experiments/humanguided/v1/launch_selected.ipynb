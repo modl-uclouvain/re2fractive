{
 "cells": [
  {
   "cell_type": "code",
   "execution_count": 7,
   "metadata": {},
   "outputs": [],
   "source": [
    "# python env: atom2_env_dev_v2\n",
    "\n",
    "import json                                                                                                                             \n",
    "import monty.json\n",
    "import numpy as np\n",
    "import pandas as pd\n",
    "import traceback as tb\n",
    "import sys\n",
    " \n",
    "from pymatgen.core.structure import Structure\n",
    " \n",
    "from atomate2.vasp.jobs.core import DielectricMaker\n",
    "from atomate2.vasp.powerups import (\n",
    "    update_user_incar_settings,\n",
    "    update_user_potcar_functional,\n",
    "    update_user_kpoints_settings\n",
    ")\n",
    " \n",
    "from fireworks import LaunchPad\n",
    "from importlib import reload\n",
    " \n",
    "from jobflow import Flow\n",
    "from jobflow import run_locally\n",
    "from jobflow.managers.fireworks import flow_to_workflow\n",
    " \n",
    "from pathlib import Path\n",
    "import pickle\n",
    "from tqdm import tqdm"
   ]
  },
  {
   "cell_type": "markdown",
   "metadata": {},
   "source": [
    "# LaunchPad"
   ]
  },
  {
   "cell_type": "code",
   "execution_count": 14,
   "metadata": {},
   "outputs": [
    {
     "name": "stderr",
     "output_type": "stream",
     "text": [
      "0it [00:00, ?it/s]"
     ]
    },
    {
     "name": "stdout",
     "output_type": "stream",
     "text": [
      "2024-01-09 17:33:53,734 INFO Added a workflow. id_map: {-1801: 8114}\n",
      "2024-01-09 17:33:53,767 INFO Added a workflow. id_map: {-1802: 8115}\n",
      "2024-01-09 17:33:53,800 INFO Added a workflow. id_map: {-1803: 8116}\n"
     ]
    },
    {
     "name": "stderr",
     "output_type": "stream",
     "text": [
      "3it [00:00, 28.77it/s]"
     ]
    },
    {
     "name": "stdout",
     "output_type": "stream",
     "text": [
      "2024-01-09 17:33:53,831 INFO Added a workflow. id_map: {-1804: 8117}\n",
      "2024-01-09 17:33:53,863 INFO Added a workflow. id_map: {-1805: 8118}\n",
      "2024-01-09 17:33:53,904 INFO Added a workflow. id_map: {-1806: 8119}\n"
     ]
    },
    {
     "name": "stderr",
     "output_type": "stream",
     "text": [
      "6it [00:00, 28.62it/s]"
     ]
    },
    {
     "name": "stdout",
     "output_type": "stream",
     "text": [
      "2024-01-09 17:33:53,945 INFO Added a workflow. id_map: {-1807: 8120}\n",
      "2024-01-09 17:33:53,998 INFO Added a workflow. id_map: {-1808: 8121}\n",
      "2024-01-09 17:33:54,041 INFO Added a workflow. id_map: {-1809: 8122}\n"
     ]
    },
    {
     "name": "stderr",
     "output_type": "stream",
     "text": [
      "9it [00:00, 25.13it/s]"
     ]
    },
    {
     "name": "stdout",
     "output_type": "stream",
     "text": [
      "2024-01-09 17:33:54,072 INFO Added a workflow. id_map: {-1810: 8123}\n",
      "2024-01-09 17:33:54,108 INFO Added a workflow. id_map: {-1811: 8124}\n",
      "2024-01-09 17:33:54,143 INFO Added a workflow. id_map: {-1812: 8125}\n"
     ]
    },
    {
     "name": "stderr",
     "output_type": "stream",
     "text": [
      "12it [00:00, 26.73it/s]"
     ]
    },
    {
     "name": "stdout",
     "output_type": "stream",
     "text": [
      "2024-01-09 17:33:54,178 INFO Added a workflow. id_map: {-1813: 8126}\n",
      "2024-01-09 17:33:54,209 INFO Added a workflow. id_map: {-1814: 8127}\n",
      "2024-01-09 17:33:54,245 INFO Added a workflow. id_map: {-1815: 8128}\n"
     ]
    },
    {
     "name": "stderr",
     "output_type": "stream",
     "text": [
      "15it [00:00, 27.59it/s]"
     ]
    },
    {
     "name": "stdout",
     "output_type": "stream",
     "text": [
      "2024-01-09 17:33:54,280 INFO Added a workflow. id_map: {-1816: 8129}\n",
      "2024-01-09 17:33:54,312 INFO Added a workflow. id_map: {-1817: 8130}\n",
      "2024-01-09 17:33:54,345 INFO Added a workflow. id_map: {-1818: 8131}\n"
     ]
    },
    {
     "name": "stderr",
     "output_type": "stream",
     "text": [
      "18it [00:00, 28.34it/s]"
     ]
    },
    {
     "name": "stdout",
     "output_type": "stream",
     "text": [
      "2024-01-09 17:33:54,378 INFO Added a workflow. id_map: {-1819: 8132}\n",
      "2024-01-09 17:33:54,411 INFO Added a workflow. id_map: {-1820: 8133}\n",
      "2024-01-09 17:33:54,441 INFO Added a workflow. id_map: {-1821: 8134}\n",
      "2024-01-09 17:33:54,476 INFO Added a workflow. id_map: {-1822: 8135}\n"
     ]
    },
    {
     "name": "stderr",
     "output_type": "stream",
     "text": [
      "22it [00:00, 29.22it/s]"
     ]
    },
    {
     "name": "stdout",
     "output_type": "stream",
     "text": [
      "2024-01-09 17:33:54,518 INFO Added a workflow. id_map: {-1823: 8136}\n",
      "2024-01-09 17:33:54,561 INFO Added a workflow. id_map: {-1824: 8137}\n",
      "2024-01-09 17:33:54,595 INFO Added a workflow. id_map: {-1825: 8138}\n"
     ]
    },
    {
     "name": "stderr",
     "output_type": "stream",
     "text": [
      "25it [00:00, 27.85it/s]"
     ]
    },
    {
     "name": "stdout",
     "output_type": "stream",
     "text": [
      "2024-01-09 17:33:54,626 INFO Added a workflow. id_map: {-1826: 8139}\n",
      "2024-01-09 17:33:54,662 INFO Added a workflow. id_map: {-1827: 8140}\n",
      "2024-01-09 17:33:54,695 INFO Added a workflow. id_map: {-1828: 8141}\n",
      "2024-01-09 17:33:54,738 INFO Added a workflow. id_map: {-1829: 8142}\n"
     ]
    },
    {
     "name": "stderr",
     "output_type": "stream",
     "text": [
      "29it [00:01, 27.88it/s]"
     ]
    },
    {
     "name": "stdout",
     "output_type": "stream",
     "text": [
      "2024-01-09 17:33:54,793 INFO Added a workflow. id_map: {-1830: 8143}\n",
      "2024-01-09 17:33:54,840 INFO Added a workflow. id_map: {-1831: 8144}\n",
      "2024-01-09 17:33:54,885 INFO Added a workflow. id_map: {-1832: 8145}\n"
     ]
    },
    {
     "name": "stderr",
     "output_type": "stream",
     "text": [
      "32it [00:01, 25.33it/s]"
     ]
    },
    {
     "name": "stdout",
     "output_type": "stream",
     "text": [
      "2024-01-09 17:33:54,921 INFO Added a workflow. id_map: {-1833: 8146}\n",
      "2024-01-09 17:33:54,959 INFO Added a workflow. id_map: {-1834: 8147}\n",
      "2024-01-09 17:33:54,996 INFO Added a workflow. id_map: {-1835: 8148}\n"
     ]
    },
    {
     "name": "stderr",
     "output_type": "stream",
     "text": [
      "35it [00:01, 25.79it/s]"
     ]
    },
    {
     "name": "stdout",
     "output_type": "stream",
     "text": [
      "2024-01-09 17:33:55,029 INFO Added a workflow. id_map: {-1836: 8149}\n",
      "2024-01-09 17:33:55,070 INFO Added a workflow. id_map: {-1837: 8150}\n",
      "2024-01-09 17:33:55,113 INFO Added a workflow. id_map: {-1838: 8151}\n"
     ]
    },
    {
     "name": "stderr",
     "output_type": "stream",
     "text": [
      "38it [00:01, 25.78it/s]"
     ]
    },
    {
     "name": "stdout",
     "output_type": "stream",
     "text": [
      "2024-01-09 17:33:55,180 INFO Added a workflow. id_map: {-1839: 8152}\n",
      "2024-01-09 17:33:55,223 INFO Added a workflow. id_map: {-1840: 8153}\n",
      "2024-01-09 17:33:55,302 INFO Added a workflow. id_map: {-1841: 8154}\n"
     ]
    },
    {
     "name": "stderr",
     "output_type": "stream",
     "text": [
      "41it [00:01, 21.78it/s]"
     ]
    },
    {
     "name": "stdout",
     "output_type": "stream",
     "text": [
      "2024-01-09 17:33:55,349 INFO Added a workflow. id_map: {-1842: 8155}\n",
      "2024-01-09 17:33:55,384 INFO Added a workflow. id_map: {-1843: 8156}\n",
      "2024-01-09 17:33:55,443 INFO Added a workflow. id_map: {-1844: 8157}\n"
     ]
    },
    {
     "name": "stderr",
     "output_type": "stream",
     "text": [
      "44it [00:01, 21.64it/s]"
     ]
    },
    {
     "name": "stdout",
     "output_type": "stream",
     "text": [
      "2024-01-09 17:33:55,492 INFO Added a workflow. id_map: {-1845: 8158}\n",
      "2024-01-09 17:33:55,542 INFO Added a workflow. id_map: {-1846: 8159}\n",
      "2024-01-09 17:33:55,602 INFO Added a workflow. id_map: {-1847: 8160}\n"
     ]
    },
    {
     "name": "stderr",
     "output_type": "stream",
     "text": [
      "47it [00:01, 20.75it/s]"
     ]
    },
    {
     "name": "stdout",
     "output_type": "stream",
     "text": [
      "2024-01-09 17:33:55,648 INFO Added a workflow. id_map: {-1848: 8161}\n",
      "2024-01-09 17:33:55,681 INFO Added a workflow. id_map: {-1849: 8162}\n",
      "2024-01-09 17:33:55,722 INFO Added a workflow. id_map: {-1850: 8163}\n"
     ]
    },
    {
     "name": "stderr",
     "output_type": "stream",
     "text": [
      "50it [00:02, 21.82it/s]"
     ]
    },
    {
     "name": "stdout",
     "output_type": "stream",
     "text": [
      "2024-01-09 17:33:55,765 INFO Added a workflow. id_map: {-1851: 8164}\n",
      "2024-01-09 17:33:55,799 INFO Added a workflow. id_map: {-1852: 8165}\n",
      "2024-01-09 17:33:55,834 INFO Added a workflow. id_map: {-1853: 8166}\n"
     ]
    },
    {
     "name": "stderr",
     "output_type": "stream",
     "text": [
      "53it [00:02, 23.11it/s]"
     ]
    },
    {
     "name": "stdout",
     "output_type": "stream",
     "text": [
      "2024-01-09 17:33:55,880 INFO Added a workflow. id_map: {-1854: 8167}\n",
      "2024-01-09 17:33:55,914 INFO Added a workflow. id_map: {-1855: 8168}\n",
      "2024-01-09 17:33:55,964 INFO Added a workflow. id_map: {-1856: 8169}\n"
     ]
    },
    {
     "name": "stderr",
     "output_type": "stream",
     "text": [
      "56it [00:02, 23.10it/s]"
     ]
    },
    {
     "name": "stdout",
     "output_type": "stream",
     "text": [
      "2024-01-09 17:33:56,014 INFO Added a workflow. id_map: {-1857: 8170}\n",
      "2024-01-09 17:33:56,064 INFO Added a workflow. id_map: {-1858: 8171}\n",
      "2024-01-09 17:33:56,102 INFO Added a workflow. id_map: {-1859: 8172}\n"
     ]
    },
    {
     "name": "stderr",
     "output_type": "stream",
     "text": [
      "59it [00:02, 22.65it/s]"
     ]
    },
    {
     "name": "stdout",
     "output_type": "stream",
     "text": [
      "2024-01-09 17:33:56,145 INFO Added a workflow. id_map: {-1860: 8173}\n",
      "2024-01-09 17:33:56,183 INFO Added a workflow. id_map: {-1861: 8174}\n",
      "2024-01-09 17:33:56,216 INFO Added a workflow. id_map: {-1862: 8175}\n"
     ]
    },
    {
     "name": "stderr",
     "output_type": "stream",
     "text": [
      "62it [00:02, 23.69it/s]"
     ]
    },
    {
     "name": "stdout",
     "output_type": "stream",
     "text": [
      "2024-01-09 17:33:56,262 INFO Added a workflow. id_map: {-1863: 8176}\n",
      "2024-01-09 17:33:56,305 INFO Added a workflow. id_map: {-1864: 8177}\n",
      "2024-01-09 17:33:56,347 INFO Added a workflow. id_map: {-1865: 8178}\n"
     ]
    },
    {
     "name": "stderr",
     "output_type": "stream",
     "text": [
      "65it [00:02, 23.46it/s]"
     ]
    },
    {
     "name": "stdout",
     "output_type": "stream",
     "text": [
      "2024-01-09 17:33:56,399 INFO Added a workflow. id_map: {-1866: 8179}\n",
      "2024-01-09 17:33:56,451 INFO Added a workflow. id_map: {-1867: 8180}\n",
      "2024-01-09 17:33:56,494 INFO Added a workflow. id_map: {-1868: 8181}\n"
     ]
    },
    {
     "name": "stderr",
     "output_type": "stream",
     "text": [
      "68it [00:02, 22.40it/s]"
     ]
    },
    {
     "name": "stdout",
     "output_type": "stream",
     "text": [
      "2024-01-09 17:33:56,541 INFO Added a workflow. id_map: {-1869: 8182}\n",
      "2024-01-09 17:33:56,585 INFO Added a workflow. id_map: {-1870: 8183}\n",
      "2024-01-09 17:33:56,618 INFO Added a workflow. id_map: {-1871: 8184}\n"
     ]
    },
    {
     "name": "stderr",
     "output_type": "stream",
     "text": [
      "71it [00:02, 22.93it/s]"
     ]
    },
    {
     "name": "stdout",
     "output_type": "stream",
     "text": [
      "2024-01-09 17:33:56,657 INFO Added a workflow. id_map: {-1872: 8185}\n",
      "2024-01-09 17:33:56,697 INFO Added a workflow. id_map: {-1873: 8186}\n",
      "2024-01-09 17:33:56,737 INFO Added a workflow. id_map: {-1874: 8187}\n"
     ]
    },
    {
     "name": "stderr",
     "output_type": "stream",
     "text": [
      "74it [00:03, 23.53it/s]"
     ]
    },
    {
     "name": "stdout",
     "output_type": "stream",
     "text": [
      "2024-01-09 17:33:56,778 INFO Added a workflow. id_map: {-1875: 8188}\n",
      "2024-01-09 17:33:56,814 INFO Added a workflow. id_map: {-1876: 8189}\n",
      "2024-01-09 17:33:56,861 INFO Added a workflow. id_map: {-1877: 8190}\n"
     ]
    },
    {
     "name": "stderr",
     "output_type": "stream",
     "text": [
      "77it [00:03, 23.81it/s]"
     ]
    },
    {
     "name": "stdout",
     "output_type": "stream",
     "text": [
      "2024-01-09 17:33:56,907 INFO Added a workflow. id_map: {-1878: 8191}\n",
      "2024-01-09 17:33:56,948 INFO Added a workflow. id_map: {-1879: 8192}\n",
      "2024-01-09 17:33:56,982 INFO Added a workflow. id_map: {-1880: 8193}\n"
     ]
    },
    {
     "name": "stderr",
     "output_type": "stream",
     "text": [
      "80it [00:03, 24.09it/s]"
     ]
    },
    {
     "name": "stdout",
     "output_type": "stream",
     "text": [
      "2024-01-09 17:33:57,065 INFO Added a workflow. id_map: {-1881: 8194}\n",
      "2024-01-09 17:33:57,112 INFO Added a workflow. id_map: {-1882: 8195}\n",
      "2024-01-09 17:33:57,150 INFO Added a workflow. id_map: {-1883: 8196}\n"
     ]
    },
    {
     "name": "stderr",
     "output_type": "stream",
     "text": [
      "83it [00:03, 21.78it/s]"
     ]
    },
    {
     "name": "stdout",
     "output_type": "stream",
     "text": [
      "2024-01-09 17:33:57,192 INFO Added a workflow. id_map: {-1884: 8197}\n",
      "2024-01-09 17:33:57,247 INFO Added a workflow. id_map: {-1885: 8198}\n",
      "2024-01-09 17:33:57,304 INFO Added a workflow. id_map: {-1886: 8199}\n"
     ]
    },
    {
     "name": "stderr",
     "output_type": "stream",
     "text": [
      "86it [00:03, 21.02it/s]"
     ]
    },
    {
     "name": "stdout",
     "output_type": "stream",
     "text": [
      "2024-01-09 17:33:57,345 INFO Added a workflow. id_map: {-1887: 8200}\n",
      "2024-01-09 17:33:57,390 INFO Added a workflow. id_map: {-1888: 8201}\n",
      "2024-01-09 17:33:57,431 INFO Added a workflow. id_map: {-1889: 8202}\n"
     ]
    },
    {
     "name": "stderr",
     "output_type": "stream",
     "text": [
      "89it [00:03, 21.73it/s]"
     ]
    },
    {
     "name": "stdout",
     "output_type": "stream",
     "text": [
      "2024-01-09 17:33:57,465 INFO Added a workflow. id_map: {-1890: 8203}\n",
      "2024-01-09 17:33:57,503 INFO Added a workflow. id_map: {-1891: 8204}\n",
      "2024-01-09 17:33:57,558 INFO Added a workflow. id_map: {-1892: 8205}\n"
     ]
    },
    {
     "name": "stderr",
     "output_type": "stream",
     "text": [
      "92it [00:03, 22.26it/s]"
     ]
    },
    {
     "name": "stdout",
     "output_type": "stream",
     "text": [
      "2024-01-09 17:33:57,600 INFO Added a workflow. id_map: {-1893: 8206}\n",
      "2024-01-09 17:33:57,648 INFO Added a workflow. id_map: {-1894: 8207}\n",
      "2024-01-09 17:33:57,685 INFO Added a workflow. id_map: {-1895: 8208}\n"
     ]
    },
    {
     "name": "stderr",
     "output_type": "stream",
     "text": [
      "95it [00:03, 22.69it/s]"
     ]
    },
    {
     "name": "stdout",
     "output_type": "stream",
     "text": [
      "2024-01-09 17:33:57,879 INFO Added a workflow. id_map: {-1896: 8209}\n",
      "2024-01-09 17:33:57,911 INFO Added a workflow. id_map: {-1897: 8210}\n",
      "2024-01-09 17:33:57,956 INFO Added a workflow. id_map: {-1898: 8211}\n"
     ]
    },
    {
     "name": "stderr",
     "output_type": "stream",
     "text": [
      "98it [00:04, 17.26it/s]"
     ]
    },
    {
     "name": "stdout",
     "output_type": "stream",
     "text": [
      "2024-01-09 17:33:58,003 INFO Added a workflow. id_map: {-1899: 8212}\n",
      "2024-01-09 17:33:58,061 INFO Added a workflow. id_map: {-1900: 8213}\n"
     ]
    },
    {
     "name": "stderr",
     "output_type": "stream",
     "text": [
      "100it [00:04, 17.61it/s]"
     ]
    },
    {
     "name": "stdout",
     "output_type": "stream",
     "text": [
      "2024-01-09 17:33:58,101 INFO Added a workflow. id_map: {-1901: 8214}\n",
      "2024-01-09 17:33:58,153 INFO Added a workflow. id_map: {-1902: 8215}\n",
      "2024-01-09 17:33:58,197 INFO Added a workflow. id_map: {-1903: 8216}\n"
     ]
    },
    {
     "name": "stderr",
     "output_type": "stream",
     "text": [
      "103it [00:04, 18.85it/s]"
     ]
    },
    {
     "name": "stdout",
     "output_type": "stream",
     "text": [
      "2024-01-09 17:33:58,232 INFO Added a workflow. id_map: {-1904: 8217}\n",
      "2024-01-09 17:33:58,265 INFO Added a workflow. id_map: {-1905: 8218}\n",
      "2024-01-09 17:33:58,342 INFO Added a workflow. id_map: {-1906: 8219}\n"
     ]
    },
    {
     "name": "stderr",
     "output_type": "stream",
     "text": [
      "106it [00:04, 19.41it/s]"
     ]
    },
    {
     "name": "stdout",
     "output_type": "stream",
     "text": [
      "2024-01-09 17:33:58,377 INFO Added a workflow. id_map: {-1907: 8220}\n",
      "2024-01-09 17:33:58,457 INFO Added a workflow. id_map: {-1908: 8221}\n",
      "2024-01-09 17:33:58,506 INFO Added a workflow. id_map: {-1909: 8222}\n"
     ]
    },
    {
     "name": "stderr",
     "output_type": "stream",
     "text": [
      "109it [00:04, 19.04it/s]"
     ]
    },
    {
     "name": "stdout",
     "output_type": "stream",
     "text": [
      "2024-01-09 17:33:58,582 INFO Added a workflow. id_map: {-1910: 8223}\n",
      "2024-01-09 17:33:58,624 INFO Added a workflow. id_map: {-1911: 8224}\n"
     ]
    },
    {
     "name": "stderr",
     "output_type": "stream",
     "text": [
      "111it [00:04, 18.51it/s]"
     ]
    },
    {
     "name": "stdout",
     "output_type": "stream",
     "text": [
      "2024-01-09 17:33:58,667 INFO Added a workflow. id_map: {-1912: 8225}\n",
      "2024-01-09 17:33:58,716 INFO Added a workflow. id_map: {-1913: 8226}\n",
      "2024-01-09 17:33:58,760 INFO Added a workflow. id_map: {-1914: 8227}\n"
     ]
    },
    {
     "name": "stderr",
     "output_type": "stream",
     "text": [
      "114it [00:05, 19.53it/s]"
     ]
    },
    {
     "name": "stdout",
     "output_type": "stream",
     "text": [
      "2024-01-09 17:33:58,812 INFO Added a workflow. id_map: {-1915: 8228}\n",
      "2024-01-09 17:33:58,856 INFO Added a workflow. id_map: {-1916: 8229}\n",
      "2024-01-09 17:33:58,899 INFO Added a workflow. id_map: {-1917: 8230}\n"
     ]
    },
    {
     "name": "stderr",
     "output_type": "stream",
     "text": [
      "117it [00:05, 20.17it/s]"
     ]
    },
    {
     "name": "stdout",
     "output_type": "stream",
     "text": [
      "2024-01-09 17:33:59,123 INFO Added a workflow. id_map: {-1918: 8231}\n",
      "2024-01-09 17:33:59,172 INFO Added a workflow. id_map: {-1919: 8232}\n",
      "2024-01-09 17:33:59,231 INFO Added a workflow. id_map: {-1920: 8233}\n"
     ]
    },
    {
     "name": "stderr",
     "output_type": "stream",
     "text": [
      "120it [00:05, 14.56it/s]"
     ]
    },
    {
     "name": "stdout",
     "output_type": "stream",
     "text": [
      "2024-01-09 17:33:59,277 INFO Added a workflow. id_map: {-1921: 8234}\n",
      "2024-01-09 17:33:59,317 INFO Added a workflow. id_map: {-1922: 8235}\n",
      "2024-01-09 17:33:59,365 INFO Added a workflow. id_map: {-1923: 8236}\n"
     ]
    },
    {
     "name": "stderr",
     "output_type": "stream",
     "text": [
      "123it [00:05, 16.31it/s]"
     ]
    },
    {
     "name": "stdout",
     "output_type": "stream",
     "text": [
      "2024-01-09 17:33:59,402 INFO Added a workflow. id_map: {-1924: 8237}\n",
      "2024-01-09 17:33:59,450 INFO Added a workflow. id_map: {-1925: 8238}\n",
      "2024-01-09 17:33:59,491 INFO Added a workflow. id_map: {-1926: 8239}\n"
     ]
    },
    {
     "name": "stderr",
     "output_type": "stream",
     "text": [
      "126it [00:05, 18.03it/s]"
     ]
    },
    {
     "name": "stdout",
     "output_type": "stream",
     "text": [
      "2024-01-09 17:33:59,531 INFO Added a workflow. id_map: {-1927: 8240}\n",
      "2024-01-09 17:33:59,574 INFO Added a workflow. id_map: {-1928: 8241}\n",
      "2024-01-09 17:33:59,612 INFO Added a workflow. id_map: {-1929: 8242}\n"
     ]
    },
    {
     "name": "stderr",
     "output_type": "stream",
     "text": [
      "129it [00:05, 19.70it/s]"
     ]
    },
    {
     "name": "stdout",
     "output_type": "stream",
     "text": [
      "2024-01-09 17:33:59,646 INFO Added a workflow. id_map: {-1930: 8243}\n",
      "2024-01-09 17:33:59,690 INFO Added a workflow. id_map: {-1931: 8244}\n",
      "2024-01-09 17:33:59,733 INFO Added a workflow. id_map: {-1932: 8245}\n"
     ]
    },
    {
     "name": "stderr",
     "output_type": "stream",
     "text": [
      "132it [00:06, 20.98it/s]"
     ]
    },
    {
     "name": "stdout",
     "output_type": "stream",
     "text": [
      "2024-01-09 17:33:59,769 INFO Added a workflow. id_map: {-1933: 8246}\n",
      "2024-01-09 17:33:59,813 INFO Added a workflow. id_map: {-1934: 8247}\n",
      "2024-01-09 17:33:59,865 INFO Added a workflow. id_map: {-1935: 8248}\n"
     ]
    },
    {
     "name": "stderr",
     "output_type": "stream",
     "text": [
      "135it [00:06, 21.51it/s]"
     ]
    },
    {
     "name": "stdout",
     "output_type": "stream",
     "text": [
      "2024-01-09 17:33:59,927 INFO Added a workflow. id_map: {-1936: 8249}\n",
      "2024-01-09 17:33:59,983 INFO Added a workflow. id_map: {-1937: 8250}\n",
      "2024-01-09 17:34:00,033 INFO Added a workflow. id_map: {-1938: 8251}\n"
     ]
    },
    {
     "name": "stderr",
     "output_type": "stream",
     "text": [
      "138it [00:06, 20.23it/s]"
     ]
    },
    {
     "name": "stdout",
     "output_type": "stream",
     "text": [
      "2024-01-09 17:34:00,100 INFO Added a workflow. id_map: {-1939: 8252}\n",
      "2024-01-09 17:34:00,173 INFO Added a workflow. id_map: {-1940: 8253}\n",
      "2024-01-09 17:34:00,233 INFO Added a workflow. id_map: {-1941: 8254}\n"
     ]
    },
    {
     "name": "stderr",
     "output_type": "stream",
     "text": [
      "141it [00:06, 18.31it/s]"
     ]
    },
    {
     "name": "stdout",
     "output_type": "stream",
     "text": [
      "2024-01-09 17:34:00,286 INFO Added a workflow. id_map: {-1942: 8255}\n",
      "2024-01-09 17:34:00,353 INFO Added a workflow. id_map: {-1943: 8256}\n"
     ]
    },
    {
     "name": "stderr",
     "output_type": "stream",
     "text": [
      "143it [00:06, 17.91it/s]"
     ]
    },
    {
     "name": "stdout",
     "output_type": "stream",
     "text": [
      "2024-01-09 17:34:00,422 INFO Added a workflow. id_map: {-1944: 8257}\n",
      "2024-01-09 17:34:00,480 INFO Added a workflow. id_map: {-1945: 8258}\n"
     ]
    },
    {
     "name": "stderr",
     "output_type": "stream",
     "text": [
      "145it [00:06, 17.36it/s]"
     ]
    },
    {
     "name": "stdout",
     "output_type": "stream",
     "text": [
      "2024-01-09 17:34:00,530 INFO Added a workflow. id_map: {-1946: 8259}\n",
      "2024-01-09 17:34:00,595 INFO Added a workflow. id_map: {-1947: 8260}\n"
     ]
    },
    {
     "name": "stderr",
     "output_type": "stream",
     "text": [
      "147it [00:06, 17.31it/s]"
     ]
    },
    {
     "name": "stdout",
     "output_type": "stream",
     "text": [
      "2024-01-09 17:34:00,649 INFO Added a workflow. id_map: {-1948: 8261}\n",
      "2024-01-09 17:34:00,721 INFO Added a workflow. id_map: {-1949: 8262}\n"
     ]
    },
    {
     "name": "stderr",
     "output_type": "stream",
     "text": [
      "149it [00:07, 16.91it/s]"
     ]
    },
    {
     "name": "stdout",
     "output_type": "stream",
     "text": [
      "2024-01-09 17:34:00,776 INFO Added a workflow. id_map: {-1950: 8263}\n",
      "2024-01-09 17:34:00,824 INFO Added a workflow. id_map: {-1951: 8264}\n"
     ]
    },
    {
     "name": "stderr",
     "output_type": "stream",
     "text": [
      "151it [00:07, 17.56it/s]"
     ]
    },
    {
     "name": "stdout",
     "output_type": "stream",
     "text": [
      "2024-01-09 17:34:00,882 INFO Added a workflow. id_map: {-1952: 8265}\n",
      "2024-01-09 17:34:00,921 INFO Added a workflow. id_map: {-1953: 8266}\n",
      "2024-01-09 17:34:00,960 INFO Added a workflow. id_map: {-1954: 8267}\n"
     ]
    },
    {
     "name": "stderr",
     "output_type": "stream",
     "text": [
      "154it [00:07, 19.03it/s]"
     ]
    },
    {
     "name": "stdout",
     "output_type": "stream",
     "text": [
      "2024-01-09 17:34:01,012 INFO Added a workflow. id_map: {-1955: 8268}\n",
      "2024-01-09 17:34:01,054 INFO Added a workflow. id_map: {-1956: 8269}\n",
      "2024-01-09 17:34:01,096 INFO Added a workflow. id_map: {-1957: 8270}\n"
     ]
    },
    {
     "name": "stderr",
     "output_type": "stream",
     "text": [
      "157it [00:07, 19.97it/s]"
     ]
    },
    {
     "name": "stdout",
     "output_type": "stream",
     "text": [
      "2024-01-09 17:34:01,145 INFO Added a workflow. id_map: {-1958: 8271}\n",
      "2024-01-09 17:34:01,176 INFO Added a workflow. id_map: {-1959: 8272}\n",
      "2024-01-09 17:34:01,213 INFO Added a workflow. id_map: {-1960: 8273}\n"
     ]
    },
    {
     "name": "stderr",
     "output_type": "stream",
     "text": [
      "160it [00:07, 21.55it/s]"
     ]
    },
    {
     "name": "stdout",
     "output_type": "stream",
     "text": [
      "2024-01-09 17:34:01,259 INFO Added a workflow. id_map: {-1961: 8274}\n",
      "2024-01-09 17:34:01,299 INFO Added a workflow. id_map: {-1962: 8275}\n",
      "2024-01-09 17:34:01,330 INFO Added a workflow. id_map: {-1963: 8276}\n"
     ]
    },
    {
     "name": "stderr",
     "output_type": "stream",
     "text": [
      "163it [00:07, 22.70it/s]"
     ]
    },
    {
     "name": "stdout",
     "output_type": "stream",
     "text": [
      "2024-01-09 17:34:01,371 INFO Added a workflow. id_map: {-1964: 8277}\n",
      "2024-01-09 17:34:01,408 INFO Added a workflow. id_map: {-1965: 8278}\n",
      "2024-01-09 17:34:01,445 INFO Added a workflow. id_map: {-1966: 8279}\n"
     ]
    },
    {
     "name": "stderr",
     "output_type": "stream",
     "text": [
      "166it [00:07, 23.70it/s]"
     ]
    },
    {
     "name": "stdout",
     "output_type": "stream",
     "text": [
      "2024-01-09 17:34:01,474 INFO Added a workflow. id_map: {-1967: 8280}\n",
      "2024-01-09 17:34:01,510 INFO Added a workflow. id_map: {-1968: 8281}\n",
      "2024-01-09 17:34:01,548 INFO Added a workflow. id_map: {-1969: 8282}\n"
     ]
    },
    {
     "name": "stderr",
     "output_type": "stream",
     "text": [
      "169it [00:07, 25.15it/s]"
     ]
    },
    {
     "name": "stdout",
     "output_type": "stream",
     "text": [
      "2024-01-09 17:34:01,594 INFO Added a workflow. id_map: {-1970: 8283}\n",
      "2024-01-09 17:34:01,644 INFO Added a workflow. id_map: {-1971: 8284}\n",
      "2024-01-09 17:34:01,700 INFO Added a workflow. id_map: {-1972: 8285}\n"
     ]
    },
    {
     "name": "stderr",
     "output_type": "stream",
     "text": [
      "172it [00:08, 23.18it/s]"
     ]
    },
    {
     "name": "stdout",
     "output_type": "stream",
     "text": [
      "2024-01-09 17:34:01,749 INFO Added a workflow. id_map: {-1973: 8286}\n",
      "2024-01-09 17:34:01,796 INFO Added a workflow. id_map: {-1974: 8287}\n",
      "2024-01-09 17:34:01,831 INFO Added a workflow. id_map: {-1975: 8288}\n"
     ]
    },
    {
     "name": "stderr",
     "output_type": "stream",
     "text": [
      "175it [00:08, 23.12it/s]"
     ]
    },
    {
     "name": "stdout",
     "output_type": "stream",
     "text": [
      "2024-01-09 17:34:01,872 INFO Added a workflow. id_map: {-1976: 8289}\n",
      "2024-01-09 17:34:01,916 INFO Added a workflow. id_map: {-1977: 8290}\n",
      "2024-01-09 17:34:01,968 INFO Added a workflow. id_map: {-1978: 8291}\n"
     ]
    },
    {
     "name": "stderr",
     "output_type": "stream",
     "text": [
      "178it [00:08, 22.70it/s]"
     ]
    },
    {
     "name": "stdout",
     "output_type": "stream",
     "text": [
      "2024-01-09 17:34:02,007 INFO Added a workflow. id_map: {-1979: 8292}\n",
      "2024-01-09 17:34:02,047 INFO Added a workflow. id_map: {-1980: 8293}\n",
      "2024-01-09 17:34:02,080 INFO Added a workflow. id_map: {-1981: 8294}\n"
     ]
    },
    {
     "name": "stderr",
     "output_type": "stream",
     "text": [
      "181it [00:08, 23.82it/s]"
     ]
    },
    {
     "name": "stdout",
     "output_type": "stream",
     "text": [
      "2024-01-09 17:34:02,123 INFO Added a workflow. id_map: {-1982: 8295}\n",
      "2024-01-09 17:34:02,189 INFO Added a workflow. id_map: {-1983: 8296}\n",
      "2024-01-09 17:34:02,246 INFO Added a workflow. id_map: {-1984: 8297}\n"
     ]
    },
    {
     "name": "stderr",
     "output_type": "stream",
     "text": [
      "184it [00:08, 21.74it/s]"
     ]
    },
    {
     "name": "stdout",
     "output_type": "stream",
     "text": [
      "2024-01-09 17:34:02,307 INFO Added a workflow. id_map: {-1985: 8298}\n",
      "2024-01-09 17:34:02,343 INFO Added a workflow. id_map: {-1986: 8299}\n",
      "2024-01-09 17:34:02,386 INFO Added a workflow. id_map: {-1987: 8300}\n"
     ]
    },
    {
     "name": "stderr",
     "output_type": "stream",
     "text": [
      "187it [00:08, 21.63it/s]"
     ]
    },
    {
     "name": "stdout",
     "output_type": "stream",
     "text": [
      "2024-01-09 17:34:02,431 INFO Added a workflow. id_map: {-1988: 8301}\n",
      "2024-01-09 17:34:02,464 INFO Added a workflow. id_map: {-1989: 8302}\n",
      "2024-01-09 17:34:02,507 INFO Added a workflow. id_map: {-1990: 8303}\n"
     ]
    },
    {
     "name": "stderr",
     "output_type": "stream",
     "text": [
      "190it [00:08, 22.48it/s]"
     ]
    },
    {
     "name": "stdout",
     "output_type": "stream",
     "text": [
      "2024-01-09 17:34:02,540 INFO Added a workflow. id_map: {-1991: 8304}\n",
      "2024-01-09 17:34:02,577 INFO Added a workflow. id_map: {-1992: 8305}\n",
      "2024-01-09 17:34:02,615 INFO Added a workflow. id_map: {-1993: 8306}\n"
     ]
    },
    {
     "name": "stderr",
     "output_type": "stream",
     "text": [
      "193it [00:08, 23.87it/s]"
     ]
    },
    {
     "name": "stdout",
     "output_type": "stream",
     "text": [
      "2024-01-09 17:34:02,651 INFO Added a workflow. id_map: {-1994: 8307}\n",
      "2024-01-09 17:34:02,704 INFO Added a workflow. id_map: {-1995: 8308}\n",
      "2024-01-09 17:34:02,753 INFO Added a workflow. id_map: {-1996: 8309}\n"
     ]
    },
    {
     "name": "stderr",
     "output_type": "stream",
     "text": [
      "196it [00:09, 23.18it/s]"
     ]
    },
    {
     "name": "stdout",
     "output_type": "stream",
     "text": [
      "2024-01-09 17:34:02,788 INFO Added a workflow. id_map: {-1997: 8310}\n",
      "2024-01-09 17:34:02,846 INFO Added a workflow. id_map: {-1998: 8311}\n",
      "2024-01-09 17:34:02,924 INFO Added a workflow. id_map: {-1999: 8312}\n"
     ]
    },
    {
     "name": "stderr",
     "output_type": "stream",
     "text": [
      "199it [00:09, 21.14it/s]"
     ]
    },
    {
     "name": "stdout",
     "output_type": "stream",
     "text": [
      "2024-01-09 17:34:02,962 INFO Added a workflow. id_map: {-2000: 8313}\n"
     ]
    },
    {
     "name": "stderr",
     "output_type": "stream",
     "text": [
      "200it [00:09, 21.58it/s]\n"
     ]
    }
   ],
   "source": [
    "#   Paths to the candidates datasets\n",
    "candidate_df_path    = Path(\"df_selected_v1.json\")\n",
    " \n",
    "#   Loading the candidates datasets\n",
    "if not candidate_df_path.exists():\n",
    "    raise Exception(f\"The file containing the structures of the candidates was not found at {candidate_df_path}.\")\n",
    "else:\n",
    "    df_selected = pd.read_json(candidate_df_path)\n",
    "\n",
    "#   Iterating over the candidates to add them in the Launchpad \n",
    "for mpid, d in tqdm(zip(df_selected.index.values, df_selected['structure'])):\n",
    "\n",
    "    # Initializes the MP structure\n",
    "    struc = Structure.from_dict(d)\n",
    "    structure = struc.get_primitive_structure()\n",
    " \n",
    "    # Create a Dfpt dielectric WF to compute the dielectric tensor\n",
    "    dielec_flow = DielectricMaker().make(structure=structure)\n",
    " \n",
    "    # Power ups\n",
    "        # Increase the kpoints density to 1500 per reciprocal atom for balance accuracy/complexity\n",
    "    dielec_flow = update_user_kpoints_settings( dielec_flow, {\"grid_density\": 1500})\n",
    " \n",
    "    # Let's add a metadata to recover it easily from the MongoDb afterwards with {\"spec._tasks.job.metadata.Label\": \"HSE_Etot(x)\"}\n",
    "    dielec_flow.update_metadata({\"Batch\": \"re2fractive_hg_v1_bisbis\", \"mp-id\": f\"{mpid}\"})\n",
    " \n",
    " \n",
    " \n",
    "        # Specify:  the parallelization to optimize performance\n",
    "        #           the electronic convergence criterion            (1E-5 eV otherwise by default),\n",
    "        #           do not enforce a type of psp --> read in POTCAR (PBEsol otherwise by default)\n",
    "        #           projection done in real space to improve efficiency (True otherwise)\n",
    "    dielec_flow = update_user_incar_settings(   dielec_flow, {  \"KPAR\": 8,\n",
    "                                                                \"EDIFF\": 1E-6,\n",
    "                                                                \"GGA\": None,\n",
    "                                                                \"LREAL\": 'False',\n",
    "                                                                \"ALGO\": 'All',\n",
    "                                                                \"ISMEAR\": 0,\n",
    "                                                                \"SIGMA\": 0.03,\n",
    "                                                                \"LAECHG\": 'False',\n",
    "                                                                \"LELF\": 'False',\n",
    "                                                                \"LVTOT\": 'False',\n",
    "                                                                \"LWAVE\": 'False',\n",
    "                                                                \"PREC\": 'Accurate',\n",
    "                                                                \"IBRION\": -1,\n",
    "                                                                \"NSW\": 0\n",
    "                                                                })\n",
    " \n",
    "        # Choose the type of PSP, here PBE_54\n",
    "    dielec_flow = update_user_potcar_functional(dielec_flow, \"PBE_54\")\n",
    " \n",
    "    # convert the flow to a fireworks WorkFlow object\n",
    "    wf = flow_to_workflow(dielec_flow)\n",
    "\n",
    "    # # # # submit the workflow to the FireWorks launchpad (requires a valid connection)\n",
    "    # lpad = LaunchPad.auto_load()\n",
    "    # lpad.add_wf(wf)\n",
    " \n",
    "#   Final step: launch the calculations on a cluster using qlaunch "
   ]
  },
  {
   "cell_type": "code",
   "execution_count": null,
   "metadata": {},
   "outputs": [],
   "source": []
  }
 ],
 "metadata": {
  "kernelspec": {
   "display_name": "atom2env_dev_v2",
   "language": "python",
   "name": "python3"
  },
  "language_info": {
   "codemirror_mode": {
    "name": "ipython",
    "version": 3
   },
   "file_extension": ".py",
   "mimetype": "text/x-python",
   "name": "python",
   "nbconvert_exporter": "python",
   "pygments_lexer": "ipython3",
   "version": "3.10.13"
  }
 },
 "nbformat": 4,
 "nbformat_minor": 2
}
