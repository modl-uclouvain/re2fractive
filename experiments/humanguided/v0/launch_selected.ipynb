{
 "cells": [
  {
   "cell_type": "code",
   "execution_count": 1,
   "metadata": {},
   "outputs": [
    {
     "name": "stderr",
     "output_type": "stream",
     "text": [
      "/home/vtrinquet/anaconda3/envs/atom2env_dev_v2/lib/python3.10/site-packages/tqdm/auto.py:21: TqdmWarning: IProgress not found. Please update jupyter and ipywidgets. See https://ipywidgets.readthedocs.io/en/stable/user_install.html\n",
      "  from .autonotebook import tqdm as notebook_tqdm\n"
     ]
    }
   ],
   "source": [
    "# python env: atom2_env_dev_v2\n",
    "\n",
    "import json                                                                                                                             \n",
    "import monty.json\n",
    "import numpy as np\n",
    "import pandas as pd\n",
    "import traceback as tb\n",
    "import sys\n",
    " \n",
    "from pymatgen.core.structure import Structure\n",
    " \n",
    "from atomate2.vasp.jobs.core import DielectricMaker\n",
    "from atomate2.vasp.powerups import (\n",
    "    update_user_incar_settings,\n",
    "    update_user_potcar_functional,\n",
    "    update_user_kpoints_settings\n",
    ")\n",
    " \n",
    "from fireworks import LaunchPad\n",
    "from importlib import reload\n",
    " \n",
    "from jobflow import Flow\n",
    "from jobflow import run_locally\n",
    "from jobflow.managers.fireworks import flow_to_workflow\n",
    " \n",
    "from pathlib import Path\n",
    "import pickle\n",
    "from tqdm import tqdm"
   ]
  },
  {
   "cell_type": "markdown",
   "metadata": {},
   "source": [
    "# Load the selected candidates"
   ]
  },
  {
   "cell_type": "code",
   "execution_count": 2,
   "metadata": {},
   "outputs": [],
   "source": [
    "df_selected = pd.read_json('df_selected_v0.json')"
   ]
  },
  {
   "cell_type": "markdown",
   "metadata": {},
   "source": [
    "# LaunchPad"
   ]
  },
  {
   "cell_type": "code",
   "execution_count": 3,
   "metadata": {},
   "outputs": [
    {
     "name": "stderr",
     "output_type": "stream",
     "text": [
      "0it [00:00, ?it/s]"
     ]
    },
    {
     "name": "stdout",
     "output_type": "stream",
     "text": [
      "2024-01-03 13:49:44,994 INFO Added a workflow. id_map: {-1: 7264}\n",
      "2024-01-03 13:49:45,038 INFO Added a workflow. id_map: {-2: 7265}\n",
      "2024-01-03 13:49:45,080 INFO Added a workflow. id_map: {-3: 7266}\n"
     ]
    },
    {
     "name": "stderr",
     "output_type": "stream",
     "text": [
      "3it [00:00, 23.00it/s]"
     ]
    },
    {
     "name": "stdout",
     "output_type": "stream",
     "text": [
      "2024-01-03 13:49:45,115 INFO Added a workflow. id_map: {-4: 7267}\n",
      "2024-01-03 13:49:45,162 INFO Added a workflow. id_map: {-5: 7268}\n",
      "2024-01-03 13:49:45,197 INFO Added a workflow. id_map: {-6: 7269}\n"
     ]
    },
    {
     "name": "stderr",
     "output_type": "stream",
     "text": [
      "6it [00:00, 24.39it/s]"
     ]
    },
    {
     "name": "stdout",
     "output_type": "stream",
     "text": [
      "2024-01-03 13:49:45,242 INFO Added a workflow. id_map: {-7: 7270}\n",
      "2024-01-03 13:49:45,285 INFO Added a workflow. id_map: {-8: 7271}\n",
      "2024-01-03 13:49:45,322 INFO Added a workflow. id_map: {-9: 7272}\n"
     ]
    },
    {
     "name": "stderr",
     "output_type": "stream",
     "text": [
      "9it [00:00, 24.16it/s]"
     ]
    },
    {
     "name": "stdout",
     "output_type": "stream",
     "text": [
      "2024-01-03 13:49:45,378 INFO Added a workflow. id_map: {-10: 7273}\n",
      "2024-01-03 13:49:45,414 INFO Added a workflow. id_map: {-11: 7274}\n",
      "2024-01-03 13:49:45,449 INFO Added a workflow. id_map: {-12: 7275}\n"
     ]
    },
    {
     "name": "stderr",
     "output_type": "stream",
     "text": [
      "12it [00:00, 23.98it/s]"
     ]
    },
    {
     "name": "stdout",
     "output_type": "stream",
     "text": [
      "2024-01-03 13:49:45,484 INFO Added a workflow. id_map: {-13: 7276}\n",
      "2024-01-03 13:49:45,555 INFO Added a workflow. id_map: {-14: 7277}\n",
      "2024-01-03 13:49:45,587 INFO Added a workflow. id_map: {-15: 7278}\n"
     ]
    },
    {
     "name": "stderr",
     "output_type": "stream",
     "text": [
      "15it [00:00, 23.14it/s]"
     ]
    },
    {
     "name": "stdout",
     "output_type": "stream",
     "text": [
      "2024-01-03 13:49:45,632 INFO Added a workflow. id_map: {-16: 7279}\n",
      "2024-01-03 13:49:45,680 INFO Added a workflow. id_map: {-17: 7280}\n",
      "2024-01-03 13:49:45,719 INFO Added a workflow. id_map: {-18: 7281}\n"
     ]
    },
    {
     "name": "stderr",
     "output_type": "stream",
     "text": [
      "18it [00:00, 23.03it/s]"
     ]
    },
    {
     "name": "stdout",
     "output_type": "stream",
     "text": [
      "2024-01-03 13:49:45,786 INFO Added a workflow. id_map: {-19: 7282}\n",
      "2024-01-03 13:49:45,825 INFO Added a workflow. id_map: {-20: 7283}\n",
      "2024-01-03 13:49:45,859 INFO Added a workflow. id_map: {-21: 7284}\n"
     ]
    },
    {
     "name": "stderr",
     "output_type": "stream",
     "text": [
      "21it [00:00, 22.46it/s]"
     ]
    },
    {
     "name": "stdout",
     "output_type": "stream",
     "text": [
      "2024-01-03 13:49:45,910 INFO Added a workflow. id_map: {-22: 7285}\n",
      "2024-01-03 13:49:45,950 INFO Added a workflow. id_map: {-23: 7286}\n",
      "2024-01-03 13:49:46,018 INFO Added a workflow. id_map: {-24: 7287}\n"
     ]
    },
    {
     "name": "stderr",
     "output_type": "stream",
     "text": [
      "24it [00:01, 21.18it/s]"
     ]
    },
    {
     "name": "stdout",
     "output_type": "stream",
     "text": [
      "2024-01-03 13:49:46,062 INFO Added a workflow. id_map: {-25: 7288}\n",
      "2024-01-03 13:49:46,100 INFO Added a workflow. id_map: {-26: 7289}\n",
      "2024-01-03 13:49:46,131 INFO Added a workflow. id_map: {-27: 7290}\n"
     ]
    },
    {
     "name": "stderr",
     "output_type": "stream",
     "text": [
      "27it [00:01, 22.60it/s]"
     ]
    },
    {
     "name": "stdout",
     "output_type": "stream",
     "text": [
      "2024-01-03 13:49:46,161 INFO Added a workflow. id_map: {-28: 7291}\n",
      "2024-01-03 13:49:46,197 INFO Added a workflow. id_map: {-29: 7292}\n",
      "2024-01-03 13:49:46,232 INFO Added a workflow. id_map: {-30: 7293}\n"
     ]
    },
    {
     "name": "stderr",
     "output_type": "stream",
     "text": [
      "30it [00:01, 24.42it/s]"
     ]
    },
    {
     "name": "stdout",
     "output_type": "stream",
     "text": [
      "2024-01-03 13:49:46,280 INFO Added a workflow. id_map: {-31: 7294}\n",
      "2024-01-03 13:49:46,314 INFO Added a workflow. id_map: {-32: 7295}\n",
      "2024-01-03 13:49:46,353 INFO Added a workflow. id_map: {-33: 7296}\n"
     ]
    },
    {
     "name": "stderr",
     "output_type": "stream",
     "text": [
      "33it [00:01, 24.51it/s]"
     ]
    },
    {
     "name": "stdout",
     "output_type": "stream",
     "text": [
      "2024-01-03 13:49:46,422 INFO Added a workflow. id_map: {-34: 7297}\n",
      "2024-01-03 13:49:46,465 INFO Added a workflow. id_map: {-35: 7298}\n",
      "2024-01-03 13:49:46,515 INFO Added a workflow. id_map: {-36: 7299}\n"
     ]
    },
    {
     "name": "stderr",
     "output_type": "stream",
     "text": [
      "36it [00:01, 22.31it/s]"
     ]
    },
    {
     "name": "stdout",
     "output_type": "stream",
     "text": [
      "2024-01-03 13:49:46,567 INFO Added a workflow. id_map: {-37: 7300}\n",
      "2024-01-03 13:49:46,653 INFO Added a workflow. id_map: {-38: 7301}\n",
      "2024-01-03 13:49:46,693 INFO Added a workflow. id_map: {-39: 7302}\n"
     ]
    },
    {
     "name": "stderr",
     "output_type": "stream",
     "text": [
      "39it [00:01, 20.30it/s]"
     ]
    },
    {
     "name": "stdout",
     "output_type": "stream",
     "text": [
      "2024-01-03 13:49:46,736 INFO Added a workflow. id_map: {-40: 7303}\n",
      "2024-01-03 13:49:46,800 INFO Added a workflow. id_map: {-41: 7304}\n",
      "2024-01-03 13:49:46,842 INFO Added a workflow. id_map: {-42: 7305}\n"
     ]
    },
    {
     "name": "stderr",
     "output_type": "stream",
     "text": [
      "42it [00:01, 20.27it/s]"
     ]
    },
    {
     "name": "stdout",
     "output_type": "stream",
     "text": [
      "2024-01-03 13:49:46,908 INFO Added a workflow. id_map: {-43: 7306}\n",
      "2024-01-03 13:49:46,950 INFO Added a workflow. id_map: {-44: 7307}\n",
      "2024-01-03 13:49:46,997 INFO Added a workflow. id_map: {-45: 7308}\n"
     ]
    },
    {
     "name": "stderr",
     "output_type": "stream",
     "text": [
      "45it [00:02, 19.99it/s]"
     ]
    },
    {
     "name": "stdout",
     "output_type": "stream",
     "text": [
      "2024-01-03 13:49:47,040 INFO Added a workflow. id_map: {-46: 7309}\n",
      "2024-01-03 13:49:47,093 INFO Added a workflow. id_map: {-47: 7310}\n",
      "2024-01-03 13:49:47,130 INFO Added a workflow. id_map: {-48: 7311}\n"
     ]
    },
    {
     "name": "stderr",
     "output_type": "stream",
     "text": [
      "48it [00:02, 20.68it/s]"
     ]
    },
    {
     "name": "stdout",
     "output_type": "stream",
     "text": [
      "2024-01-03 13:49:47,164 INFO Added a workflow. id_map: {-49: 7312}\n",
      "2024-01-03 13:49:47,205 INFO Added a workflow. id_map: {-50: 7313}\n",
      "2024-01-03 13:49:47,247 INFO Added a workflow. id_map: {-51: 7314}\n"
     ]
    },
    {
     "name": "stderr",
     "output_type": "stream",
     "text": [
      "51it [00:02, 21.98it/s]"
     ]
    },
    {
     "name": "stdout",
     "output_type": "stream",
     "text": [
      "2024-01-03 13:49:47,278 INFO Added a workflow. id_map: {-52: 7315}\n",
      "2024-01-03 13:49:47,310 INFO Added a workflow. id_map: {-53: 7316}\n",
      "2024-01-03 13:49:47,353 INFO Added a workflow. id_map: {-54: 7317}\n"
     ]
    },
    {
     "name": "stderr",
     "output_type": "stream",
     "text": [
      "54it [00:02, 23.56it/s]"
     ]
    },
    {
     "name": "stdout",
     "output_type": "stream",
     "text": [
      "2024-01-03 13:49:47,398 INFO Added a workflow. id_map: {-55: 7318}\n",
      "2024-01-03 13:49:47,457 INFO Added a workflow. id_map: {-56: 7319}\n",
      "2024-01-03 13:49:47,509 INFO Added a workflow. id_map: {-57: 7320}\n"
     ]
    },
    {
     "name": "stderr",
     "output_type": "stream",
     "text": [
      "57it [00:02, 22.05it/s]"
     ]
    },
    {
     "name": "stdout",
     "output_type": "stream",
     "text": [
      "2024-01-03 13:49:47,547 INFO Added a workflow. id_map: {-58: 7321}\n",
      "2024-01-03 13:49:47,592 INFO Added a workflow. id_map: {-59: 7322}\n",
      "2024-01-03 13:49:47,697 INFO Added a workflow. id_map: {-60: 7323}\n"
     ]
    },
    {
     "name": "stderr",
     "output_type": "stream",
     "text": [
      "60it [00:02, 19.78it/s]"
     ]
    },
    {
     "name": "stdout",
     "output_type": "stream",
     "text": [
      "2024-01-03 13:49:47,743 INFO Added a workflow. id_map: {-61: 7324}\n",
      "2024-01-03 13:49:47,787 INFO Added a workflow. id_map: {-62: 7325}\n",
      "2024-01-03 13:49:47,825 INFO Added a workflow. id_map: {-63: 7326}\n"
     ]
    },
    {
     "name": "stderr",
     "output_type": "stream",
     "text": [
      "63it [00:02, 20.77it/s]"
     ]
    },
    {
     "name": "stdout",
     "output_type": "stream",
     "text": [
      "2024-01-03 13:49:47,864 INFO Added a workflow. id_map: {-64: 7327}\n",
      "2024-01-03 13:49:47,896 INFO Added a workflow. id_map: {-65: 7328}\n",
      "2024-01-03 13:49:47,928 INFO Added a workflow. id_map: {-66: 7329}\n"
     ]
    },
    {
     "name": "stderr",
     "output_type": "stream",
     "text": [
      "66it [00:02, 22.74it/s]"
     ]
    },
    {
     "name": "stdout",
     "output_type": "stream",
     "text": [
      "2024-01-03 13:49:47,968 INFO Added a workflow. id_map: {-67: 7330}\n",
      "2024-01-03 13:49:48,004 INFO Added a workflow. id_map: {-68: 7331}\n",
      "2024-01-03 13:49:48,037 INFO Added a workflow. id_map: {-69: 7332}\n"
     ]
    },
    {
     "name": "stderr",
     "output_type": "stream",
     "text": [
      "69it [00:03, 23.89it/s]"
     ]
    },
    {
     "name": "stdout",
     "output_type": "stream",
     "text": [
      "2024-01-03 13:49:48,081 INFO Added a workflow. id_map: {-70: 7333}\n",
      "2024-01-03 13:49:48,120 INFO Added a workflow. id_map: {-71: 7334}\n",
      "2024-01-03 13:49:48,181 INFO Added a workflow. id_map: {-72: 7335}\n"
     ]
    },
    {
     "name": "stderr",
     "output_type": "stream",
     "text": [
      "72it [00:03, 22.92it/s]"
     ]
    },
    {
     "name": "stdout",
     "output_type": "stream",
     "text": [
      "2024-01-03 13:49:48,243 INFO Added a workflow. id_map: {-73: 7336}\n",
      "2024-01-03 13:49:48,301 INFO Added a workflow. id_map: {-74: 7337}\n",
      "2024-01-03 13:49:48,348 INFO Added a workflow. id_map: {-75: 7338}\n"
     ]
    },
    {
     "name": "stderr",
     "output_type": "stream",
     "text": [
      "75it [00:03, 21.21it/s]"
     ]
    },
    {
     "name": "stdout",
     "output_type": "stream",
     "text": [
      "2024-01-03 13:49:48,388 INFO Added a workflow. id_map: {-76: 7339}\n",
      "2024-01-03 13:49:48,433 INFO Added a workflow. id_map: {-77: 7340}\n",
      "2024-01-03 13:49:48,468 INFO Added a workflow. id_map: {-78: 7341}\n"
     ]
    },
    {
     "name": "stderr",
     "output_type": "stream",
     "text": [
      "78it [00:03, 22.23it/s]"
     ]
    },
    {
     "name": "stdout",
     "output_type": "stream",
     "text": [
      "2024-01-03 13:49:48,504 INFO Added a workflow. id_map: {-79: 7342}\n",
      "2024-01-03 13:49:48,546 INFO Added a workflow. id_map: {-80: 7343}\n",
      "2024-01-03 13:49:48,581 INFO Added a workflow. id_map: {-81: 7344}\n"
     ]
    },
    {
     "name": "stderr",
     "output_type": "stream",
     "text": [
      "81it [00:03, 23.35it/s]"
     ]
    },
    {
     "name": "stdout",
     "output_type": "stream",
     "text": [
      "2024-01-03 13:49:48,626 INFO Added a workflow. id_map: {-82: 7345}\n",
      "2024-01-03 13:49:48,665 INFO Added a workflow. id_map: {-83: 7346}\n",
      "2024-01-03 13:49:48,715 INFO Added a workflow. id_map: {-84: 7347}\n"
     ]
    },
    {
     "name": "stderr",
     "output_type": "stream",
     "text": [
      "84it [00:03, 23.03it/s]"
     ]
    },
    {
     "name": "stdout",
     "output_type": "stream",
     "text": [
      "2024-01-03 13:49:48,745 INFO Added a workflow. id_map: {-85: 7348}\n",
      "2024-01-03 13:49:48,788 INFO Added a workflow. id_map: {-86: 7349}\n",
      "2024-01-03 13:49:48,841 INFO Added a workflow. id_map: {-87: 7350}\n"
     ]
    },
    {
     "name": "stderr",
     "output_type": "stream",
     "text": [
      "87it [00:03, 23.23it/s]"
     ]
    },
    {
     "name": "stdout",
     "output_type": "stream",
     "text": [
      "2024-01-03 13:49:48,897 INFO Added a workflow. id_map: {-88: 7351}\n",
      "2024-01-03 13:49:48,938 INFO Added a workflow. id_map: {-89: 7352}\n",
      "2024-01-03 13:49:48,970 INFO Added a workflow. id_map: {-90: 7353}\n"
     ]
    },
    {
     "name": "stderr",
     "output_type": "stream",
     "text": [
      "90it [00:04, 23.22it/s]"
     ]
    },
    {
     "name": "stdout",
     "output_type": "stream",
     "text": [
      "2024-01-03 13:49:49,007 INFO Added a workflow. id_map: {-91: 7354}\n",
      "2024-01-03 13:49:49,037 INFO Added a workflow. id_map: {-92: 7355}\n",
      "2024-01-03 13:49:49,083 INFO Added a workflow. id_map: {-93: 7356}\n"
     ]
    },
    {
     "name": "stderr",
     "output_type": "stream",
     "text": [
      "93it [00:04, 24.21it/s]"
     ]
    },
    {
     "name": "stdout",
     "output_type": "stream",
     "text": [
      "2024-01-03 13:49:49,128 INFO Added a workflow. id_map: {-94: 7357}\n",
      "2024-01-03 13:49:49,172 INFO Added a workflow. id_map: {-95: 7358}\n",
      "2024-01-03 13:49:49,212 INFO Added a workflow. id_map: {-96: 7359}\n"
     ]
    },
    {
     "name": "stderr",
     "output_type": "stream",
     "text": [
      "96it [00:04, 23.93it/s]"
     ]
    },
    {
     "name": "stdout",
     "output_type": "stream",
     "text": [
      "2024-01-03 13:49:49,245 INFO Added a workflow. id_map: {-97: 7360}\n",
      "2024-01-03 13:49:49,286 INFO Added a workflow. id_map: {-98: 7361}\n",
      "2024-01-03 13:49:49,330 INFO Added a workflow. id_map: {-99: 7362}\n"
     ]
    },
    {
     "name": "stderr",
     "output_type": "stream",
     "text": [
      "99it [00:04, 24.31it/s]"
     ]
    },
    {
     "name": "stdout",
     "output_type": "stream",
     "text": [
      "2024-01-03 13:49:49,379 INFO Added a workflow. id_map: {-100: 7363}\n"
     ]
    },
    {
     "name": "stderr",
     "output_type": "stream",
     "text": [
      "100it [00:04, 22.57it/s]\n"
     ]
    }
   ],
   "source": [
    "#   Paths to the candidates datasets\n",
    "candidate_df_path    = Path(\"df_selected_v0.json\")\n",
    " \n",
    "#   Loading the candidates datasets\n",
    "if not candidate_df_path.exists():\n",
    "    raise Exception(f\"The file containing the structures of the candidates was not found at {candidate_df_path}.\")\n",
    "else:\n",
    "    df_selected = pd.read_json(candidate_df_path)\n",
    " \n",
    "#   Iterating over the candidates to add them in the Launchpad \n",
    "for mpid, d in tqdm(zip(df_selected.index.values, df_selected['structure'])):\n",
    "\n",
    "    # Initializes the MP structure\n",
    "    struc = Structure.from_dict(d)\n",
    "    structure = struc.get_primitive_structure()\n",
    " \n",
    "    # Create a Dfpt dielectric WF to compute the dielectric tensor\n",
    "    dielec_flow = DielectricMaker().make(structure=structure)\n",
    " \n",
    "    # Power ups\n",
    "        # Increase the kpoints density to 1500 per reciprocal atom for balance accuracy/complexity\n",
    "    dielec_flow = update_user_kpoints_settings( dielec_flow, {\"grid_density\": 1500})\n",
    " \n",
    "    # Let's add a metadata to recover it easily from the MongoDb afterwards with {\"spec._tasks.job.metadata.Label\": \"HSE_Etot(x)\"}\n",
    "    dielec_flow.update_metadata({\"Batch\": \"re2fractive_hg_v0\", \"mp-id\": f\"{mpid}\"})\n",
    " \n",
    " \n",
    " \n",
    "        # Specify:  the parallelization to optimize performance\n",
    "        #           the electronic convergence criterion            (1E-5 eV otherwise by default),\n",
    "        #           do not enforce a type of psp --> read in POTCAR (PBEsol otherwise by default)\n",
    "        #           projection done in real space to improve efficiency (True otherwise)\n",
    "    dielec_flow = update_user_incar_settings(   dielec_flow, {  \"KPAR\": 8,\n",
    "                                                                \"EDIFF\": 1E-6,\n",
    "                                                                \"GGA\": None,\n",
    "                                                                \"LREAL\": 'False',\n",
    "                                                                \"ALGO\": 'All',\n",
    "                                                                \"ISMEAR\": 0,\n",
    "                                                                \"SIGMA\": 0.03,\n",
    "                                                                \"LAECHG\": 'False',\n",
    "                                                                \"LELF\": 'False',\n",
    "                                                                \"LVTOT\": 'False',\n",
    "                                                                \"LWAVE\": 'False',\n",
    "                                                                \"PREC\": 'Accurate'\n",
    "                                                                })\n",
    " \n",
    "        # Choose the type of PSP, here PBE_54\n",
    "    dielec_flow = update_user_potcar_functional(dielec_flow, \"PBE_54\")\n",
    " \n",
    "    # convert the flow to a fireworks WorkFlow object\n",
    "    wf = flow_to_workflow(dielec_flow)\n",
    " \n",
    "    # # submit the workflow to the FireWorks launchpad (requires a valid connection)\n",
    "    # lpad = LaunchPad.auto_load()\n",
    "    # lpad.add_wf(wf)\n",
    " \n",
    "#   Final step: launch the calculations on a cluster using qlaunch "
   ]
  }
 ],
 "metadata": {
  "kernelspec": {
   "display_name": "atom2env_dev_v2",
   "language": "python",
   "name": "python3"
  },
  "language_info": {
   "codemirror_mode": {
    "name": "ipython",
    "version": 3
   },
   "file_extension": ".py",
   "mimetype": "text/x-python",
   "name": "python",
   "nbconvert_exporter": "python",
   "pygments_lexer": "ipython3",
   "version": "3.10.13"
  }
 },
 "nbformat": 4,
 "nbformat_minor": 2
}
