{
 "cells": [
  {
   "cell_type": "code",
   "execution_count": 26,
   "metadata": {},
   "outputs": [],
   "source": [
    "# python env: modnenv_v2\n",
    "\n",
    "import os\n",
    "import string\n",
    "import random\n",
    "import numpy as np\n",
    "from sklearn.model_selection import KFold\n",
    "from pathlib import Path, PosixPath\n",
    "import matplotlib.pyplot as plt\n",
    "import json \n",
    "import pandas as pd\n",
    "from copy import deepcopy\n",
    "from modnet.models import EnsembleMODNetModel\n",
    "from modnet.preprocessing import MODData\n",
    "from modnet.hyper_opt import FitGenetic\n",
    "from monty.serialization import dumpfn, loadfn\n",
    "from pymatgen.ext.matproj import MPRester\n",
    "from pymatgen.core.structure import Structure\n",
    "import plotly.express as px\n",
    "import plotly.graph_objects as go\n",
    "from sklearn.metrics import mean_absolute_error, mean_squared_error \n",
    "from scipy.stats import spearmanr\n",
    "from IPython.display import Image\n",
    "from tqdm import tqdm\n",
    "import pickle\n",
    "os.environ[\"CUDA_VISIBLE_DEVICES\"] = \"-1\""
   ]
  },
  {
   "cell_type": "code",
   "execution_count": 27,
   "metadata": {},
   "outputs": [
    {
     "data": {
      "text/plain": [
       "<module 'modwrap' from '/home/vtrinquet/Documents/Doctorat/JNB_Scripts_Clusters/NLO/HT/ref_idx/re2fractive/artificial/modwrap.py'>"
      ]
     },
     "execution_count": 27,
     "metadata": {},
     "output_type": "execute_result"
    }
   ],
   "source": [
    "from importlib import reload\n",
    "\n",
    "import modwrap as mdw\n",
    "\n",
    "reload(mdw)"
   ]
  },
  {
   "cell_type": "code",
   "execution_count": 28,
   "metadata": {},
   "outputs": [],
   "source": [
    "path_re2f = Path('/home/vtrinquet/Documents/Doctorat/JNB_Scripts_Clusters/NLO/HT/ref_idx/re2fractive')\n",
    "\n",
    "# Load the featurized MODData\n",
    "md_featselec = (path_re2f / 'humanguided' / 'v0' / 'mod.data_refeatselec_v0_v2')"
   ]
  },
  {
   "cell_type": "code",
   "execution_count": 29,
   "metadata": {},
   "outputs": [
    {
     "name": "stdout",
     "output_type": "stream",
     "text": [
      "2024-01-16 17:02:05,967 - modnet - INFO - Loaded <modnet.preprocessing.MODData object at 0x7f170a148370> object, created with modnet version 0.4.1\n",
      "2024-01-16 17:02:06,115 - modnet - INFO - Targets:\n",
      "2024-01-16 17:02:06,115 - modnet - INFO - 1)refractive_index: regression\n",
      "2024-01-16 17:02:06,163 - modnet - INFO - Multiprocessing on 2 cores. Total of 12 cores available.\n",
      "2024-01-16 17:02:06,165 - modnet - INFO - Generation number 0\n"
     ]
    },
    {
     "name": "stderr",
     "output_type": "stream",
     "text": [
      "  0%|          | 0/2 [00:00<?, ?it/s]2024-01-16 17:02:06.442723: I tensorflow/core/util/port.cc:113] oneDNN custom operations are on. You may see slightly different numerical results due to floating-point round-off errors from different computation orders. To turn them off, set the environment variable `TF_ENABLE_ONEDNN_OPTS=0`.\n",
      "2024-01-16 17:02:06.444480: I external/local_tsl/tsl/cuda/cudart_stub.cc:31] Could not find cuda drivers on your machine, GPU will not be used.\n",
      "2024-01-16 17:02:06.471505: E external/local_xla/xla/stream_executor/cuda/cuda_dnn.cc:9261] Unable to register cuDNN factory: Attempting to register factory for plugin cuDNN when one has already been registered\n",
      "2024-01-16 17:02:06.471631: E external/local_xla/xla/stream_executor/cuda/cuda_fft.cc:607] Unable to register cuFFT factory: Attempting to register factory for plugin cuFFT when one has already been registered\n",
      "2024-01-16 17:02:06.473273: E external/local_xla/xla/stream_executor/cuda/cuda_blas.cc:1515] Unable to register cuBLAS factory: Attempting to register factory for plugin cuBLAS when one has already been registered\n",
      "2024-01-16 17:02:06.477988: I external/local_tsl/tsl/cuda/cudart_stub.cc:31] Could not find cuda drivers on your machine, GPU will not be used.\n",
      "2024-01-16 17:02:06.478152: I tensorflow/core/platform/cpu_feature_guard.cc:182] This TensorFlow binary is optimized to use available CPU instructions in performance-critical operations.\n",
      "To enable the following instructions: AVX2 AVX_VNNI FMA, in other operations, rebuild TensorFlow with the appropriate compiler flags.\n",
      "2024-01-16 17:02:06.497358: I tensorflow/core/util/port.cc:113] oneDNN custom operations are on. You may see slightly different numerical results due to floating-point round-off errors from different computation orders. To turn them off, set the environment variable `TF_ENABLE_ONEDNN_OPTS=0`.\n",
      "2024-01-16 17:02:06.498869: I external/local_tsl/tsl/cuda/cudart_stub.cc:31] Could not find cuda drivers on your machine, GPU will not be used.\n",
      "2024-01-16 17:02:06.534074: E external/local_xla/xla/stream_executor/cuda/cuda_dnn.cc:9261] Unable to register cuDNN factory: Attempting to register factory for plugin cuDNN when one has already been registered\n",
      "2024-01-16 17:02:06.534108: E external/local_xla/xla/stream_executor/cuda/cuda_fft.cc:607] Unable to register cuFFT factory: Attempting to register factory for plugin cuFFT when one has already been registered\n",
      "2024-01-16 17:02:06.535025: E external/local_xla/xla/stream_executor/cuda/cuda_blas.cc:1515] Unable to register cuBLAS factory: Attempting to register factory for plugin cuBLAS when one has already been registered\n",
      "2024-01-16 17:02:06.542032: I external/local_tsl/tsl/cuda/cudart_stub.cc:31] Could not find cuda drivers on your machine, GPU will not be used.\n",
      "2024-01-16 17:02:06.542196: I tensorflow/core/platform/cpu_feature_guard.cc:182] This TensorFlow binary is optimized to use available CPU instructions in performance-critical operations.\n",
      "To enable the following instructions: AVX2 AVX_VNNI FMA, in other operations, rebuild TensorFlow with the appropriate compiler flags.\n",
      "2024-01-16 17:02:07.011469: W tensorflow/compiler/tf2tensorrt/utils/py_utils.cc:38] TF-TRT Warning: Could not find TensorRT\n",
      "2024-01-16 17:02:07.110641: W tensorflow/compiler/tf2tensorrt/utils/py_utils.cc:38] TF-TRT Warning: Could not find TensorRT\n",
      " 50%|█████     | 1/2 [00:06<00:06,  6.87s/it]"
     ]
    },
    {
     "name": "stdout",
     "output_type": "stream",
     "text": [
      "1/1 [==============================] - 0s 54ms/step\n"
     ]
    },
    {
     "name": "stderr",
     "output_type": "stream",
     "text": [
      "100%|██████████| 2/2 [00:07<00:00,  3.61s/it]"
     ]
    },
    {
     "name": "stdout",
     "output_type": "stream",
     "text": [
      "1/1 [==============================] - 0s 49ms/step\n",
      "2024-01-16 17:02:13,404 - modnet - INFO - Loss per individual: ind 0: 0.351 \tind 1: 599.919 \t\n",
      "2024-01-16 17:02:13,405 - modnet - INFO - Generation number 1\n"
     ]
    },
    {
     "name": "stderr",
     "output_type": "stream",
     "text": [
      "\n",
      "100%|██████████| 2/2 [00:02<00:00,  1.27s/it]"
     ]
    },
    {
     "name": "stdout",
     "output_type": "stream",
     "text": [
      "1/1 [==============================] - 0s 37ms/step\n",
      "1/1 [==============================] - 0s 31ms/step\n",
      "2024-01-16 17:02:15,960 - modnet - INFO - Loss per individual: ind 0: 0.282 \tind 1: 0.184 \t\n"
     ]
    },
    {
     "name": "stderr",
     "output_type": "stream",
     "text": [
      "\n"
     ]
    },
    {
     "name": "stdout",
     "output_type": "stream",
     "text": [
      "2024-01-16 17:02:17,071 - modnet - INFO - Refit...\n",
      "2024-01-16 17:02:17,208 - modnet - INFO - Generating bootstrap data...\n"
     ]
    },
    {
     "name": "stderr",
     "output_type": "stream",
     "text": [
      "  0%|          | 0/5 [00:00<?, ?it/s]2024-01-16 17:02:17.913759: I tensorflow/core/util/port.cc:113] oneDNN custom operations are on. You may see slightly different numerical results due to floating-point round-off errors from different computation orders. To turn them off, set the environment variable `TF_ENABLE_ONEDNN_OPTS=0`.\n",
      "2024-01-16 17:02:17.916316: I external/local_tsl/tsl/cuda/cudart_stub.cc:31] Could not find cuda drivers on your machine, GPU will not be used.\n",
      "2024-01-16 17:02:17.936383: I tensorflow/core/util/port.cc:113] oneDNN custom operations are on. You may see slightly different numerical results due to floating-point round-off errors from different computation orders. To turn them off, set the environment variable `TF_ENABLE_ONEDNN_OPTS=0`.\n",
      "2024-01-16 17:02:17.938055: I external/local_tsl/tsl/cuda/cudart_stub.cc:31] Could not find cuda drivers on your machine, GPU will not be used.\n",
      "2024-01-16 17:02:17.941160: E external/local_xla/xla/stream_executor/cuda/cuda_dnn.cc:9261] Unable to register cuDNN factory: Attempting to register factory for plugin cuDNN when one has already been registered\n",
      "2024-01-16 17:02:17.941187: E external/local_xla/xla/stream_executor/cuda/cuda_fft.cc:607] Unable to register cuFFT factory: Attempting to register factory for plugin cuFFT when one has already been registered\n",
      "2024-01-16 17:02:17.941973: E external/local_xla/xla/stream_executor/cuda/cuda_blas.cc:1515] Unable to register cuBLAS factory: Attempting to register factory for plugin cuBLAS when one has already been registered\n",
      "2024-01-16 17:02:17.946588: I external/local_tsl/tsl/cuda/cudart_stub.cc:31] Could not find cuda drivers on your machine, GPU will not be used.\n",
      "2024-01-16 17:02:17.946747: I tensorflow/core/platform/cpu_feature_guard.cc:182] This TensorFlow binary is optimized to use available CPU instructions in performance-critical operations.\n",
      "To enable the following instructions: AVX2 AVX_VNNI FMA, in other operations, rebuild TensorFlow with the appropriate compiler flags.\n",
      "2024-01-16 17:02:17.963312: E external/local_xla/xla/stream_executor/cuda/cuda_dnn.cc:9261] Unable to register cuDNN factory: Attempting to register factory for plugin cuDNN when one has already been registered\n",
      "2024-01-16 17:02:17.963338: E external/local_xla/xla/stream_executor/cuda/cuda_fft.cc:607] Unable to register cuFFT factory: Attempting to register factory for plugin cuFFT when one has already been registered\n",
      "2024-01-16 17:02:17.964128: E external/local_xla/xla/stream_executor/cuda/cuda_blas.cc:1515] Unable to register cuBLAS factory: Attempting to register factory for plugin cuBLAS when one has already been registered\n",
      "2024-01-16 17:02:17.970237: I external/local_tsl/tsl/cuda/cudart_stub.cc:31] Could not find cuda drivers on your machine, GPU will not be used.\n",
      "2024-01-16 17:02:17.970379: I tensorflow/core/platform/cpu_feature_guard.cc:182] This TensorFlow binary is optimized to use available CPU instructions in performance-critical operations.\n",
      "To enable the following instructions: AVX2 AVX_VNNI FMA, in other operations, rebuild TensorFlow with the appropriate compiler flags.\n",
      "2024-01-16 17:02:18.511327: W tensorflow/compiler/tf2tensorrt/utils/py_utils.cc:38] TF-TRT Warning: Could not find TensorRT\n",
      "2024-01-16 17:02:18.511732: W tensorflow/compiler/tf2tensorrt/utils/py_utils.cc:38] TF-TRT Warning: Could not find TensorRT\n"
     ]
    },
    {
     "name": "stdout",
     "output_type": "stream",
     "text": [
      "2024-01-16 17:02:22,398 - modnet - INFO - Model #1\tloss: 0.0841\tmae: 0.0841\t\n"
     ]
    },
    {
     "name": "stderr",
     "output_type": "stream",
     "text": [
      " 20%|██        | 1/5 [00:05<00:20,  5.11s/it]"
     ]
    },
    {
     "name": "stdout",
     "output_type": "stream",
     "text": [
      "2024-01-16 17:02:22,625 - modnet - INFO - Model #0\tloss: 0.2174\tmae: 0.2174\t\n"
     ]
    },
    {
     "name": "stderr",
     "output_type": "stream",
     "text": [
      " 40%|████      | 2/5 [00:05<00:06,  2.24s/it]"
     ]
    },
    {
     "name": "stdout",
     "output_type": "stream",
     "text": [
      "2024-01-16 17:02:23,067 - modnet - INFO - Model #2\tloss: 0.3085\tmae: 0.3085\t\n"
     ]
    },
    {
     "name": "stderr",
     "output_type": "stream",
     "text": [
      " 60%|██████    | 3/5 [00:05<00:02,  1.42s/it]"
     ]
    },
    {
     "name": "stdout",
     "output_type": "stream",
     "text": [
      "2024-01-16 17:02:23,421 - modnet - INFO - Model #3\tloss: 0.2651\tmae: 0.2651\t\n"
     ]
    },
    {
     "name": "stderr",
     "output_type": "stream",
     "text": [
      " 80%|████████  | 4/5 [00:06<00:00,  1.00it/s]"
     ]
    },
    {
     "name": "stdout",
     "output_type": "stream",
     "text": [
      "2024-01-16 17:02:24,044 - modnet - INFO - Model #4\tloss: 0.0876\tmae: 0.0876\t\n"
     ]
    },
    {
     "name": "stderr",
     "output_type": "stream",
     "text": [
      "100%|██████████| 5/5 [00:06<00:00,  1.35s/it]\n"
     ]
    },
    {
     "name": "stdout",
     "output_type": "stream",
     "text": [
      "2024-01-16 17:02:25,371 - modnet - INFO - Model successfully saved as benchmark/models/model_00_00.pkl!\n",
      "1/1 [==============================] - 0s 43ms/step\n",
      "1/1 [==============================] - 0s 46ms/step\n",
      "1/1 [==============================] - 0s 39ms/step\n",
      "1/1 [==============================] - 0s 36ms/step\n",
      "1/1 [==============================] - 0s 41ms/step\n",
      "2024-01-16 17:02:25,790 - modnet - INFO - Targets:\n",
      "2024-01-16 17:02:25,791 - modnet - INFO - 1)refractive_index: regression\n",
      "2024-01-16 17:02:25,859 - modnet - INFO - Multiprocessing on 2 cores. Total of 12 cores available.\n",
      "2024-01-16 17:02:25,861 - modnet - INFO - Generation number 0\n"
     ]
    },
    {
     "name": "stderr",
     "output_type": "stream",
     "text": [
      "  0%|          | 0/2 [00:00<?, ?it/s]2024-01-16 17:02:26.185908: I tensorflow/core/util/port.cc:113] oneDNN custom operations are on. You may see slightly different numerical results due to floating-point round-off errors from different computation orders. To turn them off, set the environment variable `TF_ENABLE_ONEDNN_OPTS=0`.\n",
      "2024-01-16 17:02:26.187819: I external/local_tsl/tsl/cuda/cudart_stub.cc:31] Could not find cuda drivers on your machine, GPU will not be used.\n",
      "2024-01-16 17:02:26.209868: I tensorflow/core/util/port.cc:113] oneDNN custom operations are on. You may see slightly different numerical results due to floating-point round-off errors from different computation orders. To turn them off, set the environment variable `TF_ENABLE_ONEDNN_OPTS=0`.\n",
      "2024-01-16 17:02:26.211844: I external/local_tsl/tsl/cuda/cudart_stub.cc:31] Could not find cuda drivers on your machine, GPU will not be used.\n",
      "2024-01-16 17:02:26.219441: E external/local_xla/xla/stream_executor/cuda/cuda_dnn.cc:9261] Unable to register cuDNN factory: Attempting to register factory for plugin cuDNN when one has already been registered\n",
      "2024-01-16 17:02:26.219486: E external/local_xla/xla/stream_executor/cuda/cuda_fft.cc:607] Unable to register cuFFT factory: Attempting to register factory for plugin cuFFT when one has already been registered\n",
      "2024-01-16 17:02:26.220456: E external/local_xla/xla/stream_executor/cuda/cuda_blas.cc:1515] Unable to register cuBLAS factory: Attempting to register factory for plugin cuBLAS when one has already been registered\n",
      "2024-01-16 17:02:26.225736: I external/local_tsl/tsl/cuda/cudart_stub.cc:31] Could not find cuda drivers on your machine, GPU will not be used.\n",
      "2024-01-16 17:02:26.225901: I tensorflow/core/platform/cpu_feature_guard.cc:182] This TensorFlow binary is optimized to use available CPU instructions in performance-critical operations.\n",
      "To enable the following instructions: AVX2 AVX_VNNI FMA, in other operations, rebuild TensorFlow with the appropriate compiler flags.\n",
      "2024-01-16 17:02:26.242831: E external/local_xla/xla/stream_executor/cuda/cuda_dnn.cc:9261] Unable to register cuDNN factory: Attempting to register factory for plugin cuDNN when one has already been registered\n",
      "2024-01-16 17:02:26.242859: E external/local_xla/xla/stream_executor/cuda/cuda_fft.cc:607] Unable to register cuFFT factory: Attempting to register factory for plugin cuFFT when one has already been registered\n",
      "2024-01-16 17:02:26.243848: E external/local_xla/xla/stream_executor/cuda/cuda_blas.cc:1515] Unable to register cuBLAS factory: Attempting to register factory for plugin cuBLAS when one has already been registered\n",
      "2024-01-16 17:02:26.250296: I external/local_tsl/tsl/cuda/cudart_stub.cc:31] Could not find cuda drivers on your machine, GPU will not be used.\n",
      "2024-01-16 17:02:26.250442: I tensorflow/core/platform/cpu_feature_guard.cc:182] This TensorFlow binary is optimized to use available CPU instructions in performance-critical operations.\n",
      "To enable the following instructions: AVX2 AVX_VNNI FMA, in other operations, rebuild TensorFlow with the appropriate compiler flags.\n",
      "2024-01-16 17:02:26.900344: W tensorflow/compiler/tf2tensorrt/utils/py_utils.cc:38] TF-TRT Warning: Could not find TensorRT\n",
      "2024-01-16 17:02:26.927743: W tensorflow/compiler/tf2tensorrt/utils/py_utils.cc:38] TF-TRT Warning: Could not find TensorRT\n",
      " 50%|█████     | 1/2 [00:08<00:08,  8.12s/it]"
     ]
    },
    {
     "name": "stdout",
     "output_type": "stream",
     "text": [
      "1/1 [==============================] - 0s 62ms/step\n"
     ]
    },
    {
     "name": "stderr",
     "output_type": "stream",
     "text": [
      "100%|██████████| 2/2 [00:09<00:00,  4.67s/it]"
     ]
    },
    {
     "name": "stdout",
     "output_type": "stream",
     "text": [
      "1/1 [==============================] - 0s 53ms/step\n",
      "2024-01-16 17:02:35,220 - modnet - INFO - Loss per individual: ind 0: 0.399 \tind 1: 0.424 \t\n",
      "2024-01-16 17:02:35,221 - modnet - INFO - Generation number 1\n"
     ]
    },
    {
     "name": "stderr",
     "output_type": "stream",
     "text": [
      "\n",
      " 50%|█████     | 1/2 [00:02<00:02,  2.75s/it]"
     ]
    },
    {
     "name": "stdout",
     "output_type": "stream",
     "text": [
      "1/1 [==============================] - 0s 46ms/step\n"
     ]
    },
    {
     "name": "stderr",
     "output_type": "stream",
     "text": [
      "100%|██████████| 2/2 [00:03<00:00,  1.65s/it]"
     ]
    },
    {
     "name": "stdout",
     "output_type": "stream",
     "text": [
      "1/1 [==============================] - 0s 33ms/step\n",
      "2024-01-16 17:02:38,535 - modnet - INFO - Loss per individual: ind 0: 1.245 \tind 1: 2.504 \t\n",
      "2024-01-16 17:02:38,535 - modnet - INFO - Early stopping: same best model for 2 consecutive generations\n",
      "2024-01-16 17:02:38,535 - modnet - INFO - Early stopping at generation number 1\n"
     ]
    },
    {
     "name": "stderr",
     "output_type": "stream",
     "text": [
      "\n"
     ]
    },
    {
     "name": "stdout",
     "output_type": "stream",
     "text": [
      "2024-01-16 17:02:39,736 - modnet - INFO - Refit...\n",
      "2024-01-16 17:02:39,894 - modnet - INFO - Generating bootstrap data...\n"
     ]
    },
    {
     "name": "stderr",
     "output_type": "stream",
     "text": [
      "  0%|          | 0/5 [00:00<?, ?it/s]2024-01-16 17:02:40.741512: I tensorflow/core/util/port.cc:113] oneDNN custom operations are on. You may see slightly different numerical results due to floating-point round-off errors from different computation orders. To turn them off, set the environment variable `TF_ENABLE_ONEDNN_OPTS=0`.\n",
      "2024-01-16 17:02:40.744571: I external/local_tsl/tsl/cuda/cudart_stub.cc:31] Could not find cuda drivers on your machine, GPU will not be used.\n",
      "2024-01-16 17:02:40.775691: E external/local_xla/xla/stream_executor/cuda/cuda_dnn.cc:9261] Unable to register cuDNN factory: Attempting to register factory for plugin cuDNN when one has already been registered\n",
      "2024-01-16 17:02:40.775805: E external/local_xla/xla/stream_executor/cuda/cuda_fft.cc:607] Unable to register cuFFT factory: Attempting to register factory for plugin cuFFT when one has already been registered\n",
      "2024-01-16 17:02:40.777299: I tensorflow/core/util/port.cc:113] oneDNN custom operations are on. You may see slightly different numerical results due to floating-point round-off errors from different computation orders. To turn them off, set the environment variable `TF_ENABLE_ONEDNN_OPTS=0`.\n",
      "2024-01-16 17:02:40.777561: E external/local_xla/xla/stream_executor/cuda/cuda_blas.cc:1515] Unable to register cuBLAS factory: Attempting to register factory for plugin cuBLAS when one has already been registered\n",
      "2024-01-16 17:02:40.779225: I external/local_tsl/tsl/cuda/cudart_stub.cc:31] Could not find cuda drivers on your machine, GPU will not be used.\n",
      "2024-01-16 17:02:40.783007: I external/local_tsl/tsl/cuda/cudart_stub.cc:31] Could not find cuda drivers on your machine, GPU will not be used.\n",
      "2024-01-16 17:02:40.783175: I tensorflow/core/platform/cpu_feature_guard.cc:182] This TensorFlow binary is optimized to use available CPU instructions in performance-critical operations.\n",
      "To enable the following instructions: AVX2 AVX_VNNI FMA, in other operations, rebuild TensorFlow with the appropriate compiler flags.\n",
      "2024-01-16 17:02:40.810733: E external/local_xla/xla/stream_executor/cuda/cuda_dnn.cc:9261] Unable to register cuDNN factory: Attempting to register factory for plugin cuDNN when one has already been registered\n",
      "2024-01-16 17:02:40.810764: E external/local_xla/xla/stream_executor/cuda/cuda_fft.cc:607] Unable to register cuFFT factory: Attempting to register factory for plugin cuFFT when one has already been registered\n",
      "2024-01-16 17:02:40.811691: E external/local_xla/xla/stream_executor/cuda/cuda_blas.cc:1515] Unable to register cuBLAS factory: Attempting to register factory for plugin cuBLAS when one has already been registered\n",
      "2024-01-16 17:02:40.817326: I external/local_tsl/tsl/cuda/cudart_stub.cc:31] Could not find cuda drivers on your machine, GPU will not be used.\n",
      "2024-01-16 17:02:40.817486: I tensorflow/core/platform/cpu_feature_guard.cc:182] This TensorFlow binary is optimized to use available CPU instructions in performance-critical operations.\n",
      "To enable the following instructions: AVX2 AVX_VNNI FMA, in other operations, rebuild TensorFlow with the appropriate compiler flags.\n",
      "2024-01-16 17:02:41.451723: W tensorflow/compiler/tf2tensorrt/utils/py_utils.cc:38] TF-TRT Warning: Could not find TensorRT\n",
      "2024-01-16 17:02:41.502708: W tensorflow/compiler/tf2tensorrt/utils/py_utils.cc:38] TF-TRT Warning: Could not find TensorRT\n"
     ]
    },
    {
     "name": "stdout",
     "output_type": "stream",
     "text": [
      "2024-01-16 17:02:46,153 - modnet - INFO - Model #0\tloss: 0.1000\tmae: 0.1000\t\n"
     ]
    },
    {
     "name": "stderr",
     "output_type": "stream",
     "text": [
      " 20%|██        | 1/5 [00:06<00:24,  6.17s/it]"
     ]
    },
    {
     "name": "stdout",
     "output_type": "stream",
     "text": [
      "2024-01-16 17:02:46,503 - modnet - INFO - Model #1\tloss: 0.0755\tmae: 0.0755\t\n"
     ]
    },
    {
     "name": "stderr",
     "output_type": "stream",
     "text": [
      " 40%|████      | 2/5 [00:06<00:08,  2.75s/it]"
     ]
    },
    {
     "name": "stdout",
     "output_type": "stream",
     "text": [
      "2024-01-16 17:02:46,979 - modnet - INFO - Model #2\tloss: 0.1984\tmae: 0.1984\t\n"
     ]
    },
    {
     "name": "stderr",
     "output_type": "stream",
     "text": [
      " 60%|██████    | 3/5 [00:06<00:03,  1.71s/it]"
     ]
    },
    {
     "name": "stdout",
     "output_type": "stream",
     "text": [
      "2024-01-16 17:02:47,317 - modnet - INFO - Model #3\tloss: 0.0435\tmae: 0.0435\t\n"
     ]
    },
    {
     "name": "stderr",
     "output_type": "stream",
     "text": [
      " 80%|████████  | 4/5 [00:07<00:01,  1.17s/it]"
     ]
    },
    {
     "name": "stdout",
     "output_type": "stream",
     "text": [
      "2024-01-16 17:02:47,852 - modnet - INFO - Model #4\tloss: 0.0463\tmae: 0.0463\t\n"
     ]
    },
    {
     "name": "stderr",
     "output_type": "stream",
     "text": [
      "100%|██████████| 5/5 [00:07<00:00,  1.57s/it]\n"
     ]
    },
    {
     "name": "stdout",
     "output_type": "stream",
     "text": [
      "2024-01-16 17:02:49,192 - modnet - INFO - Model successfully saved as benchmark/models/model_00_01.pkl!\n",
      "1/1 [==============================] - 0s 46ms/step\n",
      "1/1 [==============================] - 0s 40ms/step\n",
      "1/1 [==============================] - 0s 38ms/step\n",
      "1/1 [==============================] - 0s 39ms/step\n",
      "1/1 [==============================] - 0s 37ms/step\n",
      "Benchmark complete.\n",
      "2024-01-16 17:02:49,652 - modnet - INFO - Targets:\n",
      "2024-01-16 17:02:49,653 - modnet - INFO - 1)refractive_index: regression\n",
      "2024-01-16 17:02:49,708 - modnet - INFO - Multiprocessing on 2 cores. Total of 12 cores available.\n",
      "2024-01-16 17:02:49,711 - modnet - INFO - Generation number 0\n"
     ]
    },
    {
     "name": "stderr",
     "output_type": "stream",
     "text": [
      "  0%|          | 0/2 [00:00<?, ?it/s]2024-01-16 17:02:50.045364: I tensorflow/core/util/port.cc:113] oneDNN custom operations are on. You may see slightly different numerical results due to floating-point round-off errors from different computation orders. To turn them off, set the environment variable `TF_ENABLE_ONEDNN_OPTS=0`.\n",
      "2024-01-16 17:02:50.047206: I external/local_tsl/tsl/cuda/cudart_stub.cc:31] Could not find cuda drivers on your machine, GPU will not be used.\n",
      "2024-01-16 17:02:50.056025: I tensorflow/core/util/port.cc:113] oneDNN custom operations are on. You may see slightly different numerical results due to floating-point round-off errors from different computation orders. To turn them off, set the environment variable `TF_ENABLE_ONEDNN_OPTS=0`.\n",
      "2024-01-16 17:02:50.058540: I external/local_tsl/tsl/cuda/cudart_stub.cc:31] Could not find cuda drivers on your machine, GPU will not be used.\n",
      "2024-01-16 17:02:50.079183: E external/local_xla/xla/stream_executor/cuda/cuda_dnn.cc:9261] Unable to register cuDNN factory: Attempting to register factory for plugin cuDNN when one has already been registered\n",
      "2024-01-16 17:02:50.079238: E external/local_xla/xla/stream_executor/cuda/cuda_fft.cc:607] Unable to register cuFFT factory: Attempting to register factory for plugin cuFFT when one has already been registered\n",
      "2024-01-16 17:02:50.080291: E external/local_xla/xla/stream_executor/cuda/cuda_blas.cc:1515] Unable to register cuBLAS factory: Attempting to register factory for plugin cuBLAS when one has already been registered\n",
      "2024-01-16 17:02:50.085517: I external/local_tsl/tsl/cuda/cudart_stub.cc:31] Could not find cuda drivers on your machine, GPU will not be used.\n",
      "2024-01-16 17:02:50.085692: I tensorflow/core/platform/cpu_feature_guard.cc:182] This TensorFlow binary is optimized to use available CPU instructions in performance-critical operations.\n",
      "To enable the following instructions: AVX2 AVX_VNNI FMA, in other operations, rebuild TensorFlow with the appropriate compiler flags.\n",
      "2024-01-16 17:02:50.089035: E external/local_xla/xla/stream_executor/cuda/cuda_dnn.cc:9261] Unable to register cuDNN factory: Attempting to register factory for plugin cuDNN when one has already been registered\n",
      "2024-01-16 17:02:50.089080: E external/local_xla/xla/stream_executor/cuda/cuda_fft.cc:607] Unable to register cuFFT factory: Attempting to register factory for plugin cuFFT when one has already been registered\n",
      "2024-01-16 17:02:50.090691: E external/local_xla/xla/stream_executor/cuda/cuda_blas.cc:1515] Unable to register cuBLAS factory: Attempting to register factory for plugin cuBLAS when one has already been registered\n",
      "2024-01-16 17:02:50.095839: I external/local_tsl/tsl/cuda/cudart_stub.cc:31] Could not find cuda drivers on your machine, GPU will not be used.\n",
      "2024-01-16 17:02:50.095998: I tensorflow/core/platform/cpu_feature_guard.cc:182] This TensorFlow binary is optimized to use available CPU instructions in performance-critical operations.\n",
      "To enable the following instructions: AVX2 AVX_VNNI FMA, in other operations, rebuild TensorFlow with the appropriate compiler flags.\n",
      "2024-01-16 17:02:50.768155: W tensorflow/compiler/tf2tensorrt/utils/py_utils.cc:38] TF-TRT Warning: Could not find TensorRT\n",
      "2024-01-16 17:02:50.777653: W tensorflow/compiler/tf2tensorrt/utils/py_utils.cc:38] TF-TRT Warning: Could not find TensorRT\n",
      " 50%|█████     | 1/2 [00:07<00:07,  7.19s/it]"
     ]
    },
    {
     "name": "stdout",
     "output_type": "stream",
     "text": [
      "1/1 [==============================] - 0s 67ms/step\n"
     ]
    },
    {
     "name": "stderr",
     "output_type": "stream",
     "text": [
      "100%|██████████| 2/2 [00:09<00:00,  4.74s/it]"
     ]
    },
    {
     "name": "stdout",
     "output_type": "stream",
     "text": [
      "1/1 [==============================] - 0s 53ms/step\n",
      "2024-01-16 17:02:59,210 - modnet - INFO - Loss per individual: ind 0: 0.115 \tind 1: 0.189 \t\n",
      "2024-01-16 17:02:59,211 - modnet - INFO - Generation number 1\n"
     ]
    },
    {
     "name": "stderr",
     "output_type": "stream",
     "text": [
      "\n",
      " 50%|█████     | 1/2 [00:02<00:02,  2.48s/it]"
     ]
    },
    {
     "name": "stdout",
     "output_type": "stream",
     "text": [
      "1/1 [==============================] - 0s 46ms/step\n"
     ]
    },
    {
     "name": "stderr",
     "output_type": "stream",
     "text": [
      "100%|██████████| 2/2 [00:03<00:00,  1.91s/it]"
     ]
    },
    {
     "name": "stdout",
     "output_type": "stream",
     "text": [
      "1/1 [==============================] - 0s 33ms/step\n",
      "2024-01-16 17:03:03,030 - modnet - INFO - Loss per individual: ind 0: 0.218 \tind 1: 0.263 \t\n",
      "2024-01-16 17:03:03,031 - modnet - INFO - Early stopping: same best model for 2 consecutive generations\n",
      "2024-01-16 17:03:03,032 - modnet - INFO - Early stopping at generation number 1\n"
     ]
    },
    {
     "name": "stderr",
     "output_type": "stream",
     "text": [
      "\n"
     ]
    },
    {
     "name": "stdout",
     "output_type": "stream",
     "text": [
      "2024-01-16 17:03:04,254 - modnet - INFO - Refit...\n",
      "2024-01-16 17:03:04,403 - modnet - INFO - Generating bootstrap data...\n"
     ]
    },
    {
     "name": "stderr",
     "output_type": "stream",
     "text": [
      "  0%|          | 0/5 [00:00<?, ?it/s]2024-01-16 17:03:05.254527: I tensorflow/core/util/port.cc:113] oneDNN custom operations are on. You may see slightly different numerical results due to floating-point round-off errors from different computation orders. To turn them off, set the environment variable `TF_ENABLE_ONEDNN_OPTS=0`.\n",
      "2024-01-16 17:03:05.256568: I external/local_tsl/tsl/cuda/cudart_stub.cc:31] Could not find cuda drivers on your machine, GPU will not be used.\n",
      "2024-01-16 17:03:05.268713: I tensorflow/core/util/port.cc:113] oneDNN custom operations are on. You may see slightly different numerical results due to floating-point round-off errors from different computation orders. To turn them off, set the environment variable `TF_ENABLE_ONEDNN_OPTS=0`.\n",
      "2024-01-16 17:03:05.270667: I external/local_tsl/tsl/cuda/cudart_stub.cc:31] Could not find cuda drivers on your machine, GPU will not be used.\n",
      "2024-01-16 17:03:05.289229: E external/local_xla/xla/stream_executor/cuda/cuda_dnn.cc:9261] Unable to register cuDNN factory: Attempting to register factory for plugin cuDNN when one has already been registered\n",
      "2024-01-16 17:03:05.289266: E external/local_xla/xla/stream_executor/cuda/cuda_fft.cc:607] Unable to register cuFFT factory: Attempting to register factory for plugin cuFFT when one has already been registered\n",
      "2024-01-16 17:03:05.290198: E external/local_xla/xla/stream_executor/cuda/cuda_blas.cc:1515] Unable to register cuBLAS factory: Attempting to register factory for plugin cuBLAS when one has already been registered\n",
      "2024-01-16 17:03:05.295598: I external/local_tsl/tsl/cuda/cudart_stub.cc:31] Could not find cuda drivers on your machine, GPU will not be used.\n",
      "2024-01-16 17:03:05.295766: I tensorflow/core/platform/cpu_feature_guard.cc:182] This TensorFlow binary is optimized to use available CPU instructions in performance-critical operations.\n",
      "To enable the following instructions: AVX2 AVX_VNNI FMA, in other operations, rebuild TensorFlow with the appropriate compiler flags.\n",
      "2024-01-16 17:03:05.301391: E external/local_xla/xla/stream_executor/cuda/cuda_dnn.cc:9261] Unable to register cuDNN factory: Attempting to register factory for plugin cuDNN when one has already been registered\n",
      "2024-01-16 17:03:05.301418: E external/local_xla/xla/stream_executor/cuda/cuda_fft.cc:607] Unable to register cuFFT factory: Attempting to register factory for plugin cuFFT when one has already been registered\n",
      "2024-01-16 17:03:05.302387: E external/local_xla/xla/stream_executor/cuda/cuda_blas.cc:1515] Unable to register cuBLAS factory: Attempting to register factory for plugin cuBLAS when one has already been registered\n",
      "2024-01-16 17:03:05.307878: I external/local_tsl/tsl/cuda/cudart_stub.cc:31] Could not find cuda drivers on your machine, GPU will not be used.\n",
      "2024-01-16 17:03:05.308031: I tensorflow/core/platform/cpu_feature_guard.cc:182] This TensorFlow binary is optimized to use available CPU instructions in performance-critical operations.\n",
      "To enable the following instructions: AVX2 AVX_VNNI FMA, in other operations, rebuild TensorFlow with the appropriate compiler flags.\n",
      "2024-01-16 17:03:05.971025: W tensorflow/compiler/tf2tensorrt/utils/py_utils.cc:38] TF-TRT Warning: Could not find TensorRT\n",
      "2024-01-16 17:03:05.991582: W tensorflow/compiler/tf2tensorrt/utils/py_utils.cc:38] TF-TRT Warning: Could not find TensorRT\n"
     ]
    },
    {
     "name": "stdout",
     "output_type": "stream",
     "text": [
      "2024-01-16 17:03:10,717 - modnet - INFO - Model #1\tloss: 0.0721\tmae: 0.0721\t\n"
     ]
    },
    {
     "name": "stderr",
     "output_type": "stream",
     "text": [
      " 20%|██        | 1/5 [00:06<00:24,  6.23s/it]"
     ]
    },
    {
     "name": "stdout",
     "output_type": "stream",
     "text": [
      "2024-01-16 17:03:10,787 - modnet - INFO - Model #0\tloss: 0.1440\tmae: 0.1440\t\n",
      "2024-01-16 17:03:11,340 - modnet - INFO - Model #2\tloss: 0.2351\tmae: 0.2351\t\n"
     ]
    },
    {
     "name": "stderr",
     "output_type": "stream",
     "text": [
      " 60%|██████    | 3/5 [00:06<00:03,  1.84s/it]"
     ]
    },
    {
     "name": "stdout",
     "output_type": "stream",
     "text": [
      "2024-01-16 17:03:11,452 - modnet - INFO - Model #3\tloss: 0.2377\tmae: 0.2377\t\n"
     ]
    },
    {
     "name": "stderr",
     "output_type": "stream",
     "text": [
      " 80%|████████  | 4/5 [00:06<00:01,  1.25s/it]"
     ]
    },
    {
     "name": "stdout",
     "output_type": "stream",
     "text": [
      "2024-01-16 17:03:11,885 - modnet - INFO - Model #4\tloss: 0.2342\tmae: 0.2342\t\n"
     ]
    },
    {
     "name": "stderr",
     "output_type": "stream",
     "text": [
      "100%|██████████| 5/5 [00:07<00:00,  1.48s/it]\n"
     ]
    },
    {
     "name": "stdout",
     "output_type": "stream",
     "text": [
      "2024-01-16 17:03:13,183 - modnet - INFO - Model successfully saved as production/models/model_00.pkl!\n",
      "124/124 [==============================] - 0s 777us/step\n",
      "124/124 [==============================] - 0s 683us/step\n",
      "124/124 [==============================] - 0s 766us/step\n",
      "124/124 [==============================] - 0s 1ms/step\n",
      "124/124 [==============================] - 0s 807us/step\n",
      "2024-01-16 17:03:14,826 - modnet - INFO - Targets:\n",
      "2024-01-16 17:03:14,826 - modnet - INFO - 1)refractive_index: regression\n",
      "2024-01-16 17:03:14,889 - modnet - INFO - Multiprocessing on 2 cores. Total of 12 cores available.\n",
      "2024-01-16 17:03:14,891 - modnet - INFO - Generation number 0\n"
     ]
    },
    {
     "name": "stderr",
     "output_type": "stream",
     "text": [
      "  0%|          | 0/2 [00:00<?, ?it/s]2024-01-16 17:03:15.217030: I tensorflow/core/util/port.cc:113] oneDNN custom operations are on. You may see slightly different numerical results due to floating-point round-off errors from different computation orders. To turn them off, set the environment variable `TF_ENABLE_ONEDNN_OPTS=0`.\n",
      "2024-01-16 17:03:15.218953: I external/local_tsl/tsl/cuda/cudart_stub.cc:31] Could not find cuda drivers on your machine, GPU will not be used.\n",
      "2024-01-16 17:03:15.240383: I tensorflow/core/util/port.cc:113] oneDNN custom operations are on. You may see slightly different numerical results due to floating-point round-off errors from different computation orders. To turn them off, set the environment variable `TF_ENABLE_ONEDNN_OPTS=0`.\n",
      "2024-01-16 17:03:15.242245: I external/local_tsl/tsl/cuda/cudart_stub.cc:31] Could not find cuda drivers on your machine, GPU will not be used.\n",
      "2024-01-16 17:03:15.249969: E external/local_xla/xla/stream_executor/cuda/cuda_dnn.cc:9261] Unable to register cuDNN factory: Attempting to register factory for plugin cuDNN when one has already been registered\n",
      "2024-01-16 17:03:15.250006: E external/local_xla/xla/stream_executor/cuda/cuda_fft.cc:607] Unable to register cuFFT factory: Attempting to register factory for plugin cuFFT when one has already been registered\n",
      "2024-01-16 17:03:15.251033: E external/local_xla/xla/stream_executor/cuda/cuda_blas.cc:1515] Unable to register cuBLAS factory: Attempting to register factory for plugin cuBLAS when one has already been registered\n",
      "2024-01-16 17:03:15.256233: I external/local_tsl/tsl/cuda/cudart_stub.cc:31] Could not find cuda drivers on your machine, GPU will not be used.\n",
      "2024-01-16 17:03:15.256421: I tensorflow/core/platform/cpu_feature_guard.cc:182] This TensorFlow binary is optimized to use available CPU instructions in performance-critical operations.\n",
      "To enable the following instructions: AVX2 AVX_VNNI FMA, in other operations, rebuild TensorFlow with the appropriate compiler flags.\n",
      "2024-01-16 17:03:15.273501: E external/local_xla/xla/stream_executor/cuda/cuda_dnn.cc:9261] Unable to register cuDNN factory: Attempting to register factory for plugin cuDNN when one has already been registered\n",
      "2024-01-16 17:03:15.273529: E external/local_xla/xla/stream_executor/cuda/cuda_fft.cc:607] Unable to register cuFFT factory: Attempting to register factory for plugin cuFFT when one has already been registered\n",
      "2024-01-16 17:03:15.274428: E external/local_xla/xla/stream_executor/cuda/cuda_blas.cc:1515] Unable to register cuBLAS factory: Attempting to register factory for plugin cuBLAS when one has already been registered\n",
      "2024-01-16 17:03:15.281560: I external/local_tsl/tsl/cuda/cudart_stub.cc:31] Could not find cuda drivers on your machine, GPU will not be used.\n",
      "2024-01-16 17:03:15.281723: I tensorflow/core/platform/cpu_feature_guard.cc:182] This TensorFlow binary is optimized to use available CPU instructions in performance-critical operations.\n",
      "To enable the following instructions: AVX2 AVX_VNNI FMA, in other operations, rebuild TensorFlow with the appropriate compiler flags.\n",
      "2024-01-16 17:03:15.923265: W tensorflow/compiler/tf2tensorrt/utils/py_utils.cc:38] TF-TRT Warning: Could not find TensorRT\n",
      "2024-01-16 17:03:15.937823: W tensorflow/compiler/tf2tensorrt/utils/py_utils.cc:38] TF-TRT Warning: Could not find TensorRT\n",
      " 50%|█████     | 1/2 [00:08<00:08,  8.38s/it]"
     ]
    },
    {
     "name": "stdout",
     "output_type": "stream",
     "text": [
      "1/1 [==============================] - 0s 69ms/step\n"
     ]
    },
    {
     "name": "stderr",
     "output_type": "stream",
     "text": [
      "100%|██████████| 2/2 [00:08<00:00,  4.29s/it]"
     ]
    },
    {
     "name": "stdout",
     "output_type": "stream",
     "text": [
      "1/1 [==============================] - 0s 55ms/step\n",
      "2024-01-16 17:03:23,488 - modnet - INFO - Loss per individual: ind 0: 0.348 \tind 1: 0.341 \t\n",
      "2024-01-16 17:03:23,488 - modnet - INFO - Generation number 1\n"
     ]
    },
    {
     "name": "stderr",
     "output_type": "stream",
     "text": [
      "\n",
      " 50%|█████     | 1/2 [00:03<00:03,  3.14s/it]"
     ]
    },
    {
     "name": "stdout",
     "output_type": "stream",
     "text": [
      "1/1 [==============================] - 0s 51ms/step\n"
     ]
    },
    {
     "name": "stderr",
     "output_type": "stream",
     "text": [
      "100%|██████████| 2/2 [00:03<00:00,  1.74s/it]"
     ]
    },
    {
     "name": "stdout",
     "output_type": "stream",
     "text": [
      "1/1 [==============================] - 0s 35ms/step\n",
      "2024-01-16 17:03:26,968 - modnet - INFO - Loss per individual: ind 0: 0.755 \tind 1: 0.782 \t\n",
      "2024-01-16 17:03:26,969 - modnet - INFO - Early stopping: same best model for 2 consecutive generations\n",
      "2024-01-16 17:03:26,970 - modnet - INFO - Early stopping at generation number 1\n"
     ]
    },
    {
     "name": "stderr",
     "output_type": "stream",
     "text": [
      "\n"
     ]
    },
    {
     "name": "stdout",
     "output_type": "stream",
     "text": [
      "2024-01-16 17:03:28,167 - modnet - INFO - Refit...\n",
      "2024-01-16 17:03:28,347 - modnet - INFO - Generating bootstrap data...\n"
     ]
    },
    {
     "name": "stderr",
     "output_type": "stream",
     "text": [
      "  0%|          | 0/5 [00:00<?, ?it/s]2024-01-16 17:03:29.228434: I tensorflow/core/util/port.cc:113] oneDNN custom operations are on. You may see slightly different numerical results due to floating-point round-off errors from different computation orders. To turn them off, set the environment variable `TF_ENABLE_ONEDNN_OPTS=0`.\n",
      "2024-01-16 17:03:29.228433: I tensorflow/core/util/port.cc:113] oneDNN custom operations are on. You may see slightly different numerical results due to floating-point round-off errors from different computation orders. To turn them off, set the environment variable `TF_ENABLE_ONEDNN_OPTS=0`.\n",
      "2024-01-16 17:03:29.230406: I external/local_tsl/tsl/cuda/cudart_stub.cc:31] Could not find cuda drivers on your machine, GPU will not be used.\n",
      "2024-01-16 17:03:29.230423: I external/local_tsl/tsl/cuda/cudart_stub.cc:31] Could not find cuda drivers on your machine, GPU will not be used.\n",
      "2024-01-16 17:03:29.260210: E external/local_xla/xla/stream_executor/cuda/cuda_dnn.cc:9261] Unable to register cuDNN factory: Attempting to register factory for plugin cuDNN when one has already been registered\n",
      "2024-01-16 17:03:29.260210: E external/local_xla/xla/stream_executor/cuda/cuda_dnn.cc:9261] Unable to register cuDNN factory: Attempting to register factory for plugin cuDNN when one has already been registered\n",
      "2024-01-16 17:03:29.260261: E external/local_xla/xla/stream_executor/cuda/cuda_fft.cc:607] Unable to register cuFFT factory: Attempting to register factory for plugin cuFFT when one has already been registered\n",
      "2024-01-16 17:03:29.260263: E external/local_xla/xla/stream_executor/cuda/cuda_fft.cc:607] Unable to register cuFFT factory: Attempting to register factory for plugin cuFFT when one has already been registered\n",
      "2024-01-16 17:03:29.261467: E external/local_xla/xla/stream_executor/cuda/cuda_blas.cc:1515] Unable to register cuBLAS factory: Attempting to register factory for plugin cuBLAS when one has already been registered\n",
      "2024-01-16 17:03:29.261467: E external/local_xla/xla/stream_executor/cuda/cuda_blas.cc:1515] Unable to register cuBLAS factory: Attempting to register factory for plugin cuBLAS when one has already been registered\n",
      "2024-01-16 17:03:29.267107: I external/local_tsl/tsl/cuda/cudart_stub.cc:31] Could not find cuda drivers on your machine, GPU will not be used.\n",
      "2024-01-16 17:03:29.267107: I external/local_tsl/tsl/cuda/cudart_stub.cc:31] Could not find cuda drivers on your machine, GPU will not be used.\n",
      "2024-01-16 17:03:29.267282: I tensorflow/core/platform/cpu_feature_guard.cc:182] This TensorFlow binary is optimized to use available CPU instructions in performance-critical operations.\n",
      "To enable the following instructions: AVX2 AVX_VNNI FMA, in other operations, rebuild TensorFlow with the appropriate compiler flags.\n",
      "2024-01-16 17:03:29.267282: I tensorflow/core/platform/cpu_feature_guard.cc:182] This TensorFlow binary is optimized to use available CPU instructions in performance-critical operations.\n",
      "To enable the following instructions: AVX2 AVX_VNNI FMA, in other operations, rebuild TensorFlow with the appropriate compiler flags.\n",
      "2024-01-16 17:03:29.939675: W tensorflow/compiler/tf2tensorrt/utils/py_utils.cc:38] TF-TRT Warning: Could not find TensorRT\n",
      "2024-01-16 17:03:29.954980: W tensorflow/compiler/tf2tensorrt/utils/py_utils.cc:38] TF-TRT Warning: Could not find TensorRT\n"
     ]
    },
    {
     "name": "stdout",
     "output_type": "stream",
     "text": [
      "2024-01-16 17:03:35,060 - modnet - INFO - Model #0\tloss: 0.0776\tmae: 0.0776\t\n"
     ]
    },
    {
     "name": "stderr",
     "output_type": "stream",
     "text": [
      " 20%|██        | 1/5 [00:06<00:26,  6.62s/it]"
     ]
    },
    {
     "name": "stdout",
     "output_type": "stream",
     "text": [
      "2024-01-16 17:03:35,180 - modnet - INFO - Model #1\tloss: 0.2216\tmae: 0.2216\t\n"
     ]
    },
    {
     "name": "stderr",
     "output_type": "stream",
     "text": [
      " 40%|████      | 2/5 [00:06<00:08,  2.80s/it]"
     ]
    },
    {
     "name": "stdout",
     "output_type": "stream",
     "text": [
      "2024-01-16 17:03:35,685 - modnet - INFO - Model #2\tloss: 2.0092\tmae: 2.0092\t\n"
     ]
    },
    {
     "name": "stderr",
     "output_type": "stream",
     "text": [
      " 60%|██████    | 3/5 [00:07<00:03,  1.75s/it]"
     ]
    },
    {
     "name": "stdout",
     "output_type": "stream",
     "text": [
      "2024-01-16 17:03:36,228 - modnet - INFO - Model #3\tloss: 0.2507\tmae: 0.2507\t\n"
     ]
    },
    {
     "name": "stderr",
     "output_type": "stream",
     "text": [
      " 80%|████████  | 4/5 [00:07<00:01,  1.27s/it]"
     ]
    },
    {
     "name": "stdout",
     "output_type": "stream",
     "text": [
      "2024-01-16 17:03:37,156 - modnet - INFO - Model #4\tloss: 0.1210\tmae: 0.1210\t\n"
     ]
    },
    {
     "name": "stderr",
     "output_type": "stream",
     "text": [
      "100%|██████████| 5/5 [00:08<00:00,  1.74s/it]\n"
     ]
    },
    {
     "name": "stdout",
     "output_type": "stream",
     "text": [
      "2024-01-16 17:03:38,724 - modnet - INFO - Model successfully saved as benchmark/models/model_01_00.pkl!\n",
      "1/1 [==============================] - 0s 45ms/step\n",
      "1/1 [==============================] - 0s 42ms/step\n",
      "1/1 [==============================] - 0s 45ms/step\n",
      "1/1 [==============================] - 0s 44ms/step\n",
      "1/1 [==============================] - 0s 54ms/step\n",
      "2024-01-16 17:03:39,167 - modnet - INFO - Targets:\n",
      "2024-01-16 17:03:39,167 - modnet - INFO - 1)refractive_index: regression\n",
      "2024-01-16 17:03:39,242 - modnet - INFO - Multiprocessing on 2 cores. Total of 12 cores available.\n",
      "2024-01-16 17:03:39,244 - modnet - INFO - Generation number 0\n"
     ]
    },
    {
     "name": "stderr",
     "output_type": "stream",
     "text": [
      "  0%|          | 0/2 [00:00<?, ?it/s]2024-01-16 17:03:39.600383: I tensorflow/core/util/port.cc:113] oneDNN custom operations are on. You may see slightly different numerical results due to floating-point round-off errors from different computation orders. To turn them off, set the environment variable `TF_ENABLE_ONEDNN_OPTS=0`.\n",
      "2024-01-16 17:03:39.602374: I external/local_tsl/tsl/cuda/cudart_stub.cc:31] Could not find cuda drivers on your machine, GPU will not be used.\n",
      "2024-01-16 17:03:39.642354: E external/local_xla/xla/stream_executor/cuda/cuda_dnn.cc:9261] Unable to register cuDNN factory: Attempting to register factory for plugin cuDNN when one has already been registered\n",
      "2024-01-16 17:03:39.642389: E external/local_xla/xla/stream_executor/cuda/cuda_fft.cc:607] Unable to register cuFFT factory: Attempting to register factory for plugin cuFFT when one has already been registered\n",
      "2024-01-16 17:03:39.643300: E external/local_xla/xla/stream_executor/cuda/cuda_blas.cc:1515] Unable to register cuBLAS factory: Attempting to register factory for plugin cuBLAS when one has already been registered\n",
      "2024-01-16 17:03:39.648474: I external/local_tsl/tsl/cuda/cudart_stub.cc:31] Could not find cuda drivers on your machine, GPU will not be used.\n",
      "2024-01-16 17:03:39.648639: I tensorflow/core/util/port.cc:113] oneDNN custom operations are on. You may see slightly different numerical results due to floating-point round-off errors from different computation orders. To turn them off, set the environment variable `TF_ENABLE_ONEDNN_OPTS=0`.\n",
      "2024-01-16 17:03:39.648660: I tensorflow/core/platform/cpu_feature_guard.cc:182] This TensorFlow binary is optimized to use available CPU instructions in performance-critical operations.\n",
      "To enable the following instructions: AVX2 AVX_VNNI FMA, in other operations, rebuild TensorFlow with the appropriate compiler flags.\n",
      "2024-01-16 17:03:39.650424: I external/local_tsl/tsl/cuda/cudart_stub.cc:31] Could not find cuda drivers on your machine, GPU will not be used.\n",
      "2024-01-16 17:03:39.681539: E external/local_xla/xla/stream_executor/cuda/cuda_dnn.cc:9261] Unable to register cuDNN factory: Attempting to register factory for plugin cuDNN when one has already been registered\n",
      "2024-01-16 17:03:39.681568: E external/local_xla/xla/stream_executor/cuda/cuda_fft.cc:607] Unable to register cuFFT factory: Attempting to register factory for plugin cuFFT when one has already been registered\n",
      "2024-01-16 17:03:39.682453: E external/local_xla/xla/stream_executor/cuda/cuda_blas.cc:1515] Unable to register cuBLAS factory: Attempting to register factory for plugin cuBLAS when one has already been registered\n",
      "2024-01-16 17:03:39.690186: I external/local_tsl/tsl/cuda/cudart_stub.cc:31] Could not find cuda drivers on your machine, GPU will not be used.\n",
      "2024-01-16 17:03:39.690467: I tensorflow/core/platform/cpu_feature_guard.cc:182] This TensorFlow binary is optimized to use available CPU instructions in performance-critical operations.\n",
      "To enable the following instructions: AVX2 AVX_VNNI FMA, in other operations, rebuild TensorFlow with the appropriate compiler flags.\n",
      "2024-01-16 17:03:40.335251: W tensorflow/compiler/tf2tensorrt/utils/py_utils.cc:38] TF-TRT Warning: Could not find TensorRT\n",
      "2024-01-16 17:03:40.410973: W tensorflow/compiler/tf2tensorrt/utils/py_utils.cc:38] TF-TRT Warning: Could not find TensorRT\n",
      " 50%|█████     | 1/2 [00:10<00:10, 10.36s/it]"
     ]
    },
    {
     "name": "stdout",
     "output_type": "stream",
     "text": [
      "1/1 [==============================] - 0s 63ms/step\n"
     ]
    },
    {
     "name": "stderr",
     "output_type": "stream",
     "text": [
      "100%|██████████| 2/2 [00:11<00:00,  5.73s/it]"
     ]
    },
    {
     "name": "stdout",
     "output_type": "stream",
     "text": [
      "1/1 [==============================] - 0s 50ms/step\n",
      "2024-01-16 17:03:50,711 - modnet - INFO - Loss per individual: ind 0: 0.610 \tind 1: 0.532 \t\n",
      "2024-01-16 17:03:50,711 - modnet - INFO - Generation number 1\n"
     ]
    },
    {
     "name": "stderr",
     "output_type": "stream",
     "text": [
      "\n",
      " 50%|█████     | 1/2 [00:02<00:02,  2.78s/it]"
     ]
    },
    {
     "name": "stdout",
     "output_type": "stream",
     "text": [
      "1/1 [==============================] - 0s 46ms/step\n"
     ]
    },
    {
     "name": "stderr",
     "output_type": "stream",
     "text": [
      "100%|██████████| 2/2 [00:05<00:00,  2.51s/it]"
     ]
    },
    {
     "name": "stdout",
     "output_type": "stream",
     "text": [
      "1/1 [==============================] - 0s 33ms/step\n",
      "2024-01-16 17:03:55,732 - modnet - INFO - Loss per individual: ind 0: 0.309 \tind 1: 0.428 \t\n"
     ]
    },
    {
     "name": "stderr",
     "output_type": "stream",
     "text": [
      "\n"
     ]
    },
    {
     "name": "stdout",
     "output_type": "stream",
     "text": [
      "2024-01-16 17:03:56,945 - modnet - INFO - Refit...\n",
      "2024-01-16 17:03:57,103 - modnet - INFO - Generating bootstrap data...\n"
     ]
    },
    {
     "name": "stderr",
     "output_type": "stream",
     "text": [
      "  0%|          | 0/5 [00:00<?, ?it/s]2024-01-16 17:03:57.990813: I tensorflow/core/util/port.cc:113] oneDNN custom operations are on. You may see slightly different numerical results due to floating-point round-off errors from different computation orders. To turn them off, set the environment variable `TF_ENABLE_ONEDNN_OPTS=0`.\n",
      "2024-01-16 17:03:57.990812: I tensorflow/core/util/port.cc:113] oneDNN custom operations are on. You may see slightly different numerical results due to floating-point round-off errors from different computation orders. To turn them off, set the environment variable `TF_ENABLE_ONEDNN_OPTS=0`.\n",
      "2024-01-16 17:03:57.992821: I external/local_tsl/tsl/cuda/cudart_stub.cc:31] Could not find cuda drivers on your machine, GPU will not be used.\n",
      "2024-01-16 17:03:57.992821: I external/local_tsl/tsl/cuda/cudart_stub.cc:31] Could not find cuda drivers on your machine, GPU will not be used.\n",
      "2024-01-16 17:03:58.024909: E external/local_xla/xla/stream_executor/cuda/cuda_dnn.cc:9261] Unable to register cuDNN factory: Attempting to register factory for plugin cuDNN when one has already been registered\n",
      "2024-01-16 17:03:58.024944: E external/local_xla/xla/stream_executor/cuda/cuda_fft.cc:607] Unable to register cuFFT factory: Attempting to register factory for plugin cuFFT when one has already been registered\n",
      "2024-01-16 17:03:58.025878: E external/local_xla/xla/stream_executor/cuda/cuda_blas.cc:1515] Unable to register cuBLAS factory: Attempting to register factory for plugin cuBLAS when one has already been registered\n",
      "2024-01-16 17:03:58.028472: E external/local_xla/xla/stream_executor/cuda/cuda_dnn.cc:9261] Unable to register cuDNN factory: Attempting to register factory for plugin cuDNN when one has already been registered\n",
      "2024-01-16 17:03:58.028508: E external/local_xla/xla/stream_executor/cuda/cuda_fft.cc:607] Unable to register cuFFT factory: Attempting to register factory for plugin cuFFT when one has already been registered\n",
      "2024-01-16 17:03:58.030523: E external/local_xla/xla/stream_executor/cuda/cuda_blas.cc:1515] Unable to register cuBLAS factory: Attempting to register factory for plugin cuBLAS when one has already been registered\n",
      "2024-01-16 17:03:58.033624: I external/local_tsl/tsl/cuda/cudart_stub.cc:31] Could not find cuda drivers on your machine, GPU will not be used.\n",
      "2024-01-16 17:03:58.033821: I tensorflow/core/platform/cpu_feature_guard.cc:182] This TensorFlow binary is optimized to use available CPU instructions in performance-critical operations.\n",
      "To enable the following instructions: AVX2 AVX_VNNI FMA, in other operations, rebuild TensorFlow with the appropriate compiler flags.\n",
      "2024-01-16 17:03:58.038083: I external/local_tsl/tsl/cuda/cudart_stub.cc:31] Could not find cuda drivers on your machine, GPU will not be used.\n",
      "2024-01-16 17:03:58.038265: I tensorflow/core/platform/cpu_feature_guard.cc:182] This TensorFlow binary is optimized to use available CPU instructions in performance-critical operations.\n",
      "To enable the following instructions: AVX2 AVX_VNNI FMA, in other operations, rebuild TensorFlow with the appropriate compiler flags.\n",
      "2024-01-16 17:03:58.702520: W tensorflow/compiler/tf2tensorrt/utils/py_utils.cc:38] TF-TRT Warning: Could not find TensorRT\n",
      "2024-01-16 17:03:58.744036: W tensorflow/compiler/tf2tensorrt/utils/py_utils.cc:38] TF-TRT Warning: Could not find TensorRT\n"
     ]
    },
    {
     "name": "stdout",
     "output_type": "stream",
     "text": [
      "2024-01-16 17:04:03,323 - modnet - INFO - Model #1\tloss: 0.0736\tmae: 0.0736\t\n"
     ]
    },
    {
     "name": "stderr",
     "output_type": "stream",
     "text": [
      " 20%|██        | 1/5 [00:06<00:24,  6.13s/it]"
     ]
    },
    {
     "name": "stdout",
     "output_type": "stream",
     "text": [
      "2024-01-16 17:04:03,374 - modnet - INFO - Model #0\tloss: 0.1101\tmae: 0.1101\t\n",
      "2024-01-16 17:04:04,035 - modnet - INFO - Model #2\tloss: 0.0917\tmae: 0.0917\t\n"
     ]
    },
    {
     "name": "stderr",
     "output_type": "stream",
     "text": [
      " 60%|██████    | 3/5 [00:06<00:03,  1.85s/it]"
     ]
    },
    {
     "name": "stdout",
     "output_type": "stream",
     "text": [
      "2024-01-16 17:04:04,220 - modnet - INFO - Model #3\tloss: 0.0534\tmae: 0.0534\t\n"
     ]
    },
    {
     "name": "stderr",
     "output_type": "stream",
     "text": [
      " 80%|████████  | 4/5 [00:07<00:01,  1.28s/it]"
     ]
    },
    {
     "name": "stdout",
     "output_type": "stream",
     "text": [
      "2024-01-16 17:04:04,563 - modnet - INFO - Model #4\tloss: 0.0519\tmae: 0.0519\t\n"
     ]
    },
    {
     "name": "stderr",
     "output_type": "stream",
     "text": [
      "100%|██████████| 5/5 [00:07<00:00,  1.47s/it]\n"
     ]
    },
    {
     "name": "stdout",
     "output_type": "stream",
     "text": [
      "2024-01-16 17:04:05,870 - modnet - INFO - Model successfully saved as benchmark/models/model_01_01.pkl!\n",
      "1/1 [==============================] - 0s 42ms/step\n",
      "1/1 [==============================] - 0s 39ms/step\n",
      "1/1 [==============================] - 0s 36ms/step\n",
      "1/1 [==============================] - 0s 39ms/step\n",
      "1/1 [==============================] - 0s 41ms/step\n",
      "Benchmark complete.\n",
      "2024-01-16 17:04:06,307 - modnet - INFO - Targets:\n",
      "2024-01-16 17:04:06,308 - modnet - INFO - 1)refractive_index: regression\n",
      "2024-01-16 17:04:06,368 - modnet - INFO - Multiprocessing on 2 cores. Total of 12 cores available.\n",
      "2024-01-16 17:04:06,370 - modnet - INFO - Generation number 0\n"
     ]
    },
    {
     "name": "stderr",
     "output_type": "stream",
     "text": [
      "  0%|          | 0/2 [00:00<?, ?it/s]2024-01-16 17:04:06.711319: I tensorflow/core/util/port.cc:113] oneDNN custom operations are on. You may see slightly different numerical results due to floating-point round-off errors from different computation orders. To turn them off, set the environment variable `TF_ENABLE_ONEDNN_OPTS=0`.\n",
      "2024-01-16 17:04:06.714047: I external/local_tsl/tsl/cuda/cudart_stub.cc:31] Could not find cuda drivers on your machine, GPU will not be used.\n",
      "2024-01-16 17:04:06.745768: E external/local_xla/xla/stream_executor/cuda/cuda_dnn.cc:9261] Unable to register cuDNN factory: Attempting to register factory for plugin cuDNN when one has already been registered\n",
      "2024-01-16 17:04:06.745872: E external/local_xla/xla/stream_executor/cuda/cuda_fft.cc:607] Unable to register cuFFT factory: Attempting to register factory for plugin cuFFT when one has already been registered\n",
      "2024-01-16 17:04:06.746901: E external/local_xla/xla/stream_executor/cuda/cuda_blas.cc:1515] Unable to register cuBLAS factory: Attempting to register factory for plugin cuBLAS when one has already been registered\n",
      "2024-01-16 17:04:06.752264: I external/local_tsl/tsl/cuda/cudart_stub.cc:31] Could not find cuda drivers on your machine, GPU will not be used.\n",
      "2024-01-16 17:04:06.752351: I tensorflow/core/util/port.cc:113] oneDNN custom operations are on. You may see slightly different numerical results due to floating-point round-off errors from different computation orders. To turn them off, set the environment variable `TF_ENABLE_ONEDNN_OPTS=0`.\n",
      "2024-01-16 17:04:06.752440: I tensorflow/core/platform/cpu_feature_guard.cc:182] This TensorFlow binary is optimized to use available CPU instructions in performance-critical operations.\n",
      "To enable the following instructions: AVX2 AVX_VNNI FMA, in other operations, rebuild TensorFlow with the appropriate compiler flags.\n",
      "2024-01-16 17:04:06.754135: I external/local_tsl/tsl/cuda/cudart_stub.cc:31] Could not find cuda drivers on your machine, GPU will not be used.\n",
      "2024-01-16 17:04:06.785025: E external/local_xla/xla/stream_executor/cuda/cuda_dnn.cc:9261] Unable to register cuDNN factory: Attempting to register factory for plugin cuDNN when one has already been registered\n",
      "2024-01-16 17:04:06.785053: E external/local_xla/xla/stream_executor/cuda/cuda_fft.cc:607] Unable to register cuFFT factory: Attempting to register factory for plugin cuFFT when one has already been registered\n",
      "2024-01-16 17:04:06.785957: E external/local_xla/xla/stream_executor/cuda/cuda_blas.cc:1515] Unable to register cuBLAS factory: Attempting to register factory for plugin cuBLAS when one has already been registered\n",
      "2024-01-16 17:04:06.791202: I external/local_tsl/tsl/cuda/cudart_stub.cc:31] Could not find cuda drivers on your machine, GPU will not be used.\n",
      "2024-01-16 17:04:06.791351: I tensorflow/core/platform/cpu_feature_guard.cc:182] This TensorFlow binary is optimized to use available CPU instructions in performance-critical operations.\n",
      "To enable the following instructions: AVX2 AVX_VNNI FMA, in other operations, rebuild TensorFlow with the appropriate compiler flags.\n",
      "2024-01-16 17:04:07.422809: W tensorflow/compiler/tf2tensorrt/utils/py_utils.cc:38] TF-TRT Warning: Could not find TensorRT\n",
      "2024-01-16 17:04:07.461110: W tensorflow/compiler/tf2tensorrt/utils/py_utils.cc:38] TF-TRT Warning: Could not find TensorRT\n",
      " 50%|█████     | 1/2 [00:09<00:09,  9.01s/it]"
     ]
    },
    {
     "name": "stdout",
     "output_type": "stream",
     "text": [
      "1/1 [==============================] - 0s 77ms/step\n"
     ]
    },
    {
     "name": "stderr",
     "output_type": "stream",
     "text": [
      "100%|██████████| 2/2 [00:10<00:00,  5.05s/it]"
     ]
    },
    {
     "name": "stdout",
     "output_type": "stream",
     "text": [
      "1/1 [==============================] - 0s 50ms/step\n",
      "2024-01-16 17:04:16,479 - modnet - INFO - Loss per individual: ind 0: 0.738 \tind 1: 1.160 \t\n",
      "2024-01-16 17:04:16,479 - modnet - INFO - Generation number 1\n"
     ]
    },
    {
     "name": "stderr",
     "output_type": "stream",
     "text": [
      "\n",
      " 50%|█████     | 1/2 [00:03<00:03,  3.05s/it]"
     ]
    },
    {
     "name": "stdout",
     "output_type": "stream",
     "text": [
      "1/1 [==============================] - 0s 48ms/step\n"
     ]
    },
    {
     "name": "stderr",
     "output_type": "stream",
     "text": [
      "100%|██████████| 2/2 [00:04<00:00,  2.21s/it]"
     ]
    },
    {
     "name": "stdout",
     "output_type": "stream",
     "text": [
      "1/1 [==============================] - 0s 39ms/step\n",
      "2024-01-16 17:04:20,908 - modnet - INFO - Loss per individual: ind 0: 0.226 \tind 1: 0.270 \t\n"
     ]
    },
    {
     "name": "stderr",
     "output_type": "stream",
     "text": [
      "\n"
     ]
    },
    {
     "name": "stdout",
     "output_type": "stream",
     "text": [
      "2024-01-16 17:04:22,130 - modnet - INFO - Refit...\n",
      "2024-01-16 17:04:22,281 - modnet - INFO - Generating bootstrap data...\n"
     ]
    },
    {
     "name": "stderr",
     "output_type": "stream",
     "text": [
      "  0%|          | 0/5 [00:00<?, ?it/s]2024-01-16 17:04:23.235147: I tensorflow/core/util/port.cc:113] oneDNN custom operations are on. You may see slightly different numerical results due to floating-point round-off errors from different computation orders. To turn them off, set the environment variable `TF_ENABLE_ONEDNN_OPTS=0`.\n",
      "2024-01-16 17:04:23.238056: I external/local_tsl/tsl/cuda/cudart_stub.cc:31] Could not find cuda drivers on your machine, GPU will not be used.\n",
      "2024-01-16 17:04:23.268555: E external/local_xla/xla/stream_executor/cuda/cuda_dnn.cc:9261] Unable to register cuDNN factory: Attempting to register factory for plugin cuDNN when one has already been registered\n",
      "2024-01-16 17:04:23.268592: E external/local_xla/xla/stream_executor/cuda/cuda_fft.cc:607] Unable to register cuFFT factory: Attempting to register factory for plugin cuFFT when one has already been registered\n",
      "2024-01-16 17:04:23.269909: E external/local_xla/xla/stream_executor/cuda/cuda_blas.cc:1515] Unable to register cuBLAS factory: Attempting to register factory for plugin cuBLAS when one has already been registered\n",
      "2024-01-16 17:04:23.275662: I tensorflow/core/util/port.cc:113] oneDNN custom operations are on. You may see slightly different numerical results due to floating-point round-off errors from different computation orders. To turn them off, set the environment variable `TF_ENABLE_ONEDNN_OPTS=0`.\n",
      "2024-01-16 17:04:23.277650: I external/local_tsl/tsl/cuda/cudart_stub.cc:31] Could not find cuda drivers on your machine, GPU will not be used.\n",
      "2024-01-16 17:04:23.277815: I tensorflow/core/platform/cpu_feature_guard.cc:182] This TensorFlow binary is optimized to use available CPU instructions in performance-critical operations.\n",
      "To enable the following instructions: AVX2 AVX_VNNI FMA, in other operations, rebuild TensorFlow with the appropriate compiler flags.\n",
      "2024-01-16 17:04:23.277827: I external/local_tsl/tsl/cuda/cudart_stub.cc:31] Could not find cuda drivers on your machine, GPU will not be used.\n",
      "2024-01-16 17:04:23.308627: E external/local_xla/xla/stream_executor/cuda/cuda_dnn.cc:9261] Unable to register cuDNN factory: Attempting to register factory for plugin cuDNN when one has already been registered\n",
      "2024-01-16 17:04:23.308656: E external/local_xla/xla/stream_executor/cuda/cuda_fft.cc:607] Unable to register cuFFT factory: Attempting to register factory for plugin cuFFT when one has already been registered\n",
      "2024-01-16 17:04:23.309631: E external/local_xla/xla/stream_executor/cuda/cuda_blas.cc:1515] Unable to register cuBLAS factory: Attempting to register factory for plugin cuBLAS when one has already been registered\n",
      "2024-01-16 17:04:23.314865: I external/local_tsl/tsl/cuda/cudart_stub.cc:31] Could not find cuda drivers on your machine, GPU will not be used.\n",
      "2024-01-16 17:04:23.315014: I tensorflow/core/platform/cpu_feature_guard.cc:182] This TensorFlow binary is optimized to use available CPU instructions in performance-critical operations.\n",
      "To enable the following instructions: AVX2 AVX_VNNI FMA, in other operations, rebuild TensorFlow with the appropriate compiler flags.\n",
      "2024-01-16 17:04:24.000070: W tensorflow/compiler/tf2tensorrt/utils/py_utils.cc:38] TF-TRT Warning: Could not find TensorRT\n",
      "2024-01-16 17:04:24.028130: W tensorflow/compiler/tf2tensorrt/utils/py_utils.cc:38] TF-TRT Warning: Could not find TensorRT\n"
     ]
    },
    {
     "name": "stdout",
     "output_type": "stream",
     "text": [
      "2024-01-16 17:04:28,795 - modnet - INFO - Model #1\tloss: 0.1123\tmae: 0.1123\t\n"
     ]
    },
    {
     "name": "stderr",
     "output_type": "stream",
     "text": [
      " 20%|██        | 1/5 [00:06<00:25,  6.39s/it]"
     ]
    },
    {
     "name": "stdout",
     "output_type": "stream",
     "text": [
      "2024-01-16 17:04:28,917 - modnet - INFO - Model #0\tloss: 0.2210\tmae: 0.2210\t\n"
     ]
    },
    {
     "name": "stderr",
     "output_type": "stream",
     "text": [
      " 40%|████      | 2/5 [00:06<00:08,  2.70s/it]"
     ]
    },
    {
     "name": "stdout",
     "output_type": "stream",
     "text": [
      "2024-01-16 17:04:30,175 - modnet - INFO - Model #2\tloss: 0.0570\tmae: 0.0570\t\n"
     ]
    },
    {
     "name": "stderr",
     "output_type": "stream",
     "text": [
      " 60%|██████    | 3/5 [00:07<00:04,  2.04s/it]"
     ]
    },
    {
     "name": "stdout",
     "output_type": "stream",
     "text": [
      "2024-01-16 17:04:30,471 - modnet - INFO - Model #3\tloss: 0.0722\tmae: 0.0722\t\n"
     ]
    },
    {
     "name": "stderr",
     "output_type": "stream",
     "text": [
      " 80%|████████  | 4/5 [00:08<00:01,  1.35s/it]"
     ]
    },
    {
     "name": "stdout",
     "output_type": "stream",
     "text": [
      "2024-01-16 17:04:31,193 - modnet - INFO - Model #4\tloss: 0.0642\tmae: 0.0642\t\n"
     ]
    },
    {
     "name": "stderr",
     "output_type": "stream",
     "text": [
      "100%|██████████| 5/5 [00:08<00:00,  1.76s/it]\n"
     ]
    },
    {
     "name": "stdout",
     "output_type": "stream",
     "text": [
      "2024-01-16 17:04:32,524 - modnet - INFO - Model successfully saved as production/models/model_01.pkl!\n",
      "124/124 [==============================] - 0s 1ms/step\n",
      "124/124 [==============================] - 0s 1ms/step\n",
      "124/124 [==============================] - 0s 1ms/step\n",
      "124/124 [==============================] - 0s 989us/step\n",
      "124/124 [==============================] - 0s 1ms/step\n"
     ]
    },
    {
     "data": {
      "text/plain": [
       "(           AtomicOrbitals|HOMO_character  AtomicOrbitals|HOMO_element  \\\n",
       " mp-565765                            2.0                            8   \n",
       " mp-757727                            2.0                            8   \n",
       " mp-558062                            2.0                           16   \n",
       " mp-28261                             2.0                            8   \n",
       " mp-22870                             1.0                           49   \n",
       " mp-4651                              2.0                            8   \n",
       " mp-23211                             4.0                           59   \n",
       " mp-29606                             2.0                            8   \n",
       " mp-27297                             3.0                           75   \n",
       " mp-7404                              2.0                            8   \n",
       " mp-6204                              2.0                            9   \n",
       " mp-768605                            4.0                           67   \n",
       " mp-753153                            4.0                           66   \n",
       " mp-15560                             2.0                            8   \n",
       " mp-438                               2.0                            8   \n",
       " mp-582483                            2.0                            8   \n",
       " mp-17730                             2.0                            8   \n",
       " mp-704727                            2.0                            8   \n",
       " mp-11147                             3.0                           29   \n",
       " mp-685194                            2.0                            8   \n",
       " mp-772290                            3.0                           47   \n",
       " mp-13772                             2.0                            8   \n",
       " mp-4991                              4.0                           65   \n",
       " mp-583646                            2.0                            8   \n",
       " mp-24901                             2.0                            8   \n",
       " mp-4661                              2.0                            8   \n",
       " mp-18651                             3.0                           45   \n",
       " mp-30954                             2.0                           53   \n",
       " mp-849597                            2.0                            9   \n",
       " mp-9216                              2.0                            8   \n",
       " mp-17672                             2.0                            8   \n",
       " mp-754329                            2.0                            8   \n",
       " mp-559903                            2.0                            8   \n",
       " mp-561083                            2.0                            8   \n",
       " mp-554583                            2.0                            8   \n",
       " mp-18996                             1.0                           81   \n",
       " mp-6692                              2.0                            8   \n",
       " mp-696762                            2.0                            8   \n",
       " mp-643074                            2.0                            8   \n",
       " mp-23810                             2.0                            8   \n",
       " mp-566266                            2.0                            8   \n",
       " mp-677391                            4.0                           69   \n",
       " mp-18609                             2.0                           34   \n",
       " mp-16055                             2.0                            8   \n",
       " mp-9066                              2.0                            8   \n",
       " mp-752579                            4.0                           69   \n",
       " mp-561207                            2.0                            9   \n",
       " mp-16543                             3.0                           29   \n",
       " mp-29680                             2.0                            8   \n",
       " mp-546757                            2.0                            8   \n",
       " mp-7703                              4.0                           66   \n",
       " mp-567264                            2.0                            8   \n",
       " mp-7000                              2.0                            8   \n",
       " mp-9063                              2.0                           34   \n",
       " mp-555451                            2.0                            8   \n",
       " \n",
       "            AtomicOrbitals|HOMO_energy  AtomicOrbitals|LUMO_character  \\\n",
       " mp-565765                   -0.338381                            2.0   \n",
       " mp-757727                   -0.338381                            2.0   \n",
       " mp-558062                   -0.261676                            3.0   \n",
       " mp-28261                    -0.338381                            2.0   \n",
       " mp-22870                    -0.290497                            2.0   \n",
       " mp-4651                     -0.338381                            3.0   \n",
       " mp-23211                    -0.155138                            4.0   \n",
       " mp-29606                    -0.338381                            1.0   \n",
       " mp-27297                    -0.258639                            3.0   \n",
       " mp-7404                     -0.338381                            2.0   \n",
       " mp-6204                     -0.415606                            1.0   \n",
       " mp-768605                   -0.272677                            4.0   \n",
       " mp-753153                   -0.265302                            4.0   \n",
       " mp-15560                    -0.338381                            2.0   \n",
       " mp-438                      -0.338381                            1.0   \n",
       " mp-582483                   -0.338381                            2.0   \n",
       " mp-17730                    -0.338381                            2.0   \n",
       " mp-704727                   -0.338381                            2.0   \n",
       " mp-11147                    -0.202272                            1.0   \n",
       " mp-685194                   -0.338381                            3.0   \n",
       " mp-772290                   -0.298706                            1.0   \n",
       " mp-13772                    -0.338381                            2.0   \n",
       " mp-4991                     -0.256311                            4.0   \n",
       " mp-583646                   -0.338381                            2.0   \n",
       " mp-24901                    -0.338381                            2.0   \n",
       " mp-4661                     -0.338381                            1.0   \n",
       " mp-18651                    -0.239422                            3.0   \n",
       " mp-30954                    -0.267904                            2.0   \n",
       " mp-849597                   -0.415606                            1.0   \n",
       " mp-9216                     -0.338381                            1.0   \n",
       " mp-17672                    -0.338381                            2.0   \n",
       " mp-754329                   -0.338381                            2.0   \n",
       " mp-559903                   -0.338381                            2.0   \n",
       " mp-561083                   -0.338381                            2.0   \n",
       " mp-554583                   -0.338381                            2.0   \n",
       " mp-18996                    -0.285020                            3.0   \n",
       " mp-6692                     -0.338381                            2.0   \n",
       " mp-696762                   -0.338381                            2.0   \n",
       " mp-643074                   -0.338381                            2.0   \n",
       " mp-23810                    -0.338381                            2.0   \n",
       " mp-566266                   -0.338381                            2.0   \n",
       " mp-677391                   -0.283120                            4.0   \n",
       " mp-18609                    -0.245806                            2.0   \n",
       " mp-16055                    -0.338381                            2.0   \n",
       " mp-9066                     -0.338381                            2.0   \n",
       " mp-752579                   -0.283120                            4.0   \n",
       " mp-561207                   -0.415606                            1.0   \n",
       " mp-16543                    -0.202272                            1.0   \n",
       " mp-29680                    -0.338381                            3.0   \n",
       " mp-546757                   -0.338381                            2.0   \n",
       " mp-7703                     -0.265302                            4.0   \n",
       " mp-567264                   -0.338381                            2.0   \n",
       " mp-7000                     -0.338381                            2.0   \n",
       " mp-9063                     -0.245806                            2.0   \n",
       " mp-555451                   -0.338381                            2.0   \n",
       " \n",
       "            AtomicOrbitals|LUMO_element  AtomicOrbitals|LUMO_energy  \\\n",
       " mp-565765                            8                   -0.338381   \n",
       " mp-757727                            8                   -0.338381   \n",
       " mp-558062                           22                   -0.170010   \n",
       " mp-28261                            50                   -0.144450   \n",
       " mp-22870                            49                   -0.101782   \n",
       " mp-4651                             22                   -0.170010   \n",
       " mp-23211                            59                   -0.155138   \n",
       " mp-29606                            30                   -0.222725   \n",
       " mp-27297                            75                   -0.258639   \n",
       " mp-7404                              8                   -0.338381   \n",
       " mp-6204                             21                   -0.156478   \n",
       " mp-768605                           67                   -0.272677   \n",
       " mp-753153                           66                   -0.265302   \n",
       " mp-15560                             8                   -0.338381   \n",
       " mp-438                              72                   -0.166465   \n",
       " mp-582483                            8                   -0.338381   \n",
       " mp-17730                             8                   -0.338381   \n",
       " mp-704727                            8                   -0.338381   \n",
       " mp-11147                            29                   -0.172056   \n",
       " mp-685194                           22                   -0.170010   \n",
       " mp-772290                           47                   -0.157407   \n",
       " mp-13772                             8                   -0.338381   \n",
       " mp-4991                             65                   -0.256311   \n",
       " mp-583646                            8                   -0.338381   \n",
       " mp-24901                             8                   -0.338381   \n",
       " mp-4661                             21                   -0.156478   \n",
       " mp-18651                            45                   -0.239422   \n",
       " mp-30954                            53                   -0.267904   \n",
       " mp-849597                           13                   -0.286883   \n",
       " mp-9216                             81                   -0.285020   \n",
       " mp-17672                             8                   -0.338381   \n",
       " mp-754329                            8                   -0.338381   \n",
       " mp-559903                           34                   -0.245806   \n",
       " mp-561083                            8                   -0.338381   \n",
       " mp-554583                            8                   -0.338381   \n",
       " mp-18996                            23                   -0.204634   \n",
       " mp-6692                             51                   -0.185623   \n",
       " mp-696762                            8                   -0.338381   \n",
       " mp-643074                            8                   -0.338381   \n",
       " mp-23810                             8                   -0.338381   \n",
       " mp-566266                            8                   -0.338381   \n",
       " mp-677391                           69                   -0.283120   \n",
       " mp-18609                            34                   -0.245806   \n",
       " mp-16055                             8                   -0.338381   \n",
       " mp-9066                              8                   -0.338381   \n",
       " mp-752579                           69                   -0.283120   \n",
       " mp-561207                           12                   -0.175427   \n",
       " mp-16543                            29                   -0.172056   \n",
       " mp-29680                            73                   -0.182464   \n",
       " mp-546757                            8                   -0.338381   \n",
       " mp-7703                             66                   -0.265302   \n",
       " mp-567264                           52                   -0.226594   \n",
       " mp-7000                              8                   -0.338381   \n",
       " mp-9063                             34                   -0.245806   \n",
       " mp-555451                            8                   -0.338381   \n",
       " \n",
       "            AtomicOrbitals|gap_AO  BandCenter|band center  ElementFraction|H  \\\n",
       " mp-565765               0.000000                5.771723           0.000000   \n",
       " mp-757727               0.000000                6.013063           0.200000   \n",
       " mp-558062               0.091666                3.993024           0.000000   \n",
       " mp-28261                0.193931                4.307028           0.000000   \n",
       " mp-22870                0.188715                4.805852           0.000000   \n",
       " mp-4651                 0.168371                5.318199           0.000000   \n",
       " mp-23211                0.000000                6.426246           0.000000   \n",
       " mp-29606                0.115656                4.961248           0.000000   \n",
       " mp-27297                0.000000                7.232548           0.000000   \n",
       " mp-7404                 0.000000                4.950502           0.000000   \n",
       " mp-6204                 0.259128                5.977442           0.000000   \n",
       " mp-768605               0.000000                5.549804           0.000000   \n",
       " mp-753153               0.000000                5.978891           0.000000   \n",
       " mp-15560                0.000000                6.587024           0.000000   \n",
       " mp-438                  0.171916                5.138705           0.000000   \n",
       " mp-582483               0.000000                     NaN           0.000000   \n",
       " mp-17730                0.000000                4.688742           0.000000   \n",
       " mp-704727               0.000000                6.049915           0.000000   \n",
       " mp-11147                0.030216                4.051186           0.000000   \n",
       " mp-685194               0.168371                5.254392           0.000000   \n",
       " mp-772290               0.141299                4.650459           0.000000   \n",
       " mp-13772                0.000000                5.203997           0.000000   \n",
       " mp-4991                 0.000000                5.805025           0.000000   \n",
       " mp-583646               0.000000                5.247663           0.000000   \n",
       " mp-24901                0.000000                7.299572           0.000000   \n",
       " mp-4661                 0.181903                6.422565           0.000000   \n",
       " mp-18651                0.000000                5.098521           0.000000   \n",
       " mp-30954                0.000000                5.582301           0.000000   \n",
       " mp-849597               0.128723                6.745990           0.000000   \n",
       " mp-9216                 0.053361                5.035914           0.000000   \n",
       " mp-17672                0.000000                5.752340           0.000000   \n",
       " mp-754329               0.000000                6.056809           0.000000   \n",
       " mp-559903               0.092575                5.943346           0.000000   \n",
       " mp-561083               0.000000                5.617607           0.000000   \n",
       " mp-554583               0.000000                6.713942           0.000000   \n",
       " mp-18996                0.080386                5.842823           0.000000   \n",
       " mp-6692                 0.152758                5.348184           0.000000   \n",
       " mp-696762               0.000000                6.776760           0.312500   \n",
       " mp-643074               0.000000                5.909758           0.153846   \n",
       " mp-23810                0.000000                6.142744           0.142857   \n",
       " mp-566266               0.000000                6.147076           0.000000   \n",
       " mp-677391               0.000000                5.638942           0.000000   \n",
       " mp-18609                0.000000                4.567314           0.000000   \n",
       " mp-16055                0.000000                6.006685           0.000000   \n",
       " mp-9066                 0.000000                5.075938           0.000000   \n",
       " mp-752579               0.000000                5.584008           0.000000   \n",
       " mp-561207               0.240179                6.040671           0.000000   \n",
       " mp-16543                0.030216                4.451014           0.000000   \n",
       " mp-29680                0.155917                6.087441           0.000000   \n",
       " mp-546757               0.000000                6.846267           0.000000   \n",
       " mp-7703                 0.000000                5.915031           0.000000   \n",
       " mp-567264               0.111787                6.308543           0.000000   \n",
       " mp-7000                 0.000000                6.471920           0.000000   \n",
       " mp-9063                 0.000000                3.704929           0.000000   \n",
       " mp-555451               0.000000                     NaN           0.000000   \n",
       " \n",
       "            ElementFraction|He  ...  VoronoiFingerprint|mean Voro_area_maximum  \\\n",
       " mp-565765                   0  ...                                   5.495463   \n",
       " mp-757727                   0  ...                                        NaN   \n",
       " mp-558062                   0  ...                                   9.426845   \n",
       " mp-28261                    0  ...                                   6.468382   \n",
       " mp-22870                    0  ...                                   8.448646   \n",
       " mp-4651                     0  ...                                   3.766100   \n",
       " mp-23211                    0  ...                                   5.351207   \n",
       " mp-29606                    0  ...                                   6.932504   \n",
       " mp-27297                    0  ...                                   6.736385   \n",
       " mp-7404                     0  ...                                   4.797716   \n",
       " mp-6204                     0  ...                                   5.192988   \n",
       " mp-768605                   0  ...                                   5.829709   \n",
       " mp-753153                   0  ...                                   6.009872   \n",
       " mp-15560                    0  ...                                   5.978003   \n",
       " mp-438                      0  ...                                   5.245520   \n",
       " mp-582483                   0  ...                                   5.499390   \n",
       " mp-17730                    0  ...                                   6.724057   \n",
       " mp-704727                   0  ...                                   5.472386   \n",
       " mp-11147                    0  ...                                   5.246904   \n",
       " mp-685194                   0  ...                                   3.808135   \n",
       " mp-772290                   0  ...                                   5.047899   \n",
       " mp-13772                    0  ...                                   5.137256   \n",
       " mp-4991                     0  ...                                   4.702730   \n",
       " mp-583646                   0  ...                                   5.907329   \n",
       " mp-24901                    0  ...                                   5.324358   \n",
       " mp-4661                     0  ...                                   4.228550   \n",
       " mp-18651                    0  ...                                   4.831272   \n",
       " mp-30954                    0  ...                                  15.497724   \n",
       " mp-849597                   0  ...                                   4.560373   \n",
       " mp-9216                     0  ...                                   6.014417   \n",
       " mp-17672                    0  ...                                   7.270487   \n",
       " mp-754329                   0  ...                                   6.337560   \n",
       " mp-559903                   0  ...                                   6.233217   \n",
       " mp-561083                   0  ...                                   5.686067   \n",
       " mp-554583                   0  ...                                   6.266961   \n",
       " mp-18996                    0  ...                                   5.171831   \n",
       " mp-6692                     0  ...                                   5.131639   \n",
       " mp-696762                   0  ...                                   8.096535   \n",
       " mp-643074                   0  ...                                   7.343449   \n",
       " mp-23810                    0  ...                                   7.717475   \n",
       " mp-566266                   0  ...                                   5.294702   \n",
       " mp-677391                   0  ...                                   4.967894   \n",
       " mp-18609                    0  ...                                   9.653500   \n",
       " mp-16055                    0  ...                                   6.585482   \n",
       " mp-9066                     0  ...                                   6.679572   \n",
       " mp-752579                   0  ...                                   5.798487   \n",
       " mp-561207                   0  ...                                   5.366795   \n",
       " mp-16543                    0  ...                                   7.919141   \n",
       " mp-29680                    0  ...                                   5.055134   \n",
       " mp-546757                   0  ...                                   6.413486   \n",
       " mp-7703                     0  ...                                   4.541170   \n",
       " mp-567264                   0  ...                                   5.429500   \n",
       " mp-7000                     0  ...                                        NaN   \n",
       " mp-9063                     0  ...                                   9.467950   \n",
       " mp-555451                   0  ...                                   7.094569   \n",
       " \n",
       "            VoronoiFingerprint|std_dev Voro_area_maximum  \\\n",
       " mp-565765                                  9.175471e-01   \n",
       " mp-757727                                           NaN   \n",
       " mp-558062                                  6.058118e-01   \n",
       " mp-28261                                   6.031691e-01   \n",
       " mp-22870                                   1.256074e-15   \n",
       " mp-4651                                    2.761816e-01   \n",
       " mp-23211                                   3.823448e-01   \n",
       " mp-29606                                   1.075410e+00   \n",
       " mp-27297                                   9.511060e-01   \n",
       " mp-7404                                    2.027246e-01   \n",
       " mp-6204                                    9.290949e-01   \n",
       " mp-768605                                  1.034717e+00   \n",
       " mp-753153                                  1.409247e+00   \n",
       " mp-15560                                   7.035826e-01   \n",
       " mp-438                                     1.668584e+00   \n",
       " mp-582483                                  6.253227e-01   \n",
       " mp-17730                                   8.388325e-01   \n",
       " mp-704727                                  1.438784e+00   \n",
       " mp-11147                                   1.105375e+00   \n",
       " mp-685194                                  1.308656e+00   \n",
       " mp-772290                                  3.228588e-01   \n",
       " mp-13772                                   1.086776e+00   \n",
       " mp-4991                                    2.531242e-01   \n",
       " mp-583646                                  1.193827e+00   \n",
       " mp-24901                                   6.557553e-01   \n",
       " mp-4661                                    2.432543e-01   \n",
       " mp-18651                                   2.319928e-01   \n",
       " mp-30954                                   1.625255e+00   \n",
       " mp-849597                                  9.250427e-01   \n",
       " mp-9216                                    6.532073e-01   \n",
       " mp-17672                                   1.845175e+00   \n",
       " mp-754329                                  5.366434e-01   \n",
       " mp-559903                                  8.221039e-01   \n",
       " mp-561083                                  2.866851e-01   \n",
       " mp-554583                                  7.536564e-01   \n",
       " mp-18996                                   6.814771e-01   \n",
       " mp-6692                                    4.685411e-01   \n",
       " mp-696762                                  1.208891e+00   \n",
       " mp-643074                                  1.177232e+00   \n",
       " mp-23810                                   9.651849e-01   \n",
       " mp-566266                                  6.553248e-01   \n",
       " mp-677391                                  2.500593e-01   \n",
       " mp-18609                                   1.163894e+00   \n",
       " mp-16055                                   6.833879e-01   \n",
       " mp-9066                                    2.678373e-01   \n",
       " mp-752579                                  1.130927e+00   \n",
       " mp-561207                                  7.180502e-01   \n",
       " mp-16543                                   5.844724e-01   \n",
       " mp-29680                                   5.123506e-01   \n",
       " mp-546757                                  4.088817e-01   \n",
       " mp-7703                                    3.701030e-01   \n",
       " mp-567264                                  9.190915e-01   \n",
       " mp-7000                                             NaN   \n",
       " mp-9063                                    8.618798e-01   \n",
       " mp-555451                                  1.323695e+00   \n",
       " \n",
       "            VoronoiFingerprint|mean Voro_dist_mean  \\\n",
       " mp-565765                                2.738762   \n",
       " mp-757727                                     NaN   \n",
       " mp-558062                                3.835003   \n",
       " mp-28261                                 3.155896   \n",
       " mp-22870                                 3.944227   \n",
       " mp-4651                                  2.768953   \n",
       " mp-23211                                 3.506153   \n",
       " mp-29606                                 3.224368   \n",
       " mp-27297                                 3.609417   \n",
       " mp-7404                                  2.815704   \n",
       " mp-6204                                  3.095884   \n",
       " mp-768605                                2.899890   \n",
       " mp-753153                                2.899464   \n",
       " mp-15560                                 2.874873   \n",
       " mp-438                                   3.034086   \n",
       " mp-582483                                2.904677   \n",
       " mp-17730                                 3.167767   \n",
       " mp-704727                                2.833150   \n",
       " mp-11147                                 2.887408   \n",
       " mp-685194                                2.836354   \n",
       " mp-772290                                2.891564   \n",
       " mp-13772                                 2.897452   \n",
       " mp-4991                                  2.693109   \n",
       " mp-583646                                2.912551   \n",
       " mp-24901                                 2.947418   \n",
       " mp-4661                                  2.776270   \n",
       " mp-18651                                 3.062070   \n",
       " mp-30954                                 4.618033   \n",
       " mp-849597                                2.713055   \n",
       " mp-9216                                  2.956563   \n",
       " mp-17672                                 3.121534   \n",
       " mp-754329                                2.919781   \n",
       " mp-559903                                3.065915   \n",
       " mp-561083                                2.938496   \n",
       " mp-554583                                2.945392   \n",
       " mp-18996                                 2.807199   \n",
       " mp-6692                                  3.026591   \n",
       " mp-696762                                3.016377   \n",
       " mp-643074                                3.127943   \n",
       " mp-23810                                 3.168727   \n",
       " mp-566266                                2.693063   \n",
       " mp-677391                                2.808263   \n",
       " mp-18609                                 4.009721   \n",
       " mp-16055                                 3.007252   \n",
       " mp-9066                                  3.078917   \n",
       " mp-752579                                2.873447   \n",
       " mp-561207                                3.161527   \n",
       " mp-16543                                 3.570321   \n",
       " mp-29680                                 2.950550   \n",
       " mp-546757                                3.248774   \n",
       " mp-7703                                  2.756897   \n",
       " mp-567264                                2.980484   \n",
       " mp-7000                                       NaN   \n",
       " mp-9063                                  3.971846   \n",
       " mp-555451                                3.231206   \n",
       " \n",
       "            VoronoiFingerprint|std_dev Voro_dist_mean  \\\n",
       " mp-565765                                   0.322692   \n",
       " mp-757727                                        NaN   \n",
       " mp-558062                                   0.254236   \n",
       " mp-28261                                    0.254639   \n",
       " mp-22870                                    0.082990   \n",
       " mp-4651                                     0.117054   \n",
       " mp-23211                                    0.341127   \n",
       " mp-29606                                    0.169286   \n",
       " mp-27297                                    0.472131   \n",
       " mp-7404                                     0.212219   \n",
       " mp-6204                                     0.423129   \n",
       " mp-768605                                   0.280538   \n",
       " mp-753153                                   0.322212   \n",
       " mp-15560                                    0.321117   \n",
       " mp-438                                      0.228363   \n",
       " mp-582483                                   0.147076   \n",
       " mp-17730                                    0.275685   \n",
       " mp-704727                                   0.436340   \n",
       " mp-11147                                    0.365469   \n",
       " mp-685194                                   0.446138   \n",
       " mp-772290                                   0.224807   \n",
       " mp-13772                                    0.134717   \n",
       " mp-4991                                     0.357145   \n",
       " mp-583646                                   0.123603   \n",
       " mp-24901                                    0.282425   \n",
       " mp-4661                                     0.164518   \n",
       " mp-18651                                    0.169153   \n",
       " mp-30954                                    0.126322   \n",
       " mp-849597                                   0.392862   \n",
       " mp-9216                                     0.176108   \n",
       " mp-17672                                    0.395955   \n",
       " mp-754329                                   0.328675   \n",
       " mp-559903                                   0.167042   \n",
       " mp-561083                                   0.184435   \n",
       " mp-554583                                   0.272756   \n",
       " mp-18996                                    0.395410   \n",
       " mp-6692                                     0.339666   \n",
       " mp-696762                                   0.251268   \n",
       " mp-643074                                   0.335721   \n",
       " mp-23810                                    0.240863   \n",
       " mp-566266                                   0.232870   \n",
       " mp-677391                                   0.308115   \n",
       " mp-18609                                    0.091748   \n",
       " mp-16055                                    0.364274   \n",
       " mp-9066                                     0.106116   \n",
       " mp-752579                                   0.277400   \n",
       " mp-561207                                   0.469159   \n",
       " mp-16543                                    0.255405   \n",
       " mp-29680                                    0.367904   \n",
       " mp-546757                                   0.357603   \n",
       " mp-7703                                     0.279477   \n",
       " mp-567264                                   0.411245   \n",
       " mp-7000                                          NaN   \n",
       " mp-9063                                     0.517813   \n",
       " mp-555451                                   0.330396   \n",
       " \n",
       "            VoronoiFingerprint|mean Voro_dist_std_dev  \\\n",
       " mp-565765                                   0.523236   \n",
       " mp-757727                                        NaN   \n",
       " mp-558062                                   0.752188   \n",
       " mp-28261                                    0.624772   \n",
       " mp-22870                                    0.560403   \n",
       " mp-4651                                     0.408181   \n",
       " mp-23211                                    0.509672   \n",
       " mp-29606                                    0.637985   \n",
       " mp-27297                                    0.703156   \n",
       " mp-7404                                     0.461001   \n",
       " mp-6204                                     0.421469   \n",
       " mp-768605                                   0.624504   \n",
       " mp-753153                                   0.586863   \n",
       " mp-15560                                    0.738255   \n",
       " mp-438                                      0.517940   \n",
       " mp-582483                                   0.579675   \n",
       " mp-17730                                    0.527691   \n",
       " mp-704727                                   0.616013   \n",
       " mp-11147                                    0.363047   \n",
       " mp-685194                                   0.412670   \n",
       " mp-772290                                   0.542072   \n",
       " mp-13772                                    0.489612   \n",
       " mp-4991                                     0.335329   \n",
       " mp-583646                                   0.596694   \n",
       " mp-24901                                    0.755131   \n",
       " mp-4661                                     0.581816   \n",
       " mp-18651                                    0.550974   \n",
       " mp-30954                                    0.882232   \n",
       " mp-849597                                   0.422878   \n",
       " mp-9216                                     0.482553   \n",
       " mp-17672                                    0.872523   \n",
       " mp-754329                                   0.533850   \n",
       " mp-559903                                   0.584996   \n",
       " mp-561083                                   0.590591   \n",
       " mp-554583                                   0.752569   \n",
       " mp-18996                                    0.541611   \n",
       " mp-6692                                     0.434092   \n",
       " mp-696762                                   0.807499   \n",
       " mp-643074                                   0.817723   \n",
       " mp-23810                                    0.785407   \n",
       " mp-566266                                   0.495469   \n",
       " mp-677391                                   0.539963   \n",
       " mp-18609                                    0.668705   \n",
       " mp-16055                                    0.849508   \n",
       " mp-9066                                     0.602664   \n",
       " mp-752579                                   0.623011   \n",
       " mp-561207                                   0.601835   \n",
       " mp-16543                                    0.896118   \n",
       " mp-29680                                    0.564456   \n",
       " mp-546757                                   0.786466   \n",
       " mp-7703                                     0.468957   \n",
       " mp-567264                                   0.638957   \n",
       " mp-7000                                          NaN   \n",
       " mp-9063                                     0.597563   \n",
       " mp-555451                                   0.689652   \n",
       " \n",
       "            VoronoiFingerprint|std_dev Voro_dist_std_dev  \\\n",
       " mp-565765                                      0.235251   \n",
       " mp-757727                                           NaN   \n",
       " mp-558062                                      0.139410   \n",
       " mp-28261                                       0.095060   \n",
       " mp-22870                                       0.024691   \n",
       " mp-4651                                        0.158880   \n",
       " mp-23211                                       0.310326   \n",
       " mp-29606                                       0.088245   \n",
       " mp-27297                                       0.077450   \n",
       " mp-7404                                        0.071842   \n",
       " mp-6204                                        0.177329   \n",
       " mp-768605                                      0.185751   \n",
       " mp-753153                                      0.282994   \n",
       " mp-15560                                       0.249472   \n",
       " mp-438                                         0.141104   \n",
       " mp-582483                                      0.217247   \n",
       " mp-17730                                       0.168947   \n",
       " mp-704727                                      0.362744   \n",
       " mp-11147                                       0.159338   \n",
       " mp-685194                                      0.156594   \n",
       " mp-772290                                      0.112426   \n",
       " mp-13772                                       0.102207   \n",
       " mp-4991                                        0.217440   \n",
       " mp-583646                                      0.134076   \n",
       " mp-24901                                       0.214262   \n",
       " mp-4661                                        0.101308   \n",
       " mp-18651                                       0.029973   \n",
       " mp-30954                                       0.230005   \n",
       " mp-849597                                      0.198497   \n",
       " mp-9216                                        0.051817   \n",
       " mp-17672                                       0.164450   \n",
       " mp-754329                                      0.085013   \n",
       " mp-559903                                      0.182146   \n",
       " mp-561083                                      0.136051   \n",
       " mp-554583                                      0.206555   \n",
       " mp-18996                                       0.131792   \n",
       " mp-6692                                        0.172479   \n",
       " mp-696762                                      0.136683   \n",
       " mp-643074                                      0.224323   \n",
       " mp-23810                                       0.185571   \n",
       " mp-566266                                      0.245004   \n",
       " mp-677391                                      0.165344   \n",
       " mp-18609                                       0.132217   \n",
       " mp-16055                                       0.257105   \n",
       " mp-9066                                        0.079411   \n",
       " mp-752579                                      0.176322   \n",
       " mp-561207                                      0.172227   \n",
       " mp-16543                                       0.219655   \n",
       " mp-29680                                       0.198345   \n",
       " mp-546757                                      0.201656   \n",
       " mp-7703                                        0.164983   \n",
       " mp-567264                                      0.269746   \n",
       " mp-7000                                             NaN   \n",
       " mp-9063                                        0.190615   \n",
       " mp-555451                                      0.220847   \n",
       " \n",
       "            VoronoiFingerprint|mean Voro_dist_minimum  \\\n",
       " mp-565765                                   1.774058   \n",
       " mp-757727                                        NaN   \n",
       " mp-558062                                   2.517513   \n",
       " mp-28261                                    2.196959   \n",
       " mp-22870                                    3.052428   \n",
       " mp-4651                                     2.115776   \n",
       " mp-23211                                    2.929230   \n",
       " mp-29606                                    2.181497   \n",
       " mp-27297                                    2.086984   \n",
       " mp-7404                                     2.132447   \n",
       " mp-6204                                     2.319935   \n",
       " mp-768605                                   2.035889   \n",
       " mp-753153                                   1.789989   \n",
       " mp-15560                                    1.557008   \n",
       " mp-438                                      2.258000   \n",
       " mp-582483                                   1.745282   \n",
       " mp-17730                                    2.249996   \n",
       " mp-704727                                   1.877985   \n",
       " mp-11147                                    2.221003   \n",
       " mp-685194                                   2.145546   \n",
       " mp-772290                                   2.016699   \n",
       " mp-13772                                    1.921051   \n",
       " mp-4991                                     2.135181   \n",
       " mp-583646                                   1.747141   \n",
       " mp-24901                                    1.506057   \n",
       " mp-4661                                     2.106284   \n",
       " mp-18651                                    2.243032   \n",
       " mp-30954                                    2.565902   \n",
       " mp-849597                                   1.951947   \n",
       " mp-9216                                     2.282865   \n",
       " mp-17672                                    1.488995   \n",
       " mp-754329                                   2.118872   \n",
       " mp-559903                                   1.864683   \n",
       " mp-561083                                   1.777135   \n",
       " mp-554583                                   1.552912   \n",
       " mp-18996                                    1.830799   \n",
       " mp-6692                                     2.217112   \n",
       " mp-696762                                   1.303502   \n",
       " mp-643074                                   1.619094   \n",
       " mp-23810                                    1.632371   \n",
       " mp-566266                                   1.672223   \n",
       " mp-677391                                   2.137022   \n",
       " mp-18609                                    2.676069   \n",
       " mp-16055                                    1.697961   \n",
       " mp-9066                                     1.862583   \n",
       " mp-752579                                   2.027341   \n",
       " mp-561207                                   2.246896   \n",
       " mp-16543                                    2.128830   \n",
       " mp-29680                                    2.069474   \n",
       " mp-546757                                   1.865542   \n",
       " mp-7703                                     1.992625   \n",
       " mp-567264                                   1.946039   \n",
       " mp-7000                                          NaN   \n",
       " mp-9063                                     2.970208   \n",
       " mp-555451                                   1.976666   \n",
       " \n",
       "            VoronoiFingerprint|std_dev Voro_dist_minimum  \\\n",
       " mp-565765                                      0.203857   \n",
       " mp-757727                                           NaN   \n",
       " mp-558062                                      0.501655   \n",
       " mp-28261                                       0.145364   \n",
       " mp-22870                                       0.000000   \n",
       " mp-4651                                        0.280098   \n",
       " mp-23211                                       0.000004   \n",
       " mp-29606                                       0.340039   \n",
       " mp-27297                                       0.282149   \n",
       " mp-7404                                        0.157548   \n",
       " mp-6204                                        0.447476   \n",
       " mp-768605                                      0.215484   \n",
       " mp-753153                                      0.498291   \n",
       " mp-15560                                       0.123538   \n",
       " mp-438                                         0.288729   \n",
       " mp-582483                                      0.352706   \n",
       " mp-17730                                       0.319786   \n",
       " mp-704727                                      0.332489   \n",
       " mp-11147                                       0.361468   \n",
       " mp-685194                                      0.525703   \n",
       " mp-772290                                      0.075808   \n",
       " mp-13772                                       0.456612   \n",
       " mp-4991                                        0.088020   \n",
       " mp-583646                                      0.457475   \n",
       " mp-24901                                       0.197643   \n",
       " mp-4661                                        0.030902   \n",
       " mp-18651                                       0.185960   \n",
       " mp-30954                                       0.085956   \n",
       " mp-849597                                      0.205457   \n",
       " mp-9216                                        0.114623   \n",
       " mp-17672                                       0.312342   \n",
       " mp-754329                                      0.071618   \n",
       " mp-559903                                      0.275912   \n",
       " mp-561083                                      0.351440   \n",
       " mp-554583                                      0.181282   \n",
       " mp-18996                                       0.336302   \n",
       " mp-6692                                        0.316196   \n",
       " mp-696762                                      0.468848   \n",
       " mp-643074                                      0.667862   \n",
       " mp-23810                                       0.523939   \n",
       " mp-566266                                      0.266309   \n",
       " mp-677391                                      0.041529   \n",
       " mp-18609                                       0.453917   \n",
       " mp-16055                                       0.241147   \n",
       " mp-9066                                        0.196294   \n",
       " mp-752579                                      0.206036   \n",
       " mp-561207                                      0.459224   \n",
       " mp-16543                                       0.509319   \n",
       " mp-29680                                       0.124505   \n",
       " mp-546757                                      0.283460   \n",
       " mp-7703                                        0.145239   \n",
       " mp-567264                                      0.128561   \n",
       " mp-7000                                             NaN   \n",
       " mp-9063                                        0.531743   \n",
       " mp-555451                                      0.218618   \n",
       " \n",
       "            VoronoiFingerprint|mean Voro_dist_maximum  \\\n",
       " mp-565765                                   3.482405   \n",
       " mp-757727                                        NaN   \n",
       " mp-558062                                   5.159346   \n",
       " mp-28261                                    4.258599   \n",
       " mp-22870                                    4.692583   \n",
       " mp-4651                                     3.367575   \n",
       " mp-23211                                    4.521508   \n",
       " mp-29606                                    4.427941   \n",
       " mp-27297                                    4.879658   \n",
       " mp-7404                                     3.584540   \n",
       " mp-6204                                     3.565546   \n",
       " mp-768605                                   3.903285   \n",
       " mp-753153                                   3.879351   \n",
       " mp-15560                                    4.029880   \n",
       " mp-438                                      3.937262   \n",
       " mp-582483                                   3.822214   \n",
       " mp-17730                                    3.833576   \n",
       " mp-704727                                   4.051805   \n",
       " mp-11147                                    3.483547   \n",
       " mp-685194                                   3.476975   \n",
       " mp-772290                                   3.576378   \n",
       " mp-13772                                    3.688582   \n",
       " mp-4991                                     3.217277   \n",
       " mp-583646                                   3.825758   \n",
       " mp-24901                                    4.233217   \n",
       " mp-4661                                     3.826194   \n",
       " mp-18651                                    4.065976   \n",
       " mp-30954                                    5.915518   \n",
       " mp-849597                                   3.379384   \n",
       " mp-9216                                     3.634635   \n",
       " mp-17672                                    4.306302   \n",
       " mp-754329                                   3.921830   \n",
       " mp-559903                                   4.024765   \n",
       " mp-561083                                   3.776025   \n",
       " mp-554583                                   4.074563   \n",
       " mp-18996                                    3.764403   \n",
       " mp-6692                                     3.746390   \n",
       " mp-696762                                   4.054552   \n",
       " mp-643074                                   4.495845   \n",
       " mp-23810                                    4.492849   \n",
       " mp-566266                                   3.333549   \n",
       " mp-677391                                   3.930446   \n",
       " mp-18609                                    5.042549   \n",
       " mp-16055                                    4.326018   \n",
       " mp-9066                                     3.946605   \n",
       " mp-752579                                   3.878270   \n",
       " mp-561207                                   4.201077   \n",
       " mp-16543                                    4.801947   \n",
       " mp-29680                                    3.946357   \n",
       " mp-546757                                   4.432794   \n",
       " mp-7703                                     3.784061   \n",
       " mp-567264                                   4.071086   \n",
       " mp-7000                                          NaN   \n",
       " mp-9063                                     4.805798   \n",
       " mp-555451                                   4.385923   \n",
       " \n",
       "            VoronoiFingerprint|std_dev Voro_dist_maximum  \n",
       " mp-565765                                      0.590243  \n",
       " mp-757727                                           NaN  \n",
       " mp-558062                                      0.395791  \n",
       " mp-28261                                       0.412697  \n",
       " mp-22870                                       0.000000  \n",
       " mp-4651                                        0.299209  \n",
       " mp-23211                                       1.006953  \n",
       " mp-29606                                       0.447088  \n",
       " mp-27297                                       0.486113  \n",
       " mp-7404                                        0.199302  \n",
       " mp-6204                                        0.647978  \n",
       " mp-768605                                      0.224205  \n",
       " mp-753153                                      0.792803  \n",
       " mp-15560                                       0.659745  \n",
       " mp-438                                         0.255098  \n",
       " mp-582483                                      0.368411  \n",
       " mp-17730                                       0.331661  \n",
       " mp-704727                                      1.058017  \n",
       " mp-11147                                       0.783609  \n",
       " mp-685194                                      0.323247  \n",
       " mp-772290                                      0.291535  \n",
       " mp-13772                                       0.271700  \n",
       " mp-4991                                        0.705509  \n",
       " mp-583646                                      0.045900  \n",
       " mp-24901                                       0.560884  \n",
       " mp-4661                                        0.054194  \n",
       " mp-18651                                       0.292600  \n",
       " mp-30954                                       0.279265  \n",
       " mp-849597                                      0.697620  \n",
       " mp-9216                                        0.251927  \n",
       " mp-17672                                       0.526816  \n",
       " mp-754329                                      0.443407  \n",
       " mp-559903                                      0.391959  \n",
       " mp-561083                                      0.227989  \n",
       " mp-554583                                      0.485675  \n",
       " mp-18996                                       0.508648  \n",
       " mp-6692                                        0.584980  \n",
       " mp-696762                                      0.097360  \n",
       " mp-643074                                      0.448298  \n",
       " mp-23810                                       0.439540  \n",
       " mp-566266                                      0.455937  \n",
       " mp-677391                                      0.596330  \n",
       " mp-18609                                       0.160310  \n",
       " mp-16055                                       0.668869  \n",
       " mp-9066                                        0.243004  \n",
       " mp-752579                                      0.204625  \n",
       " mp-561207                                      0.710636  \n",
       " mp-16543                                       0.256957  \n",
       " mp-29680                                       0.682642  \n",
       " mp-546757                                      0.614383  \n",
       " mp-7703                                        0.656619  \n",
       " mp-567264                                      0.812102  \n",
       " mp-7000                                             NaN  \n",
       " mp-9063                                        0.880915  \n",
       " mp-555451                                      0.643174  \n",
       " \n",
       " [55 rows x 3019 columns],\n",
       "            refractive_index\n",
       " mp-565765          2.163126\n",
       " mp-757727          1.717683\n",
       " mp-558062          1.853271\n",
       " mp-28261           1.936348\n",
       " mp-22870           2.514004\n",
       " mp-4651            2.539366\n",
       " mp-23211           1.906444\n",
       " mp-29606           1.998390\n",
       " mp-27297           1.658395\n",
       " mp-7404            1.877657\n",
       " mp-6204            1.519992\n",
       " mp-768605          2.079540\n",
       " mp-753153          1.923363\n",
       " mp-15560           1.656810\n",
       " mp-438             2.846511\n",
       " mp-582483          1.671145\n",
       " mp-17730           1.859927\n",
       " mp-704727          1.840267\n",
       " mp-11147           1.855854\n",
       " mp-685194          2.313891\n",
       " mp-772290          2.385050\n",
       " mp-13772           1.787279\n",
       " mp-4991            2.100758\n",
       " mp-583646          1.869821\n",
       " mp-24901           2.192150\n",
       " mp-4661            2.028958\n",
       " mp-18651           2.202569\n",
       " mp-30954           1.785137\n",
       " mp-849597          2.106876\n",
       " mp-9216            2.384280\n",
       " mp-17672           1.567330\n",
       " mp-754329          2.255679\n",
       " mp-559903          1.924105\n",
       " mp-561083          1.825862\n",
       " mp-554583          1.632709\n",
       " mp-18996           2.333338\n",
       " mp-6692            2.084490\n",
       " mp-696762          1.586638\n",
       " mp-643074          1.554385\n",
       " mp-23810           1.825716\n",
       " mp-566266          2.005195\n",
       " mp-677391          2.138668\n",
       " mp-18609           2.804548\n",
       " mp-16055           1.620365\n",
       " mp-9066            1.647031\n",
       " mp-752579          2.076877\n",
       " mp-561207          2.040329\n",
       " mp-16543           2.024536\n",
       " mp-29680           2.525454\n",
       " mp-546757          1.865319\n",
       " mp-7703            2.189170\n",
       " mp-567264          1.452029\n",
       " mp-7000            1.553390\n",
       " mp-9063            1.750775\n",
       " mp-555451          2.003407,\n",
       "            AtomicOrbitals|HOMO_character  AtomicOrbitals|HOMO_element  \\\n",
       " mp-755116                            3.0                           78   \n",
       " mp-755478                            2.0                            8   \n",
       " mp-17998                             3.0                           45   \n",
       " mp-754065                            2.0                            8   \n",
       " mp-553961                            2.0                            8   \n",
       " ...                                  ...                          ...   \n",
       " mp-698480                            2.0                            8   \n",
       " mp-23740                             2.0                            8   \n",
       " mp-8333                              2.0                            9   \n",
       " mp-643898                            2.0                            8   \n",
       " mp-643364                            2.0                           17   \n",
       " \n",
       "            AtomicOrbitals|HOMO_energy  AtomicOrbitals|LUMO_character  \\\n",
       " mp-755116                   -0.273634                            3.0   \n",
       " mp-755478                   -0.338381                            2.0   \n",
       " mp-17998                    -0.239422                            3.0   \n",
       " mp-754065                   -0.338381                            2.0   \n",
       " mp-553961                   -0.338381                            1.0   \n",
       " ...                               ...                            ...   \n",
       " mp-698480                   -0.338381                            2.0   \n",
       " mp-23740                    -0.338381                            2.0   \n",
       " mp-8333                     -0.415606                            1.0   \n",
       " mp-643898                   -0.338381                            2.0   \n",
       " mp-643364                   -0.320380                            1.0   \n",
       " \n",
       "            AtomicOrbitals|LUMO_element  AtomicOrbitals|LUMO_energy  \\\n",
       " mp-755116                           78                   -0.273634   \n",
       " mp-755478                            8                   -0.338381   \n",
       " mp-17998                            45                   -0.239422   \n",
       " mp-754065                            8                   -0.338381   \n",
       " mp-553961                           21                   -0.156478   \n",
       " ...                                ...                         ...   \n",
       " mp-698480                            8                   -0.338381   \n",
       " mp-23740                             8                   -0.338381   \n",
       " mp-8333                             50                   -0.369349   \n",
       " mp-643898                            8                   -0.338381   \n",
       " mp-643364                            1                   -0.233471   \n",
       " \n",
       "            AtomicOrbitals|gap_AO  BandCenter|band center  ElementFraction|H  \\\n",
       " mp-755116               0.000000                6.051284           0.000000   \n",
       " mp-755478               0.000000                6.024243           0.000000   \n",
       " mp-17998                0.000000                5.647579           0.000000   \n",
       " mp-754065               0.000000                6.564022           0.000000   \n",
       " mp-553961               0.181903                5.889380           0.000000   \n",
       " ...                          ...                     ...                ...   \n",
       " mp-698480               0.000000                6.683011           0.117647   \n",
       " mp-23740                0.000000                6.240630           0.111111   \n",
       " mp-8333                 0.046257                6.905370           0.000000   \n",
       " mp-643898               0.000000                6.606102           0.166667   \n",
       " mp-643364               0.086909                6.463949           0.250000   \n",
       " \n",
       "            ElementFraction|He  ...  VoronoiFingerprint|mean Voro_area_maximum  \\\n",
       " mp-755116                   0  ...                                   4.400785   \n",
       " mp-755478                   0  ...                                   6.704337   \n",
       " mp-17998                    0  ...                                   4.414231   \n",
       " mp-754065                   0  ...                                   5.273731   \n",
       " mp-553961                   0  ...                                   5.049319   \n",
       " ...                       ...  ...                                        ...   \n",
       " mp-698480                   0  ...                                   6.755468   \n",
       " mp-23740                    0  ...                                   5.763350   \n",
       " mp-8333                     0  ...                                   5.565581   \n",
       " mp-643898                   0  ...                                   7.189942   \n",
       " mp-643364                   0  ...                                   7.524773   \n",
       " \n",
       "            VoronoiFingerprint|std_dev Voro_area_maximum  \\\n",
       " mp-755116                                      0.132124   \n",
       " mp-755478                                      0.361393   \n",
       " mp-17998                                       0.340455   \n",
       " mp-754065                                      0.608247   \n",
       " mp-553961                                      0.215777   \n",
       " ...                                                 ...   \n",
       " mp-698480                                      1.877188   \n",
       " mp-23740                                       0.537519   \n",
       " mp-8333                                        0.726489   \n",
       " mp-643898                                      1.023553   \n",
       " mp-643364                                      1.977526   \n",
       " \n",
       "            VoronoiFingerprint|mean Voro_dist_mean  \\\n",
       " mp-755116                                2.736224   \n",
       " mp-755478                                3.150719   \n",
       " mp-17998                                 2.716448   \n",
       " mp-754065                                2.837959   \n",
       " mp-553961                                2.753045   \n",
       " ...                                           ...   \n",
       " mp-698480                                3.122917   \n",
       " mp-23740                                 2.868246   \n",
       " mp-8333                                  3.043532   \n",
       " mp-643898                                3.008393   \n",
       " mp-643364                                3.307768   \n",
       " \n",
       "            VoronoiFingerprint|std_dev Voro_dist_mean  \\\n",
       " mp-755116                                   0.208690   \n",
       " mp-755478                                   0.185900   \n",
       " mp-17998                                    0.163359   \n",
       " mp-754065                                   0.437157   \n",
       " mp-553961                                   0.260710   \n",
       " ...                                              ...   \n",
       " mp-698480                                   0.205950   \n",
       " mp-23740                                    0.163738   \n",
       " mp-8333                                     0.446536   \n",
       " mp-643898                                   0.177974   \n",
       " mp-643364                                   0.193069   \n",
       " \n",
       "            VoronoiFingerprint|mean Voro_dist_std_dev  \\\n",
       " mp-755116                                   0.467059   \n",
       " mp-755478                                   0.630736   \n",
       " mp-17998                                    0.463026   \n",
       " mp-754065                                   0.465939   \n",
       " mp-553961                                   0.518376   \n",
       " ...                                              ...   \n",
       " mp-698480                                   0.800698   \n",
       " mp-23740                                    0.677551   \n",
       " mp-8333                                     0.534483   \n",
       " mp-643898                                   0.830685   \n",
       " mp-643364                                   0.708441   \n",
       " \n",
       "            VoronoiFingerprint|std_dev Voro_dist_std_dev  \\\n",
       " mp-755116                                      0.210464   \n",
       " mp-755478                                      0.106049   \n",
       " mp-17998                                       0.088636   \n",
       " mp-754065                                      0.250315   \n",
       " mp-553961                                      0.048432   \n",
       " ...                                                 ...   \n",
       " mp-698480                                      0.131879   \n",
       " mp-23740                                       0.116411   \n",
       " mp-8333                                        0.195537   \n",
       " mp-643898                                      0.125279   \n",
       " mp-643364                                      0.186040   \n",
       " \n",
       "            VoronoiFingerprint|mean Voro_dist_minimum  \\\n",
       " mp-755116                                   2.064988   \n",
       " mp-755478                                   2.219102   \n",
       " mp-17998                                    2.120453   \n",
       " mp-754065                                   2.069003   \n",
       " mp-553961                                   1.985772   \n",
       " ...                                              ...   \n",
       " mp-698480                                   1.619887   \n",
       " mp-23740                                    1.523910   \n",
       " mp-8333                                     2.137459   \n",
       " mp-643898                                   1.418778   \n",
       " mp-643364                                   1.787393   \n",
       " \n",
       "            VoronoiFingerprint|std_dev Voro_dist_minimum  \\\n",
       " mp-755116                                      0.078563   \n",
       " mp-755478                                      0.068728   \n",
       " mp-17998                                       0.112051   \n",
       " mp-754065                                      0.132846   \n",
       " mp-553961                                      0.073579   \n",
       " ...                                                 ...   \n",
       " mp-698480                                      0.417271   \n",
       " mp-23740                                       0.349452   \n",
       " mp-8333                                        0.299796   \n",
       " mp-643898                                      0.341007   \n",
       " mp-643364                                      0.818630   \n",
       " \n",
       "            VoronoiFingerprint|mean Voro_dist_maximum  \\\n",
       " mp-755116                                   3.377776   \n",
       " mp-755478                                   4.084165   \n",
       " mp-17998                                    3.501111   \n",
       " mp-754065                                   3.796428   \n",
       " mp-553961                                   3.874981   \n",
       " ...                                              ...   \n",
       " mp-698480                                   4.356481   \n",
       " mp-23740                                    3.742030   \n",
       " mp-8333                                     4.097413   \n",
       " mp-643898                                   4.319112   \n",
       " mp-643364                                   4.314413   \n",
       " \n",
       "            VoronoiFingerprint|std_dev Voro_dist_maximum  \n",
       " mp-755116                                      0.458776  \n",
       " mp-755478                                      0.184609  \n",
       " mp-17998                                       0.171479  \n",
       " mp-754065                                      0.976473  \n",
       " mp-553961                                      0.420384  \n",
       " ...                                                 ...  \n",
       " mp-698480                                      0.277054  \n",
       " mp-23740                                       0.160967  \n",
       " mp-8333                                        0.772753  \n",
       " mp-643898                                      0.269283  \n",
       " mp-643364                                      0.182805  \n",
       " \n",
       " [3951 rows x 3019 columns],\n",
       "            refractive_index\n",
       " mp-755116          2.791720\n",
       " mp-755478          2.658730\n",
       " mp-17998           3.213239\n",
       " mp-754065          2.292469\n",
       " mp-553961          2.377982\n",
       " ...                     ...\n",
       " mp-698480          1.992462\n",
       " mp-23740           1.613571\n",
       " mp-8333            1.405306\n",
       " mp-643898          1.554638\n",
       " mp-643364          2.155361\n",
       " \n",
       " [3951 rows x 1 columns],\n",
       " (           refractive_index\n",
       "  mp-755116          1.997287\n",
       "  mp-755478          2.095429\n",
       "  mp-17998           2.013311\n",
       "  mp-754065          2.183811\n",
       "  mp-553961          2.295737\n",
       "  ...                     ...\n",
       "  mp-698480          1.985248\n",
       "  mp-23740           1.864250\n",
       "  mp-8333            1.812832\n",
       "  mp-643898          1.981086\n",
       "  mp-643364          1.709984\n",
       "  \n",
       "  [3951 rows x 1 columns],\n",
       "             refractive_index\n",
       "  mp-755116          0.195850\n",
       "  mp-755478          0.094537\n",
       "  mp-17998           0.182076\n",
       "  mp-754065          0.363351\n",
       "  mp-553961          0.249607\n",
       "  ...                     ...\n",
       "  mp-698480          0.459968\n",
       "  mp-23740           0.194236\n",
       "  mp-8333            0.203284\n",
       "  mp-643898          0.295655\n",
       "  mp-643364          0.181490\n",
       "  \n",
       "  [3951 rows x 1 columns]),\n",
       " <modnet.models.ensemble.EnsembleMODNetModel at 0x7f16fe0384f0>,\n",
       " {'pred_mae': [0.24810571496193082, 0.3588304640103218],\n",
       "  'pred_rmse': [0.09719445470218155, 0.19752102525459597],\n",
       "  'pred_spr': [0.23426382047071703, -0.15506715506715504],\n",
       "  'unc_mae': [0.23870889097452164, 0.2526322785351012],\n",
       "  'unc_rmse': [0.07637761153109789, 0.07292620403564523]})"
      ]
     },
     "execution_count": 29,
     "metadata": {},
     "output_type": "execute_result"
    },
    {
     "data": {
      "image/png": "[encoded data removed]",
      "text/plain": [
       "<Figure size 1000x500 with 1 Axes>"
      ]
     },
     "metadata": {},
     "output_type": "display_data"
    },
    {
     "data": {
      "image/png": "[encoded data removed]",
      "text/plain": [
       "<Figure size 1000x500 with 1 Axes>"
      ]
     },
     "metadata": {},
     "output_type": "display_data"
    }
   ],
   "source": [
    "model_params={\n",
    "    'size_pop':2, # dflt 20\n",
    "    'num_generations':2, # dflt 10\n",
    "    'nested':0, # dflt = 5\n",
    "    'n_jobs':2,\n",
    "    'early_stopping':2, # dflt 4\n",
    "    'refit':5, # dflt = 5\n",
    "    'fast':False,\n",
    "    }\n",
    "\n",
    "mdw.actilearn(\n",
    "    structures=None,\n",
    "    ids=None,\n",
    "    X=None,\n",
    "    Y=None,\n",
    "    md_feat=None,\n",
    "    md_featselec=md_featselec,\n",
    "    start_frac=None,\n",
    "    start_n=50,\n",
    "    start_set=None,\n",
    "    start_state=42,\n",
    "    ncycles=2,\n",
    "    accuracy=None,\n",
    "    accuracy_type=None,\n",
    "    end_set=None,\n",
    "    model_type=FitGenetic,\n",
    "    model_params=model_params,\n",
    "    cv_k=2,\n",
    "    cv_state=42,\n",
    "    acquisition=None,\n",
    "    acquisition_kwargs=None,\n",
    "    acquisition_n=5,\n",
    "    acquisition_frac=None,\n",
    "    featurize_cycle=None,\n",
    "    featurize_cv=None,\n",
    "    featselec_cycle=None,\n",
    "    featselec_cv=None,\n",
    ")"
   ]
  },
  {
   "cell_type": "code",
   "execution_count": null,
   "metadata": {},
   "outputs": [],
   "source": []
  }
 ],
 "metadata": {
  "kernelspec": {
   "display_name": "modnenv_v2",
   "language": "python",
   "name": "python3"
  },
  "language_info": {
   "codemirror_mode": {
    "name": "ipython",
    "version": 3
   },
   "file_extension": ".py",
   "mimetype": "text/x-python",
   "name": "python",
   "nbconvert_exporter": "python",
   "pygments_lexer": "ipython3",
   "version": "3.9.18"
  }
 },
 "nbformat": 4,
 "nbformat_minor": 2
}
